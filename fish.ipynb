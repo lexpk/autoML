{
 "cells": [
  {
   "cell_type": "code",
   "execution_count": 2,
   "id": "1ab29a7a",
   "metadata": {},
   "outputs": [],
   "source": [
    "from autoML import AutoML\n",
    "from autosklearn.regression import AutoSklearnRegressor\n",
    "import pandas as pd\n",
    "import sklearn as sk\n",
    "import numpy as np"
   ]
  },
  {
   "cell_type": "markdown",
   "id": "b570b832",
   "metadata": {},
   "source": [
    "## Loading the data"
   ]
  },
  {
   "cell_type": "code",
   "execution_count": 3,
   "id": "c30136ea",
   "metadata": {},
   "outputs": [
    {
     "output_type": "stream",
     "name": "stdout",
     "text": [
      "  Species  Weight  Length1  Length2  Length3   Height   Width\n0   Bream   242.0     23.2     25.4     30.0  11.5200  4.0200\n1   Bream   290.0     24.0     26.3     31.2  12.4800  4.3056\n2   Bream   340.0     23.9     26.5     31.1  12.3778  4.6961\n3   Bream   363.0     26.3     29.0     33.5  12.7300  4.4555\n4   Bream   430.0     26.5     29.0     34.0  12.4440  5.1340\nData shape: (159, 7)\n"
     ]
    }
   ],
   "source": [
    "data = pd.read_csv(\"datasets/Fish.csv\")\n",
    "print(data.head())\n",
    "print(\"Data shape:\", data.shape)"
   ]
  },
  {
   "cell_type": "markdown",
   "id": "4ede6f05",
   "metadata": {},
   "source": [
    "## Split into test and training set"
   ]
  },
  {
   "cell_type": "code",
   "execution_count": 4,
   "id": "289398ee",
   "metadata": {},
   "outputs": [
    {
     "output_type": "execute_result",
     "data": {
      "text/plain": [
       "((127, 7), (32, 7))"
      ]
     },
     "metadata": {},
     "execution_count": 4
    }
   ],
   "source": [
    "from sklearn.model_selection import train_test_split\n",
    "\n",
    "train, test = train_test_split(data, test_size=0.2)\n",
    "\n",
    "train.shape, test.shape"
   ]
  },
  {
   "cell_type": "markdown",
   "id": "7a0c4707",
   "metadata": {},
   "source": [
    "## Get knowledge over dataset"
   ]
  },
  {
   "cell_type": "code",
   "execution_count": 5,
   "id": "a103a896",
   "metadata": {},
   "outputs": [
    {
     "output_type": "execute_result",
     "data": {
      "text/plain": [
       "    Species  Weight  Length1  Length2  Length3   Height   Width\n",
       "7     Bream   390.0     27.6     30.0     35.0  12.6700  4.6900\n",
       "95    Perch   170.0     21.5     23.5     25.0   6.2750  3.7250\n",
       "63   Parkki    90.0     16.3     17.7     19.8   7.4052  2.6730\n",
       "110   Perch   556.0     32.0     34.5     36.5  10.2565  6.3875\n",
       "8     Bream   450.0     27.6     30.0     35.1  14.0049  4.8438"
      ],
      "text/html": "<div>\n<style scoped>\n    .dataframe tbody tr th:only-of-type {\n        vertical-align: middle;\n    }\n\n    .dataframe tbody tr th {\n        vertical-align: top;\n    }\n\n    .dataframe thead th {\n        text-align: right;\n    }\n</style>\n<table border=\"1\" class=\"dataframe\">\n  <thead>\n    <tr style=\"text-align: right;\">\n      <th></th>\n      <th>Species</th>\n      <th>Weight</th>\n      <th>Length1</th>\n      <th>Length2</th>\n      <th>Length3</th>\n      <th>Height</th>\n      <th>Width</th>\n    </tr>\n  </thead>\n  <tbody>\n    <tr>\n      <th>7</th>\n      <td>Bream</td>\n      <td>390.0</td>\n      <td>27.6</td>\n      <td>30.0</td>\n      <td>35.0</td>\n      <td>12.6700</td>\n      <td>4.6900</td>\n    </tr>\n    <tr>\n      <th>95</th>\n      <td>Perch</td>\n      <td>170.0</td>\n      <td>21.5</td>\n      <td>23.5</td>\n      <td>25.0</td>\n      <td>6.2750</td>\n      <td>3.7250</td>\n    </tr>\n    <tr>\n      <th>63</th>\n      <td>Parkki</td>\n      <td>90.0</td>\n      <td>16.3</td>\n      <td>17.7</td>\n      <td>19.8</td>\n      <td>7.4052</td>\n      <td>2.6730</td>\n    </tr>\n    <tr>\n      <th>110</th>\n      <td>Perch</td>\n      <td>556.0</td>\n      <td>32.0</td>\n      <td>34.5</td>\n      <td>36.5</td>\n      <td>10.2565</td>\n      <td>6.3875</td>\n    </tr>\n    <tr>\n      <th>8</th>\n      <td>Bream</td>\n      <td>450.0</td>\n      <td>27.6</td>\n      <td>30.0</td>\n      <td>35.1</td>\n      <td>14.0049</td>\n      <td>4.8438</td>\n    </tr>\n  </tbody>\n</table>\n</div>"
     },
     "metadata": {},
     "execution_count": 5
    }
   ],
   "source": [
    "train.head()"
   ]
  },
  {
   "cell_type": "markdown",
   "id": "d14b86e0",
   "metadata": {},
   "source": [
    "The dataset has 7 attributes (incl. the target attribute *weight*). The attributes *Length1*, *Length2*, *Length3*, *Height* and *Width* are numerical. The attribute *Species* is nominal."
   ]
  },
  {
   "cell_type": "code",
   "execution_count": 6,
   "id": "581df200",
   "metadata": {},
   "outputs": [
    {
     "output_type": "execute_result",
     "data": {
      "text/plain": [
       "            Weight     Length1     Length2     Length3      Height       Width\n",
       "count   127.000000  127.000000  127.000000  127.000000  127.000000  127.000000\n",
       "mean    388.010236   25.877165   28.039370   30.848819    9.119028    4.425331\n",
       "std     334.903664    9.222997    9.874403   10.774668    4.343353    1.673539\n",
       "min       5.900000    7.500000    8.400000    8.800000    1.738800    1.047600\n",
       "25%     120.000000   19.050000   21.000000   22.950000    5.865500    3.385650\n",
       "50%     273.000000   25.000000   27.000000   30.100000    7.792000    4.234000\n",
       "75%     630.000000   32.350000   35.500000   39.550000   12.455650    5.658300\n",
       "max    1550.000000   56.000000   60.000000   64.000000   18.957000    8.142000"
      ],
      "text/html": "<div>\n<style scoped>\n    .dataframe tbody tr th:only-of-type {\n        vertical-align: middle;\n    }\n\n    .dataframe tbody tr th {\n        vertical-align: top;\n    }\n\n    .dataframe thead th {\n        text-align: right;\n    }\n</style>\n<table border=\"1\" class=\"dataframe\">\n  <thead>\n    <tr style=\"text-align: right;\">\n      <th></th>\n      <th>Weight</th>\n      <th>Length1</th>\n      <th>Length2</th>\n      <th>Length3</th>\n      <th>Height</th>\n      <th>Width</th>\n    </tr>\n  </thead>\n  <tbody>\n    <tr>\n      <th>count</th>\n      <td>127.000000</td>\n      <td>127.000000</td>\n      <td>127.000000</td>\n      <td>127.000000</td>\n      <td>127.000000</td>\n      <td>127.000000</td>\n    </tr>\n    <tr>\n      <th>mean</th>\n      <td>388.010236</td>\n      <td>25.877165</td>\n      <td>28.039370</td>\n      <td>30.848819</td>\n      <td>9.119028</td>\n      <td>4.425331</td>\n    </tr>\n    <tr>\n      <th>std</th>\n      <td>334.903664</td>\n      <td>9.222997</td>\n      <td>9.874403</td>\n      <td>10.774668</td>\n      <td>4.343353</td>\n      <td>1.673539</td>\n    </tr>\n    <tr>\n      <th>min</th>\n      <td>5.900000</td>\n      <td>7.500000</td>\n      <td>8.400000</td>\n      <td>8.800000</td>\n      <td>1.738800</td>\n      <td>1.047600</td>\n    </tr>\n    <tr>\n      <th>25%</th>\n      <td>120.000000</td>\n      <td>19.050000</td>\n      <td>21.000000</td>\n      <td>22.950000</td>\n      <td>5.865500</td>\n      <td>3.385650</td>\n    </tr>\n    <tr>\n      <th>50%</th>\n      <td>273.000000</td>\n      <td>25.000000</td>\n      <td>27.000000</td>\n      <td>30.100000</td>\n      <td>7.792000</td>\n      <td>4.234000</td>\n    </tr>\n    <tr>\n      <th>75%</th>\n      <td>630.000000</td>\n      <td>32.350000</td>\n      <td>35.500000</td>\n      <td>39.550000</td>\n      <td>12.455650</td>\n      <td>5.658300</td>\n    </tr>\n    <tr>\n      <th>max</th>\n      <td>1550.000000</td>\n      <td>56.000000</td>\n      <td>60.000000</td>\n      <td>64.000000</td>\n      <td>18.957000</td>\n      <td>8.142000</td>\n    </tr>\n  </tbody>\n</table>\n</div>"
     },
     "metadata": {},
     "execution_count": 6
    }
   ],
   "source": [
    "train.describe()"
   ]
  },
  {
   "cell_type": "code",
   "execution_count": 7,
   "id": "6bd75530",
   "metadata": {},
   "outputs": [
    {
     "output_type": "execute_result",
     "data": {
      "text/plain": [
       "{'Bream', 'Parkki', 'Perch', 'Pike', 'Roach', 'Smelt', 'Whitefish'}"
      ]
     },
     "metadata": {},
     "execution_count": 7
    }
   ],
   "source": [
    "set(train[\"Species\"])"
   ]
  },
  {
   "cell_type": "code",
   "execution_count": 8,
   "id": "14f403ba",
   "metadata": {},
   "outputs": [
    {
     "output_type": "execute_result",
     "data": {
      "text/plain": [
       "<AxesSubplot:ylabel='Species'>"
      ]
     },
     "metadata": {},
     "execution_count": 8
    },
    {
     "output_type": "display_data",
     "data": {
      "text/plain": "<Figure size 432x288 with 1 Axes>",
      "image/svg+xml": "<?xml version=\"1.0\" encoding=\"utf-8\" standalone=\"no\"?>\n<!DOCTYPE svg PUBLIC \"-//W3C//DTD SVG 1.1//EN\"\n  \"http://www.w3.org/Graphics/SVG/1.1/DTD/svg11.dtd\">\n<svg height=\"231.84pt\" version=\"1.1\" viewBox=\"0 0 279.451122 231.84\" width=\"279.451122pt\" xmlns=\"http://www.w3.org/2000/svg\" xmlns:xlink=\"http://www.w3.org/1999/xlink\">\n <metadata>\n  <rdf:RDF xmlns:cc=\"http://creativecommons.org/ns#\" xmlns:dc=\"http://purl.org/dc/elements/1.1/\" xmlns:rdf=\"http://www.w3.org/1999/02/22-rdf-syntax-ns#\">\n   <cc:Work>\n    <dc:type rdf:resource=\"http://purl.org/dc/dcmitype/StillImage\"/>\n    <dc:date>2021-07-07T22:13:04.149714</dc:date>\n    <dc:format>image/svg+xml</dc:format>\n    <dc:creator>\n     <cc:Agent>\n      <dc:title>Matplotlib v3.4.2, https://matplotlib.org/</dc:title>\n     </cc:Agent>\n    </dc:creator>\n   </cc:Work>\n  </rdf:RDF>\n </metadata>\n <defs>\n  <style type=\"text/css\">*{stroke-linecap:butt;stroke-linejoin:round;}</style>\n </defs>\n <g id=\"figure_1\">\n  <g id=\"patch_1\">\n   <path d=\"M 0 231.84 \nL 279.451122 231.84 \nL 279.451122 0 \nL 0 0 \nz\n\" style=\"fill:none;\"/>\n  </g>\n  <g id=\"axes_1\">\n   <g id=\"patch_2\">\n    <path d=\"M 217.362517 115.92 \nC 217.362517 94.161121 209.197354 73.175113 194.491757 57.137837 \nC 179.786161 41.10056 159.58481 31.151297 137.907432 29.269781 \nL 130.386517 115.92 \nL 217.362517 115.92 \nz\n\" style=\"fill:#1f77b4;\"/>\n   </g>\n   <g id=\"patch_3\">\n    <path d=\"M 137.907432 29.269781 \nC 131.470413 28.711072 124.991133 28.871383 118.58962 29.747743 \nC 112.188107 30.624104 105.904135 32.21107 99.854113 34.479243 \nL 130.386517 115.92 \nL 137.907432 29.269781 \nz\n\" style=\"fill:#ff7f0e;\"/>\n   </g>\n   <g id=\"patch_4\">\n    <path d=\"M 99.854113 34.479243 \nC 83.619954 40.565482 69.570516 51.369022 59.519052 65.495532 \nC 49.467588 79.622043 43.86596 96.43647 43.437127 113.768704 \nC 43.008293 131.100937 47.771534 148.171811 57.112092 162.778118 \nC 66.45265 177.384425 79.950624 188.869541 95.863933 195.75117 \nL 130.386517 115.92 \nL 99.854113 34.479243 \nz\n\" style=\"fill:#2ca02c;\"/>\n   </g>\n   <g id=\"patch_5\">\n    <path d=\"M 95.863933 195.75117 \nC 102.454912 198.601406 109.373576 200.624461 116.461817 201.774105 \nC 123.550059 202.923749 130.753471 203.191157 137.907441 202.570218 \nL 130.386517 115.92 \nL 95.863933 195.75117 \nz\n\" style=\"fill:#d62728;\"/>\n   </g>\n   <g id=\"patch_6\">\n    <path d=\"M 137.907441 202.570218 \nC 148.655398 201.637334 159.136567 198.712802 168.814817 193.946216 \nC 178.493067 189.179629 187.200516 182.653672 194.491763 174.702157 \nL 130.386517 115.92 \nL 137.907441 202.570218 \nz\n\" style=\"fill:#9467bd;\"/>\n   </g>\n   <g id=\"patch_7\">\n    <path d=\"M 194.491763 174.702157 \nC 199.344905 169.409534 203.52397 163.536199 206.933459 157.21637 \nC 210.342949 150.896542 212.956691 144.178729 214.714957 137.216449 \nL 130.386517 115.92 \nL 194.491763 174.702157 \nz\n\" style=\"fill:#8c564b;\"/>\n   </g>\n   <g id=\"patch_8\">\n    <path d=\"M 214.714957 137.216449 \nC 215.593252 133.738627 216.255562 130.2098 216.69809 126.650192 \nC 217.140618 123.090583 217.362517 119.507005 217.362517 115.919994 \nL 130.386517 115.92 \nL 214.714957 137.216449 \nz\n\" style=\"fill:#e377c2;\"/>\n   </g>\n   <g id=\"matplotlib.axis_1\"/>\n   <g id=\"matplotlib.axis_2\">\n    <g id=\"text_1\">\n     <!-- Species -->\n     <g transform=\"translate(15.586829 135.164531)rotate(-90)scale(0.1 -0.1)\">\n      <defs>\n       <path d=\"M 3425 4513 \nL 3425 3897 \nQ 3066 4069 2747 4153 \nQ 2428 4238 2131 4238 \nQ 1616 4238 1336 4038 \nQ 1056 3838 1056 3469 \nQ 1056 3159 1242 3001 \nQ 1428 2844 1947 2747 \nL 2328 2669 \nQ 3034 2534 3370 2195 \nQ 3706 1856 3706 1288 \nQ 3706 609 3251 259 \nQ 2797 -91 1919 -91 \nQ 1588 -91 1214 -16 \nQ 841 59 441 206 \nL 441 856 \nQ 825 641 1194 531 \nQ 1563 422 1919 422 \nQ 2459 422 2753 634 \nQ 3047 847 3047 1241 \nQ 3047 1584 2836 1778 \nQ 2625 1972 2144 2069 \nL 1759 2144 \nQ 1053 2284 737 2584 \nQ 422 2884 422 3419 \nQ 422 4038 858 4394 \nQ 1294 4750 2059 4750 \nQ 2388 4750 2728 4690 \nQ 3069 4631 3425 4513 \nz\n\" id=\"DejaVuSans-53\" transform=\"scale(0.015625)\"/>\n       <path d=\"M 1159 525 \nL 1159 -1331 \nL 581 -1331 \nL 581 3500 \nL 1159 3500 \nL 1159 2969 \nQ 1341 3281 1617 3432 \nQ 1894 3584 2278 3584 \nQ 2916 3584 3314 3078 \nQ 3713 2572 3713 1747 \nQ 3713 922 3314 415 \nQ 2916 -91 2278 -91 \nQ 1894 -91 1617 61 \nQ 1341 213 1159 525 \nz\nM 3116 1747 \nQ 3116 2381 2855 2742 \nQ 2594 3103 2138 3103 \nQ 1681 3103 1420 2742 \nQ 1159 2381 1159 1747 \nQ 1159 1113 1420 752 \nQ 1681 391 2138 391 \nQ 2594 391 2855 752 \nQ 3116 1113 3116 1747 \nz\n\" id=\"DejaVuSans-70\" transform=\"scale(0.015625)\"/>\n       <path d=\"M 3597 1894 \nL 3597 1613 \nL 953 1613 \nQ 991 1019 1311 708 \nQ 1631 397 2203 397 \nQ 2534 397 2845 478 \nQ 3156 559 3463 722 \nL 3463 178 \nQ 3153 47 2828 -22 \nQ 2503 -91 2169 -91 \nQ 1331 -91 842 396 \nQ 353 884 353 1716 \nQ 353 2575 817 3079 \nQ 1281 3584 2069 3584 \nQ 2775 3584 3186 3129 \nQ 3597 2675 3597 1894 \nz\nM 3022 2063 \nQ 3016 2534 2758 2815 \nQ 2500 3097 2075 3097 \nQ 1594 3097 1305 2825 \nQ 1016 2553 972 2059 \nL 3022 2063 \nz\n\" id=\"DejaVuSans-65\" transform=\"scale(0.015625)\"/>\n       <path d=\"M 3122 3366 \nL 3122 2828 \nQ 2878 2963 2633 3030 \nQ 2388 3097 2138 3097 \nQ 1578 3097 1268 2742 \nQ 959 2388 959 1747 \nQ 959 1106 1268 751 \nQ 1578 397 2138 397 \nQ 2388 397 2633 464 \nQ 2878 531 3122 666 \nL 3122 134 \nQ 2881 22 2623 -34 \nQ 2366 -91 2075 -91 \nQ 1284 -91 818 406 \nQ 353 903 353 1747 \nQ 353 2603 823 3093 \nQ 1294 3584 2113 3584 \nQ 2378 3584 2631 3529 \nQ 2884 3475 3122 3366 \nz\n\" id=\"DejaVuSans-63\" transform=\"scale(0.015625)\"/>\n       <path d=\"M 603 3500 \nL 1178 3500 \nL 1178 0 \nL 603 0 \nL 603 3500 \nz\nM 603 4863 \nL 1178 4863 \nL 1178 4134 \nL 603 4134 \nL 603 4863 \nz\n\" id=\"DejaVuSans-69\" transform=\"scale(0.015625)\"/>\n       <path d=\"M 2834 3397 \nL 2834 2853 \nQ 2591 2978 2328 3040 \nQ 2066 3103 1784 3103 \nQ 1356 3103 1142 2972 \nQ 928 2841 928 2578 \nQ 928 2378 1081 2264 \nQ 1234 2150 1697 2047 \nL 1894 2003 \nQ 2506 1872 2764 1633 \nQ 3022 1394 3022 966 \nQ 3022 478 2636 193 \nQ 2250 -91 1575 -91 \nQ 1294 -91 989 -36 \nQ 684 19 347 128 \nL 347 722 \nQ 666 556 975 473 \nQ 1284 391 1588 391 \nQ 1994 391 2212 530 \nQ 2431 669 2431 922 \nQ 2431 1156 2273 1281 \nQ 2116 1406 1581 1522 \nL 1381 1569 \nQ 847 1681 609 1914 \nQ 372 2147 372 2553 \nQ 372 3047 722 3315 \nQ 1072 3584 1716 3584 \nQ 2034 3584 2315 3537 \nQ 2597 3491 2834 3397 \nz\n\" id=\"DejaVuSans-73\" transform=\"scale(0.015625)\"/>\n      </defs>\n      <use xlink:href=\"#DejaVuSans-53\"/>\n      <use x=\"63.476562\" xlink:href=\"#DejaVuSans-70\"/>\n      <use x=\"126.953125\" xlink:href=\"#DejaVuSans-65\"/>\n      <use x=\"188.476562\" xlink:href=\"#DejaVuSans-63\"/>\n      <use x=\"243.457031\" xlink:href=\"#DejaVuSans-69\"/>\n      <use x=\"271.240234\" xlink:href=\"#DejaVuSans-65\"/>\n      <use x=\"332.763672\" xlink:href=\"#DejaVuSans-73\"/>\n     </g>\n    </g>\n   </g>\n   <g id=\"text_2\">\n    <!-- Bream -->\n    <g transform=\"translate(200.902282 54.018995)scale(0.1 -0.1)\">\n     <defs>\n      <path d=\"M 1259 2228 \nL 1259 519 \nL 2272 519 \nQ 2781 519 3026 730 \nQ 3272 941 3272 1375 \nQ 3272 1813 3026 2020 \nQ 2781 2228 2272 2228 \nL 1259 2228 \nz\nM 1259 4147 \nL 1259 2741 \nL 2194 2741 \nQ 2656 2741 2882 2914 \nQ 3109 3088 3109 3444 \nQ 3109 3797 2882 3972 \nQ 2656 4147 2194 4147 \nL 1259 4147 \nz\nM 628 4666 \nL 2241 4666 \nQ 2963 4666 3353 4366 \nQ 3744 4066 3744 3513 \nQ 3744 3084 3544 2831 \nQ 3344 2578 2956 2516 \nQ 3422 2416 3680 2098 \nQ 3938 1781 3938 1306 \nQ 3938 681 3513 340 \nQ 3088 0 2303 0 \nL 628 0 \nL 628 4666 \nz\n\" id=\"DejaVuSans-42\" transform=\"scale(0.015625)\"/>\n      <path d=\"M 2631 2963 \nQ 2534 3019 2420 3045 \nQ 2306 3072 2169 3072 \nQ 1681 3072 1420 2755 \nQ 1159 2438 1159 1844 \nL 1159 0 \nL 581 0 \nL 581 3500 \nL 1159 3500 \nL 1159 2956 \nQ 1341 3275 1631 3429 \nQ 1922 3584 2338 3584 \nQ 2397 3584 2469 3576 \nQ 2541 3569 2628 3553 \nL 2631 2963 \nz\n\" id=\"DejaVuSans-72\" transform=\"scale(0.015625)\"/>\n      <path d=\"M 2194 1759 \nQ 1497 1759 1228 1600 \nQ 959 1441 959 1056 \nQ 959 750 1161 570 \nQ 1363 391 1709 391 \nQ 2188 391 2477 730 \nQ 2766 1069 2766 1631 \nL 2766 1759 \nL 2194 1759 \nz\nM 3341 1997 \nL 3341 0 \nL 2766 0 \nL 2766 531 \nQ 2569 213 2275 61 \nQ 1981 -91 1556 -91 \nQ 1019 -91 701 211 \nQ 384 513 384 1019 \nQ 384 1609 779 1909 \nQ 1175 2209 1959 2209 \nL 2766 2209 \nL 2766 2266 \nQ 2766 2663 2505 2880 \nQ 2244 3097 1772 3097 \nQ 1472 3097 1187 3025 \nQ 903 2953 641 2809 \nL 641 3341 \nQ 956 3463 1253 3523 \nQ 1550 3584 1831 3584 \nQ 2591 3584 2966 3190 \nQ 3341 2797 3341 1997 \nz\n\" id=\"DejaVuSans-61\" transform=\"scale(0.015625)\"/>\n      <path d=\"M 3328 2828 \nQ 3544 3216 3844 3400 \nQ 4144 3584 4550 3584 \nQ 5097 3584 5394 3201 \nQ 5691 2819 5691 2113 \nL 5691 0 \nL 5113 0 \nL 5113 2094 \nQ 5113 2597 4934 2840 \nQ 4756 3084 4391 3084 \nQ 3944 3084 3684 2787 \nQ 3425 2491 3425 1978 \nL 3425 0 \nL 2847 0 \nL 2847 2094 \nQ 2847 2600 2669 2842 \nQ 2491 3084 2119 3084 \nQ 1678 3084 1418 2786 \nQ 1159 2488 1159 1978 \nL 1159 0 \nL 581 0 \nL 581 3500 \nL 1159 3500 \nL 1159 2956 \nQ 1356 3278 1631 3431 \nQ 1906 3584 2284 3584 \nQ 2666 3584 2933 3390 \nQ 3200 3197 3328 2828 \nz\n\" id=\"DejaVuSans-6d\" transform=\"scale(0.015625)\"/>\n     </defs>\n     <use xlink:href=\"#DejaVuSans-42\"/>\n     <use x=\"68.603516\" xlink:href=\"#DejaVuSans-72\"/>\n     <use x=\"107.466797\" xlink:href=\"#DejaVuSans-65\"/>\n     <use x=\"168.990234\" xlink:href=\"#DejaVuSans-61\"/>\n     <use x=\"230.269531\" xlink:href=\"#DejaVuSans-6d\"/>\n    </g>\n   </g>\n   <g id=\"text_3\">\n    <!-- 24% -->\n    <g transform=\"translate(157.73638 83.410077)scale(0.1 -0.1)\">\n     <defs>\n      <path d=\"M 1228 531 \nL 3431 531 \nL 3431 0 \nL 469 0 \nL 469 531 \nQ 828 903 1448 1529 \nQ 2069 2156 2228 2338 \nQ 2531 2678 2651 2914 \nQ 2772 3150 2772 3378 \nQ 2772 3750 2511 3984 \nQ 2250 4219 1831 4219 \nQ 1534 4219 1204 4116 \nQ 875 4013 500 3803 \nL 500 4441 \nQ 881 4594 1212 4672 \nQ 1544 4750 1819 4750 \nQ 2544 4750 2975 4387 \nQ 3406 4025 3406 3419 \nQ 3406 3131 3298 2873 \nQ 3191 2616 2906 2266 \nQ 2828 2175 2409 1742 \nQ 1991 1309 1228 531 \nz\n\" id=\"DejaVuSans-32\" transform=\"scale(0.015625)\"/>\n      <path d=\"M 2419 4116 \nL 825 1625 \nL 2419 1625 \nL 2419 4116 \nz\nM 2253 4666 \nL 3047 4666 \nL 3047 1625 \nL 3713 1625 \nL 3713 1100 \nL 3047 1100 \nL 3047 0 \nL 2419 0 \nL 2419 1100 \nL 313 1100 \nL 313 1709 \nL 2253 4666 \nz\n\" id=\"DejaVuSans-34\" transform=\"scale(0.015625)\"/>\n      <path d=\"M 4653 2053 \nQ 4381 2053 4226 1822 \nQ 4072 1591 4072 1178 \nQ 4072 772 4226 539 \nQ 4381 306 4653 306 \nQ 4919 306 5073 539 \nQ 5228 772 5228 1178 \nQ 5228 1588 5073 1820 \nQ 4919 2053 4653 2053 \nz\nM 4653 2450 \nQ 5147 2450 5437 2106 \nQ 5728 1763 5728 1178 \nQ 5728 594 5436 251 \nQ 5144 -91 4653 -91 \nQ 4153 -91 3862 251 \nQ 3572 594 3572 1178 \nQ 3572 1766 3864 2108 \nQ 4156 2450 4653 2450 \nz\nM 1428 4353 \nQ 1159 4353 1004 4120 \nQ 850 3888 850 3481 \nQ 850 3069 1003 2837 \nQ 1156 2606 1428 2606 \nQ 1700 2606 1854 2837 \nQ 2009 3069 2009 3481 \nQ 2009 3884 1853 4118 \nQ 1697 4353 1428 4353 \nz\nM 4250 4750 \nL 4750 4750 \nL 1831 -91 \nL 1331 -91 \nL 4250 4750 \nz\nM 1428 4750 \nQ 1922 4750 2215 4408 \nQ 2509 4066 2509 3481 \nQ 2509 2891 2217 2550 \nQ 1925 2209 1428 2209 \nQ 931 2209 642 2551 \nQ 353 2894 353 3481 \nQ 353 4063 643 4406 \nQ 934 4750 1428 4750 \nz\n\" id=\"DejaVuSans-25\" transform=\"scale(0.015625)\"/>\n     </defs>\n     <use xlink:href=\"#DejaVuSans-32\"/>\n     <use x=\"63.623047\" xlink:href=\"#DejaVuSans-34\"/>\n     <use x=\"127.246094\" xlink:href=\"#DejaVuSans-25\"/>\n    </g>\n   </g>\n   <g id=\"text_4\">\n    <!-- Parkki -->\n    <g transform=\"translate(87.231806 23.889893)scale(0.1 -0.1)\">\n     <defs>\n      <path d=\"M 1259 4147 \nL 1259 2394 \nL 2053 2394 \nQ 2494 2394 2734 2622 \nQ 2975 2850 2975 3272 \nQ 2975 3691 2734 3919 \nQ 2494 4147 2053 4147 \nL 1259 4147 \nz\nM 628 4666 \nL 2053 4666 \nQ 2838 4666 3239 4311 \nQ 3641 3956 3641 3272 \nQ 3641 2581 3239 2228 \nQ 2838 1875 2053 1875 \nL 1259 1875 \nL 1259 0 \nL 628 0 \nL 628 4666 \nz\n\" id=\"DejaVuSans-50\" transform=\"scale(0.015625)\"/>\n      <path d=\"M 581 4863 \nL 1159 4863 \nL 1159 1991 \nL 2875 3500 \nL 3609 3500 \nL 1753 1863 \nL 3688 0 \nL 2938 0 \nL 1159 1709 \nL 1159 0 \nL 581 0 \nL 581 4863 \nz\n\" id=\"DejaVuSans-6b\" transform=\"scale(0.015625)\"/>\n     </defs>\n     <use xlink:href=\"#DejaVuSans-50\"/>\n     <use x=\"55.802734\" xlink:href=\"#DejaVuSans-61\"/>\n     <use x=\"117.082031\" xlink:href=\"#DejaVuSans-72\"/>\n     <use x=\"158.195312\" xlink:href=\"#DejaVuSans-6b\"/>\n     <use x=\"216.105469\" xlink:href=\"#DejaVuSans-6b\"/>\n     <use x=\"274.015625\" xlink:href=\"#DejaVuSans-69\"/>\n    </g>\n   </g>\n   <g id=\"text_5\">\n    <!-- 7% -->\n    <g transform=\"translate(115.376348 66.976021)scale(0.1 -0.1)\">\n     <defs>\n      <path d=\"M 525 4666 \nL 3525 4666 \nL 3525 4397 \nL 1831 0 \nL 1172 0 \nL 2766 4134 \nL 525 4134 \nL 525 4666 \nz\n\" id=\"DejaVuSans-37\" transform=\"scale(0.015625)\"/>\n     </defs>\n     <use xlink:href=\"#DejaVuSans-37\"/>\n     <use x=\"63.623047\" xlink:href=\"#DejaVuSans-25\"/>\n    </g>\n   </g>\n   <g id=\"text_6\">\n    <!-- Perch -->\n    <g transform=\"translate(7.2 116.312949)scale(0.1 -0.1)\">\n     <defs>\n      <path d=\"M 3513 2113 \nL 3513 0 \nL 2938 0 \nL 2938 2094 \nQ 2938 2591 2744 2837 \nQ 2550 3084 2163 3084 \nQ 1697 3084 1428 2787 \nQ 1159 2491 1159 1978 \nL 1159 0 \nL 581 0 \nL 581 4863 \nL 1159 4863 \nL 1159 2956 \nQ 1366 3272 1645 3428 \nQ 1925 3584 2291 3584 \nQ 2894 3584 3203 3211 \nQ 3513 2838 3513 2113 \nz\n\" id=\"DejaVuSans-68\" transform=\"scale(0.015625)\"/>\n     </defs>\n     <use xlink:href=\"#DejaVuSans-50\"/>\n     <use x=\"56.677734\" xlink:href=\"#DejaVuSans-65\"/>\n     <use x=\"118.201172\" xlink:href=\"#DejaVuSans-72\"/>\n     <use x=\"157.064453\" xlink:href=\"#DejaVuSans-63\"/>\n     <use x=\"212.044922\" xlink:href=\"#DejaVuSans-68\"/>\n    </g>\n   </g>\n   <g id=\"text_7\">\n    <!-- 38% -->\n    <g transform=\"translate(67.103601 117.388597)scale(0.1 -0.1)\">\n     <defs>\n      <path d=\"M 2597 2516 \nQ 3050 2419 3304 2112 \nQ 3559 1806 3559 1356 \nQ 3559 666 3084 287 \nQ 2609 -91 1734 -91 \nQ 1441 -91 1130 -33 \nQ 819 25 488 141 \nL 488 750 \nQ 750 597 1062 519 \nQ 1375 441 1716 441 \nQ 2309 441 2620 675 \nQ 2931 909 2931 1356 \nQ 2931 1769 2642 2001 \nQ 2353 2234 1838 2234 \nL 1294 2234 \nL 1294 2753 \nL 1863 2753 \nQ 2328 2753 2575 2939 \nQ 2822 3125 2822 3475 \nQ 2822 3834 2567 4026 \nQ 2313 4219 1838 4219 \nQ 1578 4219 1281 4162 \nQ 984 4106 628 3988 \nL 628 4550 \nQ 988 4650 1302 4700 \nQ 1616 4750 1894 4750 \nQ 2613 4750 3031 4423 \nQ 3450 4097 3450 3541 \nQ 3450 3153 3228 2886 \nQ 3006 2619 2597 2516 \nz\n\" id=\"DejaVuSans-33\" transform=\"scale(0.015625)\"/>\n      <path d=\"M 2034 2216 \nQ 1584 2216 1326 1975 \nQ 1069 1734 1069 1313 \nQ 1069 891 1326 650 \nQ 1584 409 2034 409 \nQ 2484 409 2743 651 \nQ 3003 894 3003 1313 \nQ 3003 1734 2745 1975 \nQ 2488 2216 2034 2216 \nz\nM 1403 2484 \nQ 997 2584 770 2862 \nQ 544 3141 544 3541 \nQ 544 4100 942 4425 \nQ 1341 4750 2034 4750 \nQ 2731 4750 3128 4425 \nQ 3525 4100 3525 3541 \nQ 3525 3141 3298 2862 \nQ 3072 2584 2669 2484 \nQ 3125 2378 3379 2068 \nQ 3634 1759 3634 1313 \nQ 3634 634 3220 271 \nQ 2806 -91 2034 -91 \nQ 1263 -91 848 271 \nQ 434 634 434 1313 \nQ 434 1759 690 2068 \nQ 947 2378 1403 2484 \nz\nM 1172 3481 \nQ 1172 3119 1398 2916 \nQ 1625 2713 2034 2713 \nQ 2441 2713 2670 2916 \nQ 2900 3119 2900 3481 \nQ 2900 3844 2670 4047 \nQ 2441 4250 2034 4250 \nQ 1625 4250 1398 4047 \nQ 1172 3844 1172 3481 \nz\n\" id=\"DejaVuSans-38\" transform=\"scale(0.015625)\"/>\n     </defs>\n     <use xlink:href=\"#DejaVuSans-33\"/>\n     <use x=\"63.623047\" xlink:href=\"#DejaVuSans-38\"/>\n     <use x=\"127.246094\" xlink:href=\"#DejaVuSans-25\"/>\n    </g>\n   </g>\n   <g id=\"text_8\">\n    <!-- Pike -->\n    <g transform=\"translate(94.905285 213.11889)scale(0.1 -0.1)\">\n     <use xlink:href=\"#DejaVuSans-50\"/>\n     <use x=\"58.052734\" xlink:href=\"#DejaVuSans-69\"/>\n     <use x=\"85.835938\" xlink:href=\"#DejaVuSans-6b\"/>\n     <use x=\"140.121094\" xlink:href=\"#DejaVuSans-65\"/>\n    </g>\n   </g>\n   <g id=\"text_9\">\n    <!-- 8% -->\n    <g transform=\"translate(114.099666 170.191838)scale(0.1 -0.1)\">\n     <use xlink:href=\"#DejaVuSans-38\"/>\n     <use x=\"63.623047\" xlink:href=\"#DejaVuSans-25\"/>\n    </g>\n   </g>\n   <g id=\"text_10\">\n    <!-- Roach -->\n    <g transform=\"translate(172.657647 204.508212)scale(0.1 -0.1)\">\n     <defs>\n      <path d=\"M 2841 2188 \nQ 3044 2119 3236 1894 \nQ 3428 1669 3622 1275 \nL 4263 0 \nL 3584 0 \nL 2988 1197 \nQ 2756 1666 2539 1819 \nQ 2322 1972 1947 1972 \nL 1259 1972 \nL 1259 0 \nL 628 0 \nL 628 4666 \nL 2053 4666 \nQ 2853 4666 3247 4331 \nQ 3641 3997 3641 3322 \nQ 3641 2881 3436 2590 \nQ 3231 2300 2841 2188 \nz\nM 1259 4147 \nL 1259 2491 \nL 2053 2491 \nQ 2509 2491 2742 2702 \nQ 2975 2913 2975 3322 \nQ 2975 3731 2742 3939 \nQ 2509 4147 2053 4147 \nL 1259 4147 \nz\n\" id=\"DejaVuSans-52\" transform=\"scale(0.015625)\"/>\n      <path d=\"M 1959 3097 \nQ 1497 3097 1228 2736 \nQ 959 2375 959 1747 \nQ 959 1119 1226 758 \nQ 1494 397 1959 397 \nQ 2419 397 2687 759 \nQ 2956 1122 2956 1747 \nQ 2956 2369 2687 2733 \nQ 2419 3097 1959 3097 \nz\nM 1959 3584 \nQ 2709 3584 3137 3096 \nQ 3566 2609 3566 1747 \nQ 3566 888 3137 398 \nQ 2709 -91 1959 -91 \nQ 1206 -91 779 398 \nQ 353 888 353 1747 \nQ 353 2609 779 3096 \nQ 1206 3584 1959 3584 \nz\n\" id=\"DejaVuSans-6f\" transform=\"scale(0.015625)\"/>\n     </defs>\n     <use xlink:href=\"#DejaVuSans-52\"/>\n     <use x=\"64.982422\" xlink:href=\"#DejaVuSans-6f\"/>\n     <use x=\"126.164062\" xlink:href=\"#DejaVuSans-61\"/>\n     <use x=\"187.443359\" xlink:href=\"#DejaVuSans-63\"/>\n     <use x=\"242.423828\" xlink:href=\"#DejaVuSans-68\"/>\n    </g>\n   </g>\n   <g id=\"text_11\">\n    <!-- 12% -->\n    <g transform=\"translate(142.330216 165.495104)scale(0.1 -0.1)\">\n     <defs>\n      <path d=\"M 794 531 \nL 1825 531 \nL 1825 4091 \nL 703 3866 \nL 703 4441 \nL 1819 4666 \nL 2450 4666 \nL 2450 531 \nL 3481 531 \nL 3481 0 \nL 794 0 \nL 794 531 \nz\n\" id=\"DejaVuSans-31\" transform=\"scale(0.015625)\"/>\n     </defs>\n     <use xlink:href=\"#DejaVuSans-31\"/>\n     <use x=\"63.623047\" xlink:href=\"#DejaVuSans-32\"/>\n     <use x=\"127.246094\" xlink:href=\"#DejaVuSans-25\"/>\n    </g>\n   </g>\n   <g id=\"text_12\">\n    <!-- Smelt -->\n    <g transform=\"translate(214.588154 164.105382)scale(0.1 -0.1)\">\n     <defs>\n      <path d=\"M 603 4863 \nL 1178 4863 \nL 1178 0 \nL 603 0 \nL 603 4863 \nz\n\" id=\"DejaVuSans-6c\" transform=\"scale(0.015625)\"/>\n      <path d=\"M 1172 4494 \nL 1172 3500 \nL 2356 3500 \nL 2356 3053 \nL 1172 3053 \nL 1172 1153 \nQ 1172 725 1289 603 \nQ 1406 481 1766 481 \nL 2356 481 \nL 2356 0 \nL 1766 0 \nQ 1100 0 847 248 \nQ 594 497 594 1153 \nL 594 3053 \nL 172 3053 \nL 172 3500 \nL 594 3500 \nL 594 4494 \nL 1172 4494 \nz\n\" id=\"DejaVuSans-74\" transform=\"scale(0.015625)\"/>\n     </defs>\n     <use xlink:href=\"#DejaVuSans-53\"/>\n     <use x=\"63.476562\" xlink:href=\"#DejaVuSans-6d\"/>\n     <use x=\"160.888672\" xlink:href=\"#DejaVuSans-65\"/>\n     <use x=\"222.412109\" xlink:href=\"#DejaVuSans-6c\"/>\n     <use x=\"250.195312\" xlink:href=\"#DejaVuSans-74\"/>\n    </g>\n   </g>\n   <g id=\"text_13\">\n    <!-- 8% -->\n    <g transform=\"translate(168.382651 143.457197)scale(0.1 -0.1)\">\n     <use xlink:href=\"#DejaVuSans-38\"/>\n     <use x=\"63.623047\" xlink:href=\"#DejaVuSans-25\"/>\n    </g>\n   </g>\n   <g id=\"text_14\">\n    <!-- Whitefish -->\n    <g transform=\"translate(225.329247 130.482586)scale(0.1 -0.1)\">\n     <defs>\n      <path d=\"M 213 4666 \nL 850 4666 \nL 1831 722 \nL 2809 4666 \nL 3519 4666 \nL 4500 722 \nL 5478 4666 \nL 6119 4666 \nL 4947 0 \nL 4153 0 \nL 3169 4050 \nL 2175 0 \nL 1381 0 \nL 213 4666 \nz\n\" id=\"DejaVuSans-57\" transform=\"scale(0.015625)\"/>\n      <path d=\"M 2375 4863 \nL 2375 4384 \nL 1825 4384 \nQ 1516 4384 1395 4259 \nQ 1275 4134 1275 3809 \nL 1275 3500 \nL 2222 3500 \nL 2222 3053 \nL 1275 3053 \nL 1275 0 \nL 697 0 \nL 697 3053 \nL 147 3053 \nL 147 3500 \nL 697 3500 \nL 697 3744 \nQ 697 4328 969 4595 \nQ 1241 4863 1831 4863 \nL 2375 4863 \nz\n\" id=\"DejaVuSans-66\" transform=\"scale(0.015625)\"/>\n     </defs>\n     <use xlink:href=\"#DejaVuSans-57\"/>\n     <use x=\"98.876953\" xlink:href=\"#DejaVuSans-68\"/>\n     <use x=\"162.255859\" xlink:href=\"#DejaVuSans-69\"/>\n     <use x=\"190.039062\" xlink:href=\"#DejaVuSans-74\"/>\n     <use x=\"229.248047\" xlink:href=\"#DejaVuSans-65\"/>\n     <use x=\"290.771484\" xlink:href=\"#DejaVuSans-66\"/>\n     <use x=\"325.976562\" xlink:href=\"#DejaVuSans-69\"/>\n     <use x=\"353.759766\" xlink:href=\"#DejaVuSans-73\"/>\n     <use x=\"405.859375\" xlink:href=\"#DejaVuSans-68\"/>\n    </g>\n   </g>\n   <g id=\"text_15\">\n    <!-- 4% -->\n    <g transform=\"translate(174.241429 125.11749)scale(0.1 -0.1)\">\n     <use xlink:href=\"#DejaVuSans-34\"/>\n     <use x=\"63.623047\" xlink:href=\"#DejaVuSans-25\"/>\n    </g>\n   </g>\n  </g>\n </g>\n</svg>\n",
      "image/png": "[encoded data removed]"
     },
     "metadata": {}
    }
   ],
   "source": [
    "train.groupby(\"Species\").size().plot.pie(ylabel=\"Species\", autopct=lambda val: \"{:0.0f}%\".format(val))"
   ]
  },
  {
   "cell_type": "code",
   "execution_count": 9,
   "id": "d3bce59e",
   "metadata": {},
   "outputs": [
    {
     "output_type": "execute_result",
     "data": {
      "text/plain": [
       "<AxesSubplot:>"
      ]
     },
     "metadata": {},
     "execution_count": 9
    },
    {
     "output_type": "display_data",
     "data": {
      "text/plain": "<Figure size 432x288 with 1 Axes>",
      "image/svg+xml": "<?xml version=\"1.0\" encoding=\"utf-8\" standalone=\"no\"?>\n<!DOCTYPE svg PUBLIC \"-//W3C//DTD SVG 1.1//EN\"\n  \"http://www.w3.org/Graphics/SVG/1.1/DTD/svg11.dtd\">\n<svg height=\"248.518125pt\" version=\"1.1\" viewBox=\"0 0 368.925 248.518125\" width=\"368.925pt\" xmlns=\"http://www.w3.org/2000/svg\" xmlns:xlink=\"http://www.w3.org/1999/xlink\">\n <metadata>\n  <rdf:RDF xmlns:cc=\"http://creativecommons.org/ns#\" xmlns:dc=\"http://purl.org/dc/elements/1.1/\" xmlns:rdf=\"http://www.w3.org/1999/02/22-rdf-syntax-ns#\">\n   <cc:Work>\n    <dc:type rdf:resource=\"http://purl.org/dc/dcmitype/StillImage\"/>\n    <dc:date>2021-07-07T22:13:04.667799</dc:date>\n    <dc:format>image/svg+xml</dc:format>\n    <dc:creator>\n     <cc:Agent>\n      <dc:title>Matplotlib v3.4.2, https://matplotlib.org/</dc:title>\n     </cc:Agent>\n    </dc:creator>\n   </cc:Work>\n  </rdf:RDF>\n </metadata>\n <defs>\n  <style type=\"text/css\">*{stroke-linecap:butt;stroke-linejoin:round;}</style>\n </defs>\n <g id=\"figure_1\">\n  <g id=\"patch_1\">\n   <path d=\"M -0 248.518125 \nL 368.925 248.518125 \nL 368.925 0 \nL -0 0 \nz\n\" style=\"fill:none;\"/>\n  </g>\n  <g id=\"axes_1\">\n   <g id=\"patch_2\">\n    <path d=\"M 26.925 224.64 \nL 361.725 224.64 \nL 361.725 7.2 \nL 26.925 7.2 \nz\n\" style=\"fill:#ffffff;\"/>\n   </g>\n   <g id=\"matplotlib.axis_1\">\n    <g id=\"xtick_1\">\n     <g id=\"line2d_1\">\n      <path clip-path=\"url(#p7989263215)\" d=\"M 60.405 224.64 \nL 60.405 7.2 \n\" style=\"fill:none;stroke:#b0b0b0;stroke-linecap:square;stroke-width:0.8;\"/>\n     </g>\n     <g id=\"line2d_2\">\n      <defs>\n       <path d=\"M 0 0 \nL 0 3.5 \n\" id=\"m4e82568d50\" style=\"stroke:#000000;stroke-width:0.8;\"/>\n      </defs>\n      <g>\n       <use style=\"stroke:#000000;stroke-width:0.8;\" x=\"60.405\" xlink:href=\"#m4e82568d50\" y=\"224.64\"/>\n      </g>\n     </g>\n     <g id=\"text_1\">\n      <!-- Length1 -->\n      <g transform=\"translate(39.976875 239.238438)scale(0.1 -0.1)\">\n       <defs>\n        <path d=\"M 628 4666 \nL 1259 4666 \nL 1259 531 \nL 3531 531 \nL 3531 0 \nL 628 0 \nL 628 4666 \nz\n\" id=\"DejaVuSans-4c\" transform=\"scale(0.015625)\"/>\n        <path d=\"M 3597 1894 \nL 3597 1613 \nL 953 1613 \nQ 991 1019 1311 708 \nQ 1631 397 2203 397 \nQ 2534 397 2845 478 \nQ 3156 559 3463 722 \nL 3463 178 \nQ 3153 47 2828 -22 \nQ 2503 -91 2169 -91 \nQ 1331 -91 842 396 \nQ 353 884 353 1716 \nQ 353 2575 817 3079 \nQ 1281 3584 2069 3584 \nQ 2775 3584 3186 3129 \nQ 3597 2675 3597 1894 \nz\nM 3022 2063 \nQ 3016 2534 2758 2815 \nQ 2500 3097 2075 3097 \nQ 1594 3097 1305 2825 \nQ 1016 2553 972 2059 \nL 3022 2063 \nz\n\" id=\"DejaVuSans-65\" transform=\"scale(0.015625)\"/>\n        <path d=\"M 3513 2113 \nL 3513 0 \nL 2938 0 \nL 2938 2094 \nQ 2938 2591 2744 2837 \nQ 2550 3084 2163 3084 \nQ 1697 3084 1428 2787 \nQ 1159 2491 1159 1978 \nL 1159 0 \nL 581 0 \nL 581 3500 \nL 1159 3500 \nL 1159 2956 \nQ 1366 3272 1645 3428 \nQ 1925 3584 2291 3584 \nQ 2894 3584 3203 3211 \nQ 3513 2838 3513 2113 \nz\n\" id=\"DejaVuSans-6e\" transform=\"scale(0.015625)\"/>\n        <path d=\"M 2906 1791 \nQ 2906 2416 2648 2759 \nQ 2391 3103 1925 3103 \nQ 1463 3103 1205 2759 \nQ 947 2416 947 1791 \nQ 947 1169 1205 825 \nQ 1463 481 1925 481 \nQ 2391 481 2648 825 \nQ 2906 1169 2906 1791 \nz\nM 3481 434 \nQ 3481 -459 3084 -895 \nQ 2688 -1331 1869 -1331 \nQ 1566 -1331 1297 -1286 \nQ 1028 -1241 775 -1147 \nL 775 -588 \nQ 1028 -725 1275 -790 \nQ 1522 -856 1778 -856 \nQ 2344 -856 2625 -561 \nQ 2906 -266 2906 331 \nL 2906 616 \nQ 2728 306 2450 153 \nQ 2172 0 1784 0 \nQ 1141 0 747 490 \nQ 353 981 353 1791 \nQ 353 2603 747 3093 \nQ 1141 3584 1784 3584 \nQ 2172 3584 2450 3431 \nQ 2728 3278 2906 2969 \nL 2906 3500 \nL 3481 3500 \nL 3481 434 \nz\n\" id=\"DejaVuSans-67\" transform=\"scale(0.015625)\"/>\n        <path d=\"M 1172 4494 \nL 1172 3500 \nL 2356 3500 \nL 2356 3053 \nL 1172 3053 \nL 1172 1153 \nQ 1172 725 1289 603 \nQ 1406 481 1766 481 \nL 2356 481 \nL 2356 0 \nL 1766 0 \nQ 1100 0 847 248 \nQ 594 497 594 1153 \nL 594 3053 \nL 172 3053 \nL 172 3500 \nL 594 3500 \nL 594 4494 \nL 1172 4494 \nz\n\" id=\"DejaVuSans-74\" transform=\"scale(0.015625)\"/>\n        <path d=\"M 3513 2113 \nL 3513 0 \nL 2938 0 \nL 2938 2094 \nQ 2938 2591 2744 2837 \nQ 2550 3084 2163 3084 \nQ 1697 3084 1428 2787 \nQ 1159 2491 1159 1978 \nL 1159 0 \nL 581 0 \nL 581 4863 \nL 1159 4863 \nL 1159 2956 \nQ 1366 3272 1645 3428 \nQ 1925 3584 2291 3584 \nQ 2894 3584 3203 3211 \nQ 3513 2838 3513 2113 \nz\n\" id=\"DejaVuSans-68\" transform=\"scale(0.015625)\"/>\n        <path d=\"M 794 531 \nL 1825 531 \nL 1825 4091 \nL 703 3866 \nL 703 4441 \nL 1819 4666 \nL 2450 4666 \nL 2450 531 \nL 3481 531 \nL 3481 0 \nL 794 0 \nL 794 531 \nz\n\" id=\"DejaVuSans-31\" transform=\"scale(0.015625)\"/>\n       </defs>\n       <use xlink:href=\"#DejaVuSans-4c\"/>\n       <use x=\"53.962891\" xlink:href=\"#DejaVuSans-65\"/>\n       <use x=\"115.486328\" xlink:href=\"#DejaVuSans-6e\"/>\n       <use x=\"178.865234\" xlink:href=\"#DejaVuSans-67\"/>\n       <use x=\"242.341797\" xlink:href=\"#DejaVuSans-74\"/>\n       <use x=\"281.550781\" xlink:href=\"#DejaVuSans-68\"/>\n       <use x=\"344.929688\" xlink:href=\"#DejaVuSans-31\"/>\n      </g>\n     </g>\n    </g>\n    <g id=\"xtick_2\">\n     <g id=\"line2d_3\">\n      <path clip-path=\"url(#p7989263215)\" d=\"M 127.365 224.64 \nL 127.365 7.2 \n\" style=\"fill:none;stroke:#b0b0b0;stroke-linecap:square;stroke-width:0.8;\"/>\n     </g>\n     <g id=\"line2d_4\">\n      <g>\n       <use style=\"stroke:#000000;stroke-width:0.8;\" x=\"127.365\" xlink:href=\"#m4e82568d50\" y=\"224.64\"/>\n      </g>\n     </g>\n     <g id=\"text_2\">\n      <!-- Length2 -->\n      <g transform=\"translate(106.936875 239.238438)scale(0.1 -0.1)\">\n       <defs>\n        <path d=\"M 1228 531 \nL 3431 531 \nL 3431 0 \nL 469 0 \nL 469 531 \nQ 828 903 1448 1529 \nQ 2069 2156 2228 2338 \nQ 2531 2678 2651 2914 \nQ 2772 3150 2772 3378 \nQ 2772 3750 2511 3984 \nQ 2250 4219 1831 4219 \nQ 1534 4219 1204 4116 \nQ 875 4013 500 3803 \nL 500 4441 \nQ 881 4594 1212 4672 \nQ 1544 4750 1819 4750 \nQ 2544 4750 2975 4387 \nQ 3406 4025 3406 3419 \nQ 3406 3131 3298 2873 \nQ 3191 2616 2906 2266 \nQ 2828 2175 2409 1742 \nQ 1991 1309 1228 531 \nz\n\" id=\"DejaVuSans-32\" transform=\"scale(0.015625)\"/>\n       </defs>\n       <use xlink:href=\"#DejaVuSans-4c\"/>\n       <use x=\"53.962891\" xlink:href=\"#DejaVuSans-65\"/>\n       <use x=\"115.486328\" xlink:href=\"#DejaVuSans-6e\"/>\n       <use x=\"178.865234\" xlink:href=\"#DejaVuSans-67\"/>\n       <use x=\"242.341797\" xlink:href=\"#DejaVuSans-74\"/>\n       <use x=\"281.550781\" xlink:href=\"#DejaVuSans-68\"/>\n       <use x=\"344.929688\" xlink:href=\"#DejaVuSans-32\"/>\n      </g>\n     </g>\n    </g>\n    <g id=\"xtick_3\">\n     <g id=\"line2d_5\">\n      <path clip-path=\"url(#p7989263215)\" d=\"M 194.325 224.64 \nL 194.325 7.2 \n\" style=\"fill:none;stroke:#b0b0b0;stroke-linecap:square;stroke-width:0.8;\"/>\n     </g>\n     <g id=\"line2d_6\">\n      <g>\n       <use style=\"stroke:#000000;stroke-width:0.8;\" x=\"194.325\" xlink:href=\"#m4e82568d50\" y=\"224.64\"/>\n      </g>\n     </g>\n     <g id=\"text_3\">\n      <!-- Length3 -->\n      <g transform=\"translate(173.896875 239.238438)scale(0.1 -0.1)\">\n       <defs>\n        <path d=\"M 2597 2516 \nQ 3050 2419 3304 2112 \nQ 3559 1806 3559 1356 \nQ 3559 666 3084 287 \nQ 2609 -91 1734 -91 \nQ 1441 -91 1130 -33 \nQ 819 25 488 141 \nL 488 750 \nQ 750 597 1062 519 \nQ 1375 441 1716 441 \nQ 2309 441 2620 675 \nQ 2931 909 2931 1356 \nQ 2931 1769 2642 2001 \nQ 2353 2234 1838 2234 \nL 1294 2234 \nL 1294 2753 \nL 1863 2753 \nQ 2328 2753 2575 2939 \nQ 2822 3125 2822 3475 \nQ 2822 3834 2567 4026 \nQ 2313 4219 1838 4219 \nQ 1578 4219 1281 4162 \nQ 984 4106 628 3988 \nL 628 4550 \nQ 988 4650 1302 4700 \nQ 1616 4750 1894 4750 \nQ 2613 4750 3031 4423 \nQ 3450 4097 3450 3541 \nQ 3450 3153 3228 2886 \nQ 3006 2619 2597 2516 \nz\n\" id=\"DejaVuSans-33\" transform=\"scale(0.015625)\"/>\n       </defs>\n       <use xlink:href=\"#DejaVuSans-4c\"/>\n       <use x=\"53.962891\" xlink:href=\"#DejaVuSans-65\"/>\n       <use x=\"115.486328\" xlink:href=\"#DejaVuSans-6e\"/>\n       <use x=\"178.865234\" xlink:href=\"#DejaVuSans-67\"/>\n       <use x=\"242.341797\" xlink:href=\"#DejaVuSans-74\"/>\n       <use x=\"281.550781\" xlink:href=\"#DejaVuSans-68\"/>\n       <use x=\"344.929688\" xlink:href=\"#DejaVuSans-33\"/>\n      </g>\n     </g>\n    </g>\n    <g id=\"xtick_4\">\n     <g id=\"line2d_7\">\n      <path clip-path=\"url(#p7989263215)\" d=\"M 261.285 224.64 \nL 261.285 7.2 \n\" style=\"fill:none;stroke:#b0b0b0;stroke-linecap:square;stroke-width:0.8;\"/>\n     </g>\n     <g id=\"line2d_8\">\n      <g>\n       <use style=\"stroke:#000000;stroke-width:0.8;\" x=\"261.285\" xlink:href=\"#m4e82568d50\" y=\"224.64\"/>\n      </g>\n     </g>\n     <g id=\"text_4\">\n      <!-- Height -->\n      <g transform=\"translate(244.756094 239.238438)scale(0.1 -0.1)\">\n       <defs>\n        <path d=\"M 628 4666 \nL 1259 4666 \nL 1259 2753 \nL 3553 2753 \nL 3553 4666 \nL 4184 4666 \nL 4184 0 \nL 3553 0 \nL 3553 2222 \nL 1259 2222 \nL 1259 0 \nL 628 0 \nL 628 4666 \nz\n\" id=\"DejaVuSans-48\" transform=\"scale(0.015625)\"/>\n        <path d=\"M 603 3500 \nL 1178 3500 \nL 1178 0 \nL 603 0 \nL 603 3500 \nz\nM 603 4863 \nL 1178 4863 \nL 1178 4134 \nL 603 4134 \nL 603 4863 \nz\n\" id=\"DejaVuSans-69\" transform=\"scale(0.015625)\"/>\n       </defs>\n       <use xlink:href=\"#DejaVuSans-48\"/>\n       <use x=\"75.195312\" xlink:href=\"#DejaVuSans-65\"/>\n       <use x=\"136.71875\" xlink:href=\"#DejaVuSans-69\"/>\n       <use x=\"164.501953\" xlink:href=\"#DejaVuSans-67\"/>\n       <use x=\"227.978516\" xlink:href=\"#DejaVuSans-68\"/>\n       <use x=\"291.357422\" xlink:href=\"#DejaVuSans-74\"/>\n      </g>\n     </g>\n    </g>\n    <g id=\"xtick_5\">\n     <g id=\"line2d_9\">\n      <path clip-path=\"url(#p7989263215)\" d=\"M 328.245 224.64 \nL 328.245 7.2 \n\" style=\"fill:none;stroke:#b0b0b0;stroke-linecap:square;stroke-width:0.8;\"/>\n     </g>\n     <g id=\"line2d_10\">\n      <g>\n       <use style=\"stroke:#000000;stroke-width:0.8;\" x=\"328.245\" xlink:href=\"#m4e82568d50\" y=\"224.64\"/>\n      </g>\n     </g>\n     <g id=\"text_5\">\n      <!-- Width -->\n      <g transform=\"translate(313.721563 239.238438)scale(0.1 -0.1)\">\n       <defs>\n        <path d=\"M 213 4666 \nL 850 4666 \nL 1831 722 \nL 2809 4666 \nL 3519 4666 \nL 4500 722 \nL 5478 4666 \nL 6119 4666 \nL 4947 0 \nL 4153 0 \nL 3169 4050 \nL 2175 0 \nL 1381 0 \nL 213 4666 \nz\n\" id=\"DejaVuSans-57\" transform=\"scale(0.015625)\"/>\n        <path d=\"M 2906 2969 \nL 2906 4863 \nL 3481 4863 \nL 3481 0 \nL 2906 0 \nL 2906 525 \nQ 2725 213 2448 61 \nQ 2172 -91 1784 -91 \nQ 1150 -91 751 415 \nQ 353 922 353 1747 \nQ 353 2572 751 3078 \nQ 1150 3584 1784 3584 \nQ 2172 3584 2448 3432 \nQ 2725 3281 2906 2969 \nz\nM 947 1747 \nQ 947 1113 1208 752 \nQ 1469 391 1925 391 \nQ 2381 391 2643 752 \nQ 2906 1113 2906 1747 \nQ 2906 2381 2643 2742 \nQ 2381 3103 1925 3103 \nQ 1469 3103 1208 2742 \nQ 947 2381 947 1747 \nz\n\" id=\"DejaVuSans-64\" transform=\"scale(0.015625)\"/>\n       </defs>\n       <use xlink:href=\"#DejaVuSans-57\"/>\n       <use x=\"96.626953\" xlink:href=\"#DejaVuSans-69\"/>\n       <use x=\"124.410156\" xlink:href=\"#DejaVuSans-64\"/>\n       <use x=\"187.886719\" xlink:href=\"#DejaVuSans-74\"/>\n       <use x=\"227.095703\" xlink:href=\"#DejaVuSans-68\"/>\n      </g>\n     </g>\n    </g>\n   </g>\n   <g id=\"matplotlib.axis_2\">\n    <g id=\"ytick_1\">\n     <g id=\"line2d_11\">\n      <path clip-path=\"url(#p7989263215)\" d=\"M 26.925 218.045864 \nL 361.725 218.045864 \n\" style=\"fill:none;stroke:#b0b0b0;stroke-linecap:square;stroke-width:0.8;\"/>\n     </g>\n     <g id=\"line2d_12\">\n      <defs>\n       <path d=\"M 0 0 \nL -3.5 0 \n\" id=\"mb76f6aca2d\" style=\"stroke:#000000;stroke-width:0.8;\"/>\n      </defs>\n      <g>\n       <use style=\"stroke:#000000;stroke-width:0.8;\" x=\"26.925\" xlink:href=\"#mb76f6aca2d\" y=\"218.045864\"/>\n      </g>\n     </g>\n     <g id=\"text_6\">\n      <!-- 0 -->\n      <g transform=\"translate(13.5625 221.845083)scale(0.1 -0.1)\">\n       <defs>\n        <path d=\"M 2034 4250 \nQ 1547 4250 1301 3770 \nQ 1056 3291 1056 2328 \nQ 1056 1369 1301 889 \nQ 1547 409 2034 409 \nQ 2525 409 2770 889 \nQ 3016 1369 3016 2328 \nQ 3016 3291 2770 3770 \nQ 2525 4250 2034 4250 \nz\nM 2034 4750 \nQ 2819 4750 3233 4129 \nQ 3647 3509 3647 2328 \nQ 3647 1150 3233 529 \nQ 2819 -91 2034 -91 \nQ 1250 -91 836 529 \nQ 422 1150 422 2328 \nQ 422 3509 836 4129 \nQ 1250 4750 2034 4750 \nz\n\" id=\"DejaVuSans-30\" transform=\"scale(0.015625)\"/>\n       </defs>\n       <use xlink:href=\"#DejaVuSans-30\"/>\n      </g>\n     </g>\n    </g>\n    <g id=\"ytick_2\">\n     <g id=\"line2d_13\">\n      <path clip-path=\"url(#p7989263215)\" d=\"M 26.925 186.645516 \nL 361.725 186.645516 \n\" style=\"fill:none;stroke:#b0b0b0;stroke-linecap:square;stroke-width:0.8;\"/>\n     </g>\n     <g id=\"line2d_14\">\n      <g>\n       <use style=\"stroke:#000000;stroke-width:0.8;\" x=\"26.925\" xlink:href=\"#mb76f6aca2d\" y=\"186.645516\"/>\n      </g>\n     </g>\n     <g id=\"text_7\">\n      <!-- 10 -->\n      <g transform=\"translate(7.2 190.444735)scale(0.1 -0.1)\">\n       <use xlink:href=\"#DejaVuSans-31\"/>\n       <use x=\"63.623047\" xlink:href=\"#DejaVuSans-30\"/>\n      </g>\n     </g>\n    </g>\n    <g id=\"ytick_3\">\n     <g id=\"line2d_15\">\n      <path clip-path=\"url(#p7989263215)\" d=\"M 26.925 155.245168 \nL 361.725 155.245168 \n\" style=\"fill:none;stroke:#b0b0b0;stroke-linecap:square;stroke-width:0.8;\"/>\n     </g>\n     <g id=\"line2d_16\">\n      <g>\n       <use style=\"stroke:#000000;stroke-width:0.8;\" x=\"26.925\" xlink:href=\"#mb76f6aca2d\" y=\"155.245168\"/>\n      </g>\n     </g>\n     <g id=\"text_8\">\n      <!-- 20 -->\n      <g transform=\"translate(7.2 159.044387)scale(0.1 -0.1)\">\n       <use xlink:href=\"#DejaVuSans-32\"/>\n       <use x=\"63.623047\" xlink:href=\"#DejaVuSans-30\"/>\n      </g>\n     </g>\n    </g>\n    <g id=\"ytick_4\">\n     <g id=\"line2d_17\">\n      <path clip-path=\"url(#p7989263215)\" d=\"M 26.925 123.84482 \nL 361.725 123.84482 \n\" style=\"fill:none;stroke:#b0b0b0;stroke-linecap:square;stroke-width:0.8;\"/>\n     </g>\n     <g id=\"line2d_18\">\n      <g>\n       <use style=\"stroke:#000000;stroke-width:0.8;\" x=\"26.925\" xlink:href=\"#mb76f6aca2d\" y=\"123.84482\"/>\n      </g>\n     </g>\n     <g id=\"text_9\">\n      <!-- 30 -->\n      <g transform=\"translate(7.2 127.644039)scale(0.1 -0.1)\">\n       <use xlink:href=\"#DejaVuSans-33\"/>\n       <use x=\"63.623047\" xlink:href=\"#DejaVuSans-30\"/>\n      </g>\n     </g>\n    </g>\n    <g id=\"ytick_5\">\n     <g id=\"line2d_19\">\n      <path clip-path=\"url(#p7989263215)\" d=\"M 26.925 92.444472 \nL 361.725 92.444472 \n\" style=\"fill:none;stroke:#b0b0b0;stroke-linecap:square;stroke-width:0.8;\"/>\n     </g>\n     <g id=\"line2d_20\">\n      <g>\n       <use style=\"stroke:#000000;stroke-width:0.8;\" x=\"26.925\" xlink:href=\"#mb76f6aca2d\" y=\"92.444472\"/>\n      </g>\n     </g>\n     <g id=\"text_10\">\n      <!-- 40 -->\n      <g transform=\"translate(7.2 96.243691)scale(0.1 -0.1)\">\n       <defs>\n        <path d=\"M 2419 4116 \nL 825 1625 \nL 2419 1625 \nL 2419 4116 \nz\nM 2253 4666 \nL 3047 4666 \nL 3047 1625 \nL 3713 1625 \nL 3713 1100 \nL 3047 1100 \nL 3047 0 \nL 2419 0 \nL 2419 1100 \nL 313 1100 \nL 313 1709 \nL 2253 4666 \nz\n\" id=\"DejaVuSans-34\" transform=\"scale(0.015625)\"/>\n       </defs>\n       <use xlink:href=\"#DejaVuSans-34\"/>\n       <use x=\"63.623047\" xlink:href=\"#DejaVuSans-30\"/>\n      </g>\n     </g>\n    </g>\n    <g id=\"ytick_6\">\n     <g id=\"line2d_21\">\n      <path clip-path=\"url(#p7989263215)\" d=\"M 26.925 61.044124 \nL 361.725 61.044124 \n\" style=\"fill:none;stroke:#b0b0b0;stroke-linecap:square;stroke-width:0.8;\"/>\n     </g>\n     <g id=\"line2d_22\">\n      <g>\n       <use style=\"stroke:#000000;stroke-width:0.8;\" x=\"26.925\" xlink:href=\"#mb76f6aca2d\" y=\"61.044124\"/>\n      </g>\n     </g>\n     <g id=\"text_11\">\n      <!-- 50 -->\n      <g transform=\"translate(7.2 64.843342)scale(0.1 -0.1)\">\n       <defs>\n        <path d=\"M 691 4666 \nL 3169 4666 \nL 3169 4134 \nL 1269 4134 \nL 1269 2991 \nQ 1406 3038 1543 3061 \nQ 1681 3084 1819 3084 \nQ 2600 3084 3056 2656 \nQ 3513 2228 3513 1497 \nQ 3513 744 3044 326 \nQ 2575 -91 1722 -91 \nQ 1428 -91 1123 -41 \nQ 819 9 494 109 \nL 494 744 \nQ 775 591 1075 516 \nQ 1375 441 1709 441 \nQ 2250 441 2565 725 \nQ 2881 1009 2881 1497 \nQ 2881 1984 2565 2268 \nQ 2250 2553 1709 2553 \nQ 1456 2553 1204 2497 \nQ 953 2441 691 2322 \nL 691 4666 \nz\n\" id=\"DejaVuSans-35\" transform=\"scale(0.015625)\"/>\n       </defs>\n       <use xlink:href=\"#DejaVuSans-35\"/>\n       <use x=\"63.623047\" xlink:href=\"#DejaVuSans-30\"/>\n      </g>\n     </g>\n    </g>\n    <g id=\"ytick_7\">\n     <g id=\"line2d_23\">\n      <path clip-path=\"url(#p7989263215)\" d=\"M 26.925 29.643776 \nL 361.725 29.643776 \n\" style=\"fill:none;stroke:#b0b0b0;stroke-linecap:square;stroke-width:0.8;\"/>\n     </g>\n     <g id=\"line2d_24\">\n      <g>\n       <use style=\"stroke:#000000;stroke-width:0.8;\" x=\"26.925\" xlink:href=\"#mb76f6aca2d\" y=\"29.643776\"/>\n      </g>\n     </g>\n     <g id=\"text_12\">\n      <!-- 60 -->\n      <g transform=\"translate(7.2 33.442994)scale(0.1 -0.1)\">\n       <defs>\n        <path d=\"M 2113 2584 \nQ 1688 2584 1439 2293 \nQ 1191 2003 1191 1497 \nQ 1191 994 1439 701 \nQ 1688 409 2113 409 \nQ 2538 409 2786 701 \nQ 3034 994 3034 1497 \nQ 3034 2003 2786 2293 \nQ 2538 2584 2113 2584 \nz\nM 3366 4563 \nL 3366 3988 \nQ 3128 4100 2886 4159 \nQ 2644 4219 2406 4219 \nQ 1781 4219 1451 3797 \nQ 1122 3375 1075 2522 \nQ 1259 2794 1537 2939 \nQ 1816 3084 2150 3084 \nQ 2853 3084 3261 2657 \nQ 3669 2231 3669 1497 \nQ 3669 778 3244 343 \nQ 2819 -91 2113 -91 \nQ 1303 -91 875 529 \nQ 447 1150 447 2328 \nQ 447 3434 972 4092 \nQ 1497 4750 2381 4750 \nQ 2619 4750 2861 4703 \nQ 3103 4656 3366 4563 \nz\n\" id=\"DejaVuSans-36\" transform=\"scale(0.015625)\"/>\n       </defs>\n       <use xlink:href=\"#DejaVuSans-36\"/>\n       <use x=\"63.623047\" xlink:href=\"#DejaVuSans-30\"/>\n      </g>\n     </g>\n    </g>\n   </g>\n   <g id=\"line2d_25\">\n    <path clip-path=\"url(#p7989263215)\" d=\"M 43.665 158.228201 \nL 77.145 158.228201 \nL 77.145 116.465738 \nL 43.665 116.465738 \nL 43.665 158.228201 \n\" style=\"fill:none;stroke:#1f77b4;stroke-linecap:square;\"/>\n   </g>\n   <g id=\"line2d_26\">\n    <path clip-path=\"url(#p7989263215)\" d=\"M 60.405 158.228201 \nL 60.405 194.495603 \n\" style=\"fill:none;stroke:#1f77b4;stroke-linecap:square;\"/>\n   </g>\n   <g id=\"line2d_27\">\n    <path clip-path=\"url(#p7989263215)\" d=\"M 60.405 116.465738 \nL 60.405 66.382183 \n\" style=\"fill:none;stroke:#1f77b4;stroke-linecap:square;\"/>\n   </g>\n   <g id=\"line2d_28\">\n    <path clip-path=\"url(#p7989263215)\" d=\"M 52.035 194.495603 \nL 68.775 194.495603 \n\" style=\"fill:none;stroke:#000000;stroke-linecap:square;\"/>\n   </g>\n   <g id=\"line2d_29\">\n    <path clip-path=\"url(#p7989263215)\" d=\"M 52.035 66.382183 \nL 68.775 66.382183 \n\" style=\"fill:none;stroke:#000000;stroke-linecap:square;\"/>\n   </g>\n   <g id=\"line2d_30\">\n    <defs>\n     <path d=\"M 0 3 \nC 0.795609 3 1.55874 2.683901 2.12132 2.12132 \nC 2.683901 1.55874 3 0.795609 3 0 \nC 3 -0.795609 2.683901 -1.55874 2.12132 -2.12132 \nC 1.55874 -2.683901 0.795609 -3 0 -3 \nC -0.795609 -3 -1.55874 -2.683901 -2.12132 -2.12132 \nC -2.683901 -1.55874 -3 -0.795609 -3 0 \nC -3 0.795609 -2.683901 1.55874 -2.12132 2.12132 \nC -1.55874 2.683901 -0.795609 3 0 3 \nz\n\" id=\"m8ea1b6cc3e\" style=\"stroke:#000000;\"/>\n    </defs>\n    <g clip-path=\"url(#p7989263215)\">\n     <use style=\"fill-opacity:0;stroke:#000000;\" x=\"60.405\" xlink:href=\"#m8ea1b6cc3e\" y=\"42.203915\"/>\n    </g>\n   </g>\n   <g id=\"line2d_31\">\n    <path clip-path=\"url(#p7989263215)\" d=\"M 110.625 152.105133 \nL 144.105 152.105133 \nL 144.105 106.574628 \nL 110.625 106.574628 \nL 110.625 152.105133 \n\" style=\"fill:none;stroke:#1f77b4;stroke-linecap:square;\"/>\n   </g>\n   <g id=\"line2d_32\">\n    <path clip-path=\"url(#p7989263215)\" d=\"M 127.365 152.105133 \nL 127.365 191.669572 \n\" style=\"fill:none;stroke:#1f77b4;stroke-linecap:square;\"/>\n   </g>\n   <g id=\"line2d_33\">\n    <path clip-path=\"url(#p7989263215)\" d=\"M 127.365 106.574628 \nL 127.365 55.706065 \n\" style=\"fill:none;stroke:#1f77b4;stroke-linecap:square;\"/>\n   </g>\n   <g id=\"line2d_34\">\n    <path clip-path=\"url(#p7989263215)\" d=\"M 118.995 191.669572 \nL 135.735 191.669572 \n\" style=\"fill:none;stroke:#000000;stroke-linecap:square;\"/>\n   </g>\n   <g id=\"line2d_35\">\n    <path clip-path=\"url(#p7989263215)\" d=\"M 118.995 55.706065 \nL 135.735 55.706065 \n\" style=\"fill:none;stroke:#000000;stroke-linecap:square;\"/>\n   </g>\n   <g id=\"line2d_36\">\n    <g clip-path=\"url(#p7989263215)\">\n     <use style=\"fill-opacity:0;stroke:#000000;\" x=\"127.365\" xlink:href=\"#m8ea1b6cc3e\" y=\"29.643776\"/>\n    </g>\n   </g>\n   <g id=\"line2d_37\">\n    <path clip-path=\"url(#p7989263215)\" d=\"M 177.585 145.982065 \nL 211.065 145.982065 \nL 211.065 93.857487 \nL 177.585 93.857487 \nL 177.585 145.982065 \n\" style=\"fill:none;stroke:#1f77b4;stroke-linecap:square;\"/>\n   </g>\n   <g id=\"line2d_38\">\n    <path clip-path=\"url(#p7989263215)\" d=\"M 194.325 145.982065 \nL 194.325 190.413558 \n\" style=\"fill:none;stroke:#1f77b4;stroke-linecap:square;\"/>\n   </g>\n   <g id=\"line2d_39\">\n    <path clip-path=\"url(#p7989263215)\" d=\"M 194.325 93.857487 \nL 194.325 17.083636 \n\" style=\"fill:none;stroke:#1f77b4;stroke-linecap:square;\"/>\n   </g>\n   <g id=\"line2d_40\">\n    <path clip-path=\"url(#p7989263215)\" d=\"M 185.955 190.413558 \nL 202.695 190.413558 \n\" style=\"fill:none;stroke:#000000;stroke-linecap:square;\"/>\n   </g>\n   <g id=\"line2d_41\">\n    <path clip-path=\"url(#p7989263215)\" d=\"M 185.955 17.083636 \nL 202.695 17.083636 \n\" style=\"fill:none;stroke:#000000;stroke-linecap:square;\"/>\n   </g>\n   <g id=\"line2d_42\"/>\n   <g id=\"line2d_43\">\n    <path clip-path=\"url(#p7989263215)\" d=\"M 244.545 199.62799 \nL 278.025 199.62799 \nL 278.025 178.93469 \nL 244.545 178.93469 \nL 244.545 199.62799 \n\" style=\"fill:none;stroke:#1f77b4;stroke-linecap:square;\"/>\n   </g>\n   <g id=\"line2d_44\">\n    <path clip-path=\"url(#p7989263215)\" d=\"M 261.285 199.62799 \nL 261.285 212.585972 \n\" style=\"fill:none;stroke:#1f77b4;stroke-linecap:square;\"/>\n   </g>\n   <g id=\"line2d_45\">\n    <path clip-path=\"url(#p7989263215)\" d=\"M 261.285 178.93469 \nL 261.285 158.520224 \n\" style=\"fill:none;stroke:#1f77b4;stroke-linecap:square;\"/>\n   </g>\n   <g id=\"line2d_46\">\n    <path clip-path=\"url(#p7989263215)\" d=\"M 252.915 212.585972 \nL 269.655 212.585972 \n\" style=\"fill:none;stroke:#000000;stroke-linecap:square;\"/>\n   </g>\n   <g id=\"line2d_47\">\n    <path clip-path=\"url(#p7989263215)\" d=\"M 252.915 158.520224 \nL 269.655 158.520224 \n\" style=\"fill:none;stroke:#000000;stroke-linecap:square;\"/>\n   </g>\n   <g id=\"line2d_48\"/>\n   <g id=\"line2d_49\">\n    <path clip-path=\"url(#p7989263215)\" d=\"M 311.505 207.414805 \nL 344.985 207.414805 \nL 344.985 200.278605 \nL 311.505 200.278605 \nL 311.505 207.414805 \n\" style=\"fill:none;stroke:#1f77b4;stroke-linecap:square;\"/>\n   </g>\n   <g id=\"line2d_50\">\n    <path clip-path=\"url(#p7989263215)\" d=\"M 328.245 207.414805 \nL 328.245 214.756364 \n\" style=\"fill:none;stroke:#1f77b4;stroke-linecap:square;\"/>\n   </g>\n   <g id=\"line2d_51\">\n    <path clip-path=\"url(#p7989263215)\" d=\"M 328.245 200.278605 \nL 328.245 192.479701 \n\" style=\"fill:none;stroke:#1f77b4;stroke-linecap:square;\"/>\n   </g>\n   <g id=\"line2d_52\">\n    <path clip-path=\"url(#p7989263215)\" d=\"M 319.875 214.756364 \nL 336.615 214.756364 \n\" style=\"fill:none;stroke:#000000;stroke-linecap:square;\"/>\n   </g>\n   <g id=\"line2d_53\">\n    <path clip-path=\"url(#p7989263215)\" d=\"M 319.875 192.479701 \nL 336.615 192.479701 \n\" style=\"fill:none;stroke:#000000;stroke-linecap:square;\"/>\n   </g>\n   <g id=\"line2d_54\"/>\n   <g id=\"line2d_55\">\n    <path clip-path=\"url(#p7989263215)\" d=\"M 43.665 139.544994 \nL 77.145 139.544994 \n\" style=\"fill:none;stroke:#2ca02c;stroke-linecap:square;\"/>\n   </g>\n   <g id=\"line2d_56\">\n    <path clip-path=\"url(#p7989263215)\" d=\"M 110.625 133.264924 \nL 144.105 133.264924 \n\" style=\"fill:none;stroke:#2ca02c;stroke-linecap:square;\"/>\n   </g>\n   <g id=\"line2d_57\">\n    <path clip-path=\"url(#p7989263215)\" d=\"M 177.585 123.530816 \nL 211.065 123.530816 \n\" style=\"fill:none;stroke:#2ca02c;stroke-linecap:square;\"/>\n   </g>\n   <g id=\"line2d_58\">\n    <path clip-path=\"url(#p7989263215)\" d=\"M 244.545 193.578713 \nL 278.025 193.578713 \n\" style=\"fill:none;stroke:#2ca02c;stroke-linecap:square;\"/>\n   </g>\n   <g id=\"line2d_59\">\n    <path clip-path=\"url(#p7989263215)\" d=\"M 311.505 204.750957 \nL 344.985 204.750957 \n\" style=\"fill:none;stroke:#2ca02c;stroke-linecap:square;\"/>\n   </g>\n   <g id=\"patch_3\">\n    <path d=\"M 26.925 224.64 \nL 26.925 7.2 \n\" style=\"fill:none;stroke:#000000;stroke-linecap:square;stroke-linejoin:miter;stroke-width:0.8;\"/>\n   </g>\n   <g id=\"patch_4\">\n    <path d=\"M 361.725 224.64 \nL 361.725 7.2 \n\" style=\"fill:none;stroke:#000000;stroke-linecap:square;stroke-linejoin:miter;stroke-width:0.8;\"/>\n   </g>\n   <g id=\"patch_5\">\n    <path d=\"M 26.925 224.64 \nL 361.725 224.64 \n\" style=\"fill:none;stroke:#000000;stroke-linecap:square;stroke-linejoin:miter;stroke-width:0.8;\"/>\n   </g>\n   <g id=\"patch_6\">\n    <path d=\"M 26.925 7.2 \nL 361.725 7.2 \n\" style=\"fill:none;stroke:#000000;stroke-linecap:square;stroke-linejoin:miter;stroke-width:0.8;\"/>\n   </g>\n  </g>\n </g>\n <defs>\n  <clipPath id=\"p7989263215\">\n   <rect height=\"217.44\" width=\"334.8\" x=\"26.925\" y=\"7.2\"/>\n  </clipPath>\n </defs>\n</svg>\n",
      "image/png": "[encoded data removed]"
     },
     "metadata": {
      "needs_background": "light"
     }
    }
   ],
   "source": [
    "train.drop(\"Weight\", axis=1).boxplot()"
   ]
  },
  {
   "cell_type": "markdown",
   "id": "7bb224ba",
   "metadata": {},
   "source": [
    "## Initialize all regressors"
   ]
  },
  {
   "cell_type": "code",
   "execution_count": 10,
   "id": "82ea4e84",
   "metadata": {},
   "outputs": [],
   "source": [
    "class DummyRegressor():\n",
    "    def fit(self, X_train, y_train):\n",
    "        self.range = min(y_train), max(y_train)\n",
    "    \n",
    "    def predict(self, X_test):\n",
    "        return np.random.uniform(self.range[0], self.range[1], [len(X_test)])\n",
    "    \n",
    "    def get_params(self, deep=True):\n",
    "        return {}      \n",
    "\n",
    "regressors = {\n",
    "    \"dummy\": DummyRegressor(),\n",
    "    \"decisionTree\": sk.tree.DecisionTreeRegressor(),\n",
    "    \"linearRegression\": sk.linear_model.LinearRegression(),\n",
    "    \"randomForestRegressor\": sk.ensemble.RandomForestRegressor(),\n",
    "    \"auto-sklearn\" : AutoSklearnRegressor(\n",
    "        time_left_for_this_task = 60,\n",
    "        per_run_time_limit = 10,\n",
    "        n_jobs=-1\n",
    "    ),\n",
    "    # our regressors\n",
    "    \"autoML\": AutoML(fitting_time=60, n_jobs=-1),\n",
    "}"
   ]
  },
  {
   "cell_type": "markdown",
   "id": "1f7c9376",
   "metadata": {},
   "source": [
    "## Check training performance"
   ]
  },
  {
   "cell_type": "code",
   "execution_count": 11,
   "metadata": {},
   "outputs": [],
   "source": [
    "from sklearn.metrics import make_scorer\n",
    "\n",
    "def relative_squared_error(y_pred, y_test):\n",
    "    avg = np.average(y_test)\n",
    "    error = y_pred-y_test\n",
    "    mean_error = -(y_test-avg)\n",
    "    return np.sum(error**2)/np.sum(mean_error**2)\n",
    "\n",
    "def correlation_coefficient(y_pred, y_test):\n",
    "    return np.corrcoef(np.array([y_pred, y_test]))[0][1]\n",
    "\n",
    "def check_stats(predictor, X, y, name):\n",
    "    \n",
    "    scoring = {\n",
    "        \"MSE\": make_scorer(sk.metrics.mean_absolute_error),\n",
    "        \"RSE\": make_scorer(relative_squared_error),\n",
    "        \"CorrCoef\": make_scorer(correlation_coefficient)\n",
    "    }\n",
    "\n",
    "    result = sk.model_selection.cross_validate(predictor, X, y, scoring=scoring)\n",
    "\n",
    "    fit_time = np.mean(result[\"fit_time\"])\n",
    "    score_time = np.mean(result[\"score_time\"])\n",
    "    mse = np.mean(result[\"test_MSE\"])\n",
    "    rse = np.mean(result[\"test_RSE\"])\n",
    "    corr = np.mean(result[\"test_CorrCoef\"])\n",
    "\n",
    "    return name, mse, rse, corr, fit_time, score_time"
   ]
  },
  {
   "cell_type": "code",
   "execution_count": 12,
   "id": "f0b7a28c",
   "metadata": {},
   "outputs": [],
   "source": [
    "def get_performance(regressors, X, y):\n",
    "    # check stats of all regressors\n",
    "    columns = [\"Name\", \"MAE\", \"RSE\", \"Corr\", \"Fit time\", \"Score time\"]\n",
    "    rows = []\n",
    "    for regressor_name in regressors:\n",
    "        stats = check_stats(regressors[regressor_name], X, y, regressor_name)\n",
    "        rows.append(stats)\n",
    "    stats = pd.DataFrame(rows, columns=columns)\n",
    "    return stats"
   ]
  },
  {
   "cell_type": "markdown",
   "id": "347fe1ee",
   "metadata": {},
   "source": [
    "### Preprocessing - Removing \"Species\""
   ]
  },
  {
   "cell_type": "code",
   "execution_count": 12,
   "id": "bf060aa1",
   "metadata": {
    "tags": []
   },
   "outputs": [
    {
     "output_type": "stream",
     "name": "stderr",
     "text": [
      "/home/alex/projects/autoML/.venv/lib/python3.8/site-packages/sklearn/neural_network/_multilayer_perceptron.py:614: ConvergenceWarning: Stochastic Optimizer: Maximum iterations (1000) reached and the optimization hasn't converged yet.\n",
      "  warnings.warn(\n",
      "/home/alex/projects/autoML/.venv/lib/python3.8/site-packages/sklearn/neural_network/_multilayer_perceptron.py:614: ConvergenceWarning: Stochastic Optimizer: Maximum iterations (1000) reached and the optimization hasn't converged yet.\n",
      "  warnings.warn(\n",
      "/home/alex/projects/autoML/.venv/lib/python3.8/site-packages/sklearn/neural_network/_multilayer_perceptron.py:614: ConvergenceWarning: Stochastic Optimizer: Maximum iterations (1000) reached and the optimization hasn't converged yet.\n",
      "  warnings.warn(\n",
      "/home/alex/projects/autoML/.venv/lib/python3.8/site-packages/sklearn/neural_network/_multilayer_perceptron.py:614: ConvergenceWarning: Stochastic Optimizer: Maximum iterations (1000) reached and the optimization hasn't converged yet.\n",
      "  warnings.warn(\n",
      "/home/alex/projects/autoML/.venv/lib/python3.8/site-packages/sklearn/neural_network/_multilayer_perceptron.py:614: ConvergenceWarning: Stochastic Optimizer: Maximum iterations (1000) reached and the optimization hasn't converged yet.\n",
      "  warnings.warn(\n",
      "/home/alex/projects/autoML/.venv/lib/python3.8/site-packages/sklearn/neural_network/_multilayer_perceptron.py:614: ConvergenceWarning: Stochastic Optimizer: Maximum iterations (1000) reached and the optimization hasn't converged yet.\n",
      "  warnings.warn(\n",
      "/home/alex/projects/autoML/.venv/lib/python3.8/site-packages/sklearn/neural_network/_multilayer_perceptron.py:614: ConvergenceWarning: Stochastic Optimizer: Maximum iterations (1000) reached and the optimization hasn't converged yet.\n",
      "  warnings.warn(\n",
      "/home/alex/projects/autoML/.venv/lib/python3.8/site-packages/sklearn/neural_network/_multilayer_perceptron.py:614: ConvergenceWarning: Stochastic Optimizer: Maximum iterations (1000) reached and the optimization hasn't converged yet.\n",
      "  warnings.warn(\n",
      "/home/alex/projects/autoML/.venv/lib/python3.8/site-packages/sklearn/neural_network/_multilayer_perceptron.py:614: ConvergenceWarning: Stochastic Optimizer: Maximum iterations (1000) reached and the optimization hasn't converged yet.\n",
      "  warnings.warn(\n"
     ]
    },
    {
     "output_type": "execute_result",
     "data": {
      "text/plain": [
       "                    Name         MAE       RSE      Corr   Fit time  \\\n",
       "0                  dummy  612.532712  2.849263 -0.036689   0.000715   \n",
       "1           decisionTree   61.428800  0.071024  0.970212   0.002670   \n",
       "2       linearRegression   97.224079  0.140271  0.944974   0.009200   \n",
       "3  randomForestRegressor   42.919800  0.040125  0.985517   0.112372   \n",
       "4           auto-sklearn   37.467326  0.027633  0.988644  34.322021   \n",
       "5                 autoML   43.478322  0.038897  0.984529  30.234937   \n",
       "\n",
       "   Score time  \n",
       "0    0.001214  \n",
       "1    0.004089  \n",
       "2    0.002982  \n",
       "3    0.008919  \n",
       "4    0.088448  \n",
       "5    0.010933  "
      ],
      "text/html": "<div>\n<style scoped>\n    .dataframe tbody tr th:only-of-type {\n        vertical-align: middle;\n    }\n\n    .dataframe tbody tr th {\n        vertical-align: top;\n    }\n\n    .dataframe thead th {\n        text-align: right;\n    }\n</style>\n<table border=\"1\" class=\"dataframe\">\n  <thead>\n    <tr style=\"text-align: right;\">\n      <th></th>\n      <th>Name</th>\n      <th>MAE</th>\n      <th>RSE</th>\n      <th>Corr</th>\n      <th>Fit time</th>\n      <th>Score time</th>\n    </tr>\n  </thead>\n  <tbody>\n    <tr>\n      <th>0</th>\n      <td>dummy</td>\n      <td>612.532712</td>\n      <td>2.849263</td>\n      <td>-0.036689</td>\n      <td>0.000715</td>\n      <td>0.001214</td>\n    </tr>\n    <tr>\n      <th>1</th>\n      <td>decisionTree</td>\n      <td>61.428800</td>\n      <td>0.071024</td>\n      <td>0.970212</td>\n      <td>0.002670</td>\n      <td>0.004089</td>\n    </tr>\n    <tr>\n      <th>2</th>\n      <td>linearRegression</td>\n      <td>97.224079</td>\n      <td>0.140271</td>\n      <td>0.944974</td>\n      <td>0.009200</td>\n      <td>0.002982</td>\n    </tr>\n    <tr>\n      <th>3</th>\n      <td>randomForestRegressor</td>\n      <td>42.919800</td>\n      <td>0.040125</td>\n      <td>0.985517</td>\n      <td>0.112372</td>\n      <td>0.008919</td>\n    </tr>\n    <tr>\n      <th>4</th>\n      <td>auto-sklearn</td>\n      <td>37.467326</td>\n      <td>0.027633</td>\n      <td>0.988644</td>\n      <td>34.322021</td>\n      <td>0.088448</td>\n    </tr>\n    <tr>\n      <th>5</th>\n      <td>autoML</td>\n      <td>43.478322</td>\n      <td>0.038897</td>\n      <td>0.984529</td>\n      <td>30.234937</td>\n      <td>0.010933</td>\n    </tr>\n  </tbody>\n</table>\n</div>"
     },
     "metadata": {},
     "execution_count": 12
    }
   ],
   "source": [
    "X_rem = train.drop([\"Weight\", \"Species\"], axis=1)\n",
    "y_rem = train[\"Weight\"]\n",
    "\n",
    "stats_rem = get_performance(regressors, X_rem, y_rem)\n",
    "stats_rem"
   ]
  },
  {
   "cell_type": "markdown",
   "id": "0c541909",
   "metadata": {},
   "source": [
    "### Preprocessing - One-hot encoding \"Species\""
   ]
  },
  {
   "cell_type": "code",
   "execution_count": 13,
   "id": "d03214cc",
   "metadata": {},
   "outputs": [
    {
     "output_type": "execute_result",
     "data": {
      "text/plain": [
       "     Weight  Length1  Length2  Length3   Height   Width  Species_Bream  \\\n",
       "78     78.0     16.8     18.7     19.4   5.1992  3.1234              0   \n",
       "22    620.0     31.5     34.5     39.7  15.5227  5.2801              1   \n",
       "32    925.0     36.2     39.5     45.3  18.7542  6.7497              1   \n",
       "126  1000.0     40.2     43.5     46.0  12.6040  8.1420              0   \n",
       "129   300.0     31.7     34.0     37.8   5.7078  4.1580              0   \n",
       "\n",
       "     Species_Parkki  Species_Perch  Species_Pike  Species_Roach  \\\n",
       "78                0              1             0              0   \n",
       "22                0              0             0              0   \n",
       "32                0              0             0              0   \n",
       "126               0              1             0              0   \n",
       "129               0              0             1              0   \n",
       "\n",
       "     Species_Smelt  Species_Whitefish  \n",
       "78               0                  0  \n",
       "22               0                  0  \n",
       "32               0                  0  \n",
       "126              0                  0  \n",
       "129              0                  0  "
      ],
      "text/html": "<div>\n<style scoped>\n    .dataframe tbody tr th:only-of-type {\n        vertical-align: middle;\n    }\n\n    .dataframe tbody tr th {\n        vertical-align: top;\n    }\n\n    .dataframe thead th {\n        text-align: right;\n    }\n</style>\n<table border=\"1\" class=\"dataframe\">\n  <thead>\n    <tr style=\"text-align: right;\">\n      <th></th>\n      <th>Weight</th>\n      <th>Length1</th>\n      <th>Length2</th>\n      <th>Length3</th>\n      <th>Height</th>\n      <th>Width</th>\n      <th>Species_Bream</th>\n      <th>Species_Parkki</th>\n      <th>Species_Perch</th>\n      <th>Species_Pike</th>\n      <th>Species_Roach</th>\n      <th>Species_Smelt</th>\n      <th>Species_Whitefish</th>\n    </tr>\n  </thead>\n  <tbody>\n    <tr>\n      <th>78</th>\n      <td>78.0</td>\n      <td>16.8</td>\n      <td>18.7</td>\n      <td>19.4</td>\n      <td>5.1992</td>\n      <td>3.1234</td>\n      <td>0</td>\n      <td>0</td>\n      <td>1</td>\n      <td>0</td>\n      <td>0</td>\n      <td>0</td>\n      <td>0</td>\n    </tr>\n    <tr>\n      <th>22</th>\n      <td>620.0</td>\n      <td>31.5</td>\n      <td>34.5</td>\n      <td>39.7</td>\n      <td>15.5227</td>\n      <td>5.2801</td>\n      <td>1</td>\n      <td>0</td>\n      <td>0</td>\n      <td>0</td>\n      <td>0</td>\n      <td>0</td>\n      <td>0</td>\n    </tr>\n    <tr>\n      <th>32</th>\n      <td>925.0</td>\n      <td>36.2</td>\n      <td>39.5</td>\n      <td>45.3</td>\n      <td>18.7542</td>\n      <td>6.7497</td>\n      <td>1</td>\n      <td>0</td>\n      <td>0</td>\n      <td>0</td>\n      <td>0</td>\n      <td>0</td>\n      <td>0</td>\n    </tr>\n    <tr>\n      <th>126</th>\n      <td>1000.0</td>\n      <td>40.2</td>\n      <td>43.5</td>\n      <td>46.0</td>\n      <td>12.6040</td>\n      <td>8.1420</td>\n      <td>0</td>\n      <td>0</td>\n      <td>1</td>\n      <td>0</td>\n      <td>0</td>\n      <td>0</td>\n      <td>0</td>\n    </tr>\n    <tr>\n      <th>129</th>\n      <td>300.0</td>\n      <td>31.7</td>\n      <td>34.0</td>\n      <td>37.8</td>\n      <td>5.7078</td>\n      <td>4.1580</td>\n      <td>0</td>\n      <td>0</td>\n      <td>0</td>\n      <td>1</td>\n      <td>0</td>\n      <td>0</td>\n      <td>0</td>\n    </tr>\n  </tbody>\n</table>\n</div>"
     },
     "metadata": {},
     "execution_count": 13
    }
   ],
   "source": [
    "train_encoded = pd.get_dummies(train, columns=[\"Species\"])\n",
    "train_encoded.head()"
   ]
  },
  {
   "cell_type": "code",
   "execution_count": 14,
   "id": "67fae60d",
   "metadata": {
    "tags": []
   },
   "outputs": [
    {
     "output_type": "stream",
     "name": "stderr",
     "text": [
      "/home/alex/projects/autoML/.venv/lib/python3.8/site-packages/sklearn/neural_network/_multilayer_perceptron.py:614: ConvergenceWarning: Stochastic Optimizer: Maximum iterations (1000) reached and the optimization hasn't converged yet.\n",
      "  warnings.warn(\n",
      "/home/alex/projects/autoML/.venv/lib/python3.8/site-packages/sklearn/neural_network/_multilayer_perceptron.py:614: ConvergenceWarning: Stochastic Optimizer: Maximum iterations (1000) reached and the optimization hasn't converged yet.\n",
      "  warnings.warn(\n",
      "/home/alex/projects/autoML/.venv/lib/python3.8/site-packages/sklearn/neural_network/_multilayer_perceptron.py:614: ConvergenceWarning: Stochastic Optimizer: Maximum iterations (1000) reached and the optimization hasn't converged yet.\n",
      "  warnings.warn(\n"
     ]
    },
    {
     "output_type": "execute_result",
     "data": {
      "text/plain": [
       "                    Name         MAE       RSE      Corr   Fit time  \\\n",
       "0                  dummy  623.715479  2.388382  0.047635   0.000861   \n",
       "1           decisionTree   57.962954  0.068950  0.971393   0.003051   \n",
       "2       linearRegression   77.977998  0.098102  0.959270   0.007194   \n",
       "3  randomForestRegressor   43.445644  0.039365  0.985536   0.107143   \n",
       "4           auto-sklearn   39.822936  0.041201  0.987092  28.045474   \n",
       "5                 autoML   44.006607  0.041280  0.984430  30.211085   \n",
       "\n",
       "   Score time  \n",
       "0    0.001510  \n",
       "1    0.002687  \n",
       "2    0.005920  \n",
       "3    0.009468  \n",
       "4    0.073362  \n",
       "5    0.010630  "
      ],
      "text/html": "<div>\n<style scoped>\n    .dataframe tbody tr th:only-of-type {\n        vertical-align: middle;\n    }\n\n    .dataframe tbody tr th {\n        vertical-align: top;\n    }\n\n    .dataframe thead th {\n        text-align: right;\n    }\n</style>\n<table border=\"1\" class=\"dataframe\">\n  <thead>\n    <tr style=\"text-align: right;\">\n      <th></th>\n      <th>Name</th>\n      <th>MAE</th>\n      <th>RSE</th>\n      <th>Corr</th>\n      <th>Fit time</th>\n      <th>Score time</th>\n    </tr>\n  </thead>\n  <tbody>\n    <tr>\n      <th>0</th>\n      <td>dummy</td>\n      <td>623.715479</td>\n      <td>2.388382</td>\n      <td>0.047635</td>\n      <td>0.000861</td>\n      <td>0.001510</td>\n    </tr>\n    <tr>\n      <th>1</th>\n      <td>decisionTree</td>\n      <td>57.962954</td>\n      <td>0.068950</td>\n      <td>0.971393</td>\n      <td>0.003051</td>\n      <td>0.002687</td>\n    </tr>\n    <tr>\n      <th>2</th>\n      <td>linearRegression</td>\n      <td>77.977998</td>\n      <td>0.098102</td>\n      <td>0.959270</td>\n      <td>0.007194</td>\n      <td>0.005920</td>\n    </tr>\n    <tr>\n      <th>3</th>\n      <td>randomForestRegressor</td>\n      <td>43.445644</td>\n      <td>0.039365</td>\n      <td>0.985536</td>\n      <td>0.107143</td>\n      <td>0.009468</td>\n    </tr>\n    <tr>\n      <th>4</th>\n      <td>auto-sklearn</td>\n      <td>39.822936</td>\n      <td>0.041201</td>\n      <td>0.987092</td>\n      <td>28.045474</td>\n      <td>0.073362</td>\n    </tr>\n    <tr>\n      <th>5</th>\n      <td>autoML</td>\n      <td>44.006607</td>\n      <td>0.041280</td>\n      <td>0.984430</td>\n      <td>30.211085</td>\n      <td>0.010630</td>\n    </tr>\n  </tbody>\n</table>\n</div>"
     },
     "metadata": {},
     "execution_count": 14
    }
   ],
   "source": [
    "X_enc = train_encoded.drop(\"Weight\", axis=1)\n",
    "y_enc = train_encoded[\"Weight\"]\n",
    "\n",
    "stats_enc = get_performance(regressors, X_enc, y_enc)\n",
    "stats_enc"
   ]
  },
  {
   "cell_type": "markdown",
   "id": "564bba4c",
   "metadata": {},
   "source": [
    "### Preprocessing - One-hot encoding + standardization"
   ]
  },
  {
   "cell_type": "code",
   "execution_count": 15,
   "id": "a20bdba8",
   "metadata": {
    "tags": []
   },
   "outputs": [
    {
     "output_type": "stream",
     "name": "stderr",
     "text": [
      "/home/alex/projects/autoML/.venv/lib/python3.8/site-packages/sklearn/neural_network/_multilayer_perceptron.py:614: ConvergenceWarning: Stochastic Optimizer: Maximum iterations (1000) reached and the optimization hasn't converged yet.\n",
      "  warnings.warn(\n",
      "/home/alex/projects/autoML/.venv/lib/python3.8/site-packages/sklearn/neural_network/_multilayer_perceptron.py:614: ConvergenceWarning: Stochastic Optimizer: Maximum iterations (1000) reached and the optimization hasn't converged yet.\n",
      "  warnings.warn(\n",
      "/home/alex/projects/autoML/.venv/lib/python3.8/site-packages/sklearn/neural_network/_multilayer_perceptron.py:614: ConvergenceWarning: Stochastic Optimizer: Maximum iterations (1000) reached and the optimization hasn't converged yet.\n",
      "  warnings.warn(\n",
      "/home/alex/projects/autoML/.venv/lib/python3.8/site-packages/sklearn/neural_network/_multilayer_perceptron.py:614: ConvergenceWarning: Stochastic Optimizer: Maximum iterations (1000) reached and the optimization hasn't converged yet.\n",
      "  warnings.warn(\n",
      "/home/alex/projects/autoML/.venv/lib/python3.8/site-packages/sklearn/neural_network/_multilayer_perceptron.py:614: ConvergenceWarning: Stochastic Optimizer: Maximum iterations (1000) reached and the optimization hasn't converged yet.\n",
      "  warnings.warn(\n",
      "/home/alex/projects/autoML/.venv/lib/python3.8/site-packages/sklearn/neural_network/_multilayer_perceptron.py:614: ConvergenceWarning: Stochastic Optimizer: Maximum iterations (1000) reached and the optimization hasn't converged yet.\n",
      "  warnings.warn(\n",
      "/home/alex/projects/autoML/.venv/lib/python3.8/site-packages/sklearn/neural_network/_multilayer_perceptron.py:614: ConvergenceWarning: Stochastic Optimizer: Maximum iterations (1000) reached and the optimization hasn't converged yet.\n",
      "  warnings.warn(\n"
     ]
    },
    {
     "output_type": "execute_result",
     "data": {
      "text/plain": [
       "                    Name         MAE       RSE      Corr   Fit time  \\\n",
       "0                  dummy  587.983552  2.634948  0.030625   0.000936   \n",
       "1           decisionTree   62.516923  0.073491  0.968813   0.005543   \n",
       "2       linearRegression   77.977998  0.098102  0.959270   0.003442   \n",
       "3  randomForestRegressor   43.631605  0.039235  0.985197   0.112338   \n",
       "4           auto-sklearn   36.537844  0.031362  0.988964  29.000854   \n",
       "5                 autoML   83.473382  0.659052  0.876806  30.241145   \n",
       "\n",
       "   Score time  \n",
       "0    0.001598  \n",
       "1    0.003553  \n",
       "2    0.002248  \n",
       "3    0.012280  \n",
       "4    0.065281  \n",
       "5    0.008468  "
      ],
      "text/html": "<div>\n<style scoped>\n    .dataframe tbody tr th:only-of-type {\n        vertical-align: middle;\n    }\n\n    .dataframe tbody tr th {\n        vertical-align: top;\n    }\n\n    .dataframe thead th {\n        text-align: right;\n    }\n</style>\n<table border=\"1\" class=\"dataframe\">\n  <thead>\n    <tr style=\"text-align: right;\">\n      <th></th>\n      <th>Name</th>\n      <th>MAE</th>\n      <th>RSE</th>\n      <th>Corr</th>\n      <th>Fit time</th>\n      <th>Score time</th>\n    </tr>\n  </thead>\n  <tbody>\n    <tr>\n      <th>0</th>\n      <td>dummy</td>\n      <td>587.983552</td>\n      <td>2.634948</td>\n      <td>0.030625</td>\n      <td>0.000936</td>\n      <td>0.001598</td>\n    </tr>\n    <tr>\n      <th>1</th>\n      <td>decisionTree</td>\n      <td>62.516923</td>\n      <td>0.073491</td>\n      <td>0.968813</td>\n      <td>0.005543</td>\n      <td>0.003553</td>\n    </tr>\n    <tr>\n      <th>2</th>\n      <td>linearRegression</td>\n      <td>77.977998</td>\n      <td>0.098102</td>\n      <td>0.959270</td>\n      <td>0.003442</td>\n      <td>0.002248</td>\n    </tr>\n    <tr>\n      <th>3</th>\n      <td>randomForestRegressor</td>\n      <td>43.631605</td>\n      <td>0.039235</td>\n      <td>0.985197</td>\n      <td>0.112338</td>\n      <td>0.012280</td>\n    </tr>\n    <tr>\n      <th>4</th>\n      <td>auto-sklearn</td>\n      <td>36.537844</td>\n      <td>0.031362</td>\n      <td>0.988964</td>\n      <td>29.000854</td>\n      <td>0.065281</td>\n    </tr>\n    <tr>\n      <th>5</th>\n      <td>autoML</td>\n      <td>83.473382</td>\n      <td>0.659052</td>\n      <td>0.876806</td>\n      <td>30.241145</td>\n      <td>0.008468</td>\n    </tr>\n  </tbody>\n</table>\n</div>"
     },
     "metadata": {},
     "execution_count": 15
    }
   ],
   "source": [
    "from sklearn import preprocessing\n",
    "\n",
    "min_max_scaler = preprocessing.MinMaxScaler()\n",
    "x_scaled = min_max_scaler.fit_transform(X_enc)\n",
    "\n",
    "X_std = pd.DataFrame(x_scaled, columns=X_enc.columns)\n",
    "y_std = y_enc\n",
    "\n",
    "X_std.index = y_std.index\n",
    "\n",
    "stats_std = get_performance(regressors, X_std, y_std)\n",
    "stats_std"
   ]
  },
  {
   "cell_type": "markdown",
   "id": "e0a80171",
   "metadata": {},
   "source": [
    "The performance checks show that the preprocessing step of one-hot encode the \"Species\" column is better than removing the column and has not real benefit over additional standardization.\n",
    "Therefore one-hot encoding is enough."
   ]
  },
  {
   "cell_type": "markdown",
   "id": "89f1fabe",
   "metadata": {},
   "source": [
    "## Checking performance on test set"
   ]
  },
  {
   "cell_type": "code",
   "execution_count": 16,
   "id": "1650ce28",
   "metadata": {},
   "outputs": [],
   "source": [
    "from time import time\n",
    "\n",
    "def get_test_performance(regressor, X, y):   \n",
    "    t = time()\n",
    "    y_pred = regressor.predict(X)\n",
    "    t = time() - t\n",
    "    \n",
    "    mae = sk.metrics.mean_absolute_error(y_pred, y)\n",
    "    rse = relative_squared_error(y_pred, y)\n",
    "    corr = correlation_coefficient(y_pred,y)\n",
    "    \n",
    "    return mae, rse, corr, t\n",
    "    "
   ]
  },
  {
   "cell_type": "code",
   "execution_count": 17,
   "id": "c0e94cf1",
   "metadata": {},
   "outputs": [
    {
     "output_type": "stream",
     "name": "stderr",
     "text": [
      "/home/alex/projects/autoML/.venv/lib/python3.8/site-packages/sklearn/neural_network/_multilayer_perceptron.py:614: ConvergenceWarning: Stochastic Optimizer: Maximum iterations (1000) reached and the optimization hasn't converged yet.\n",
      "  warnings.warn(\n",
      "/home/alex/projects/autoML/.venv/lib/python3.8/site-packages/sklearn/neural_network/_multilayer_perceptron.py:614: ConvergenceWarning: Stochastic Optimizer: Maximum iterations (1000) reached and the optimization hasn't converged yet.\n",
      "  warnings.warn(\n",
      "/home/alex/projects/autoML/.venv/lib/python3.8/site-packages/sklearn/neural_network/_multilayer_perceptron.py:614: ConvergenceWarning: Stochastic Optimizer: Maximum iterations (1000) reached and the optimization hasn't converged yet.\n",
      "  warnings.warn(\n",
      "/home/alex/projects/autoML/.venv/lib/python3.8/site-packages/sklearn/neural_network/_multilayer_perceptron.py:614: ConvergenceWarning: Stochastic Optimizer: Maximum iterations (1000) reached and the optimization hasn't converged yet.\n",
      "  warnings.warn(\n"
     ]
    },
    {
     "output_type": "execute_result",
     "data": {
      "text/plain": [
       "                    Name         MAE       RSE  CorrCoeff  TrainTime  TestTime\n",
       "0                  dummy  555.817210  7.355206  -0.067390   0.000032  0.000060\n",
       "1           decisionTree   50.846875  0.100627   0.950842   0.002528  0.001412\n",
       "2       linearRegression   69.089264  0.129618   0.947700   0.001647  0.001343\n",
       "3  randomForestRegressor   26.327437  0.020354   0.989817   0.135232  0.012322\n",
       "4           auto-sklearn   20.940403  0.012755   0.994218  26.299030  0.090896\n",
       "5                 autoML   26.842666  0.021168   0.989381  30.328831  0.007595"
      ],
      "text/html": "<div>\n<style scoped>\n    .dataframe tbody tr th:only-of-type {\n        vertical-align: middle;\n    }\n\n    .dataframe tbody tr th {\n        vertical-align: top;\n    }\n\n    .dataframe thead th {\n        text-align: right;\n    }\n</style>\n<table border=\"1\" class=\"dataframe\">\n  <thead>\n    <tr style=\"text-align: right;\">\n      <th></th>\n      <th>Name</th>\n      <th>MAE</th>\n      <th>RSE</th>\n      <th>CorrCoeff</th>\n      <th>TrainTime</th>\n      <th>TestTime</th>\n    </tr>\n  </thead>\n  <tbody>\n    <tr>\n      <th>0</th>\n      <td>dummy</td>\n      <td>555.817210</td>\n      <td>7.355206</td>\n      <td>-0.067390</td>\n      <td>0.000032</td>\n      <td>0.000060</td>\n    </tr>\n    <tr>\n      <th>1</th>\n      <td>decisionTree</td>\n      <td>50.846875</td>\n      <td>0.100627</td>\n      <td>0.950842</td>\n      <td>0.002528</td>\n      <td>0.001412</td>\n    </tr>\n    <tr>\n      <th>2</th>\n      <td>linearRegression</td>\n      <td>69.089264</td>\n      <td>0.129618</td>\n      <td>0.947700</td>\n      <td>0.001647</td>\n      <td>0.001343</td>\n    </tr>\n    <tr>\n      <th>3</th>\n      <td>randomForestRegressor</td>\n      <td>26.327437</td>\n      <td>0.020354</td>\n      <td>0.989817</td>\n      <td>0.135232</td>\n      <td>0.012322</td>\n    </tr>\n    <tr>\n      <th>4</th>\n      <td>auto-sklearn</td>\n      <td>20.940403</td>\n      <td>0.012755</td>\n      <td>0.994218</td>\n      <td>26.299030</td>\n      <td>0.090896</td>\n    </tr>\n    <tr>\n      <th>5</th>\n      <td>autoML</td>\n      <td>26.842666</td>\n      <td>0.021168</td>\n      <td>0.989381</td>\n      <td>30.328831</td>\n      <td>0.007595</td>\n    </tr>\n  </tbody>\n</table>\n</div>"
     },
     "metadata": {},
     "execution_count": 17
    }
   ],
   "source": [
    "X_test = pd.get_dummies(test.drop(\"Weight\", axis=1), columns=[\"Species\"])\n",
    "y_test = test[\"Weight\"]\n",
    "\n",
    "X_train = pd.get_dummies(train.drop(\"Weight\", axis=1), columns=[\"Species\"])\n",
    "y_train = train[\"Weight\"]\n",
    "\n",
    "missing_cols = set(X_train.columns) - set(X_test.columns)\n",
    "for c in missing_cols:\n",
    "    X_test[c] = 0\n",
    "X_test = X_test[X_train.columns]\n",
    "\n",
    "test_performance = []\n",
    "for name in regressors:\n",
    "    regressor = regressors[name]\n",
    "    train_t = time()\n",
    "    regressor.fit(X_train, y_train)\n",
    "    train_t = time() - train_t\n",
    "    mae, rse, corr, test_t = get_test_performance(regressor, X_test, y_test)\n",
    "    test_performance.append((name, mae, rse, corr, train_t, test_t))\n",
    "\n",
    "test_stats = pd.DataFrame(test_performance, columns=[\"Name\", \"MAE\", \"RSE\", \"CorrCoeff\", \"TrainTime\", \"TestTime\"])\n",
    "test_stats"
   ]
  }
 ],
 "metadata": {
  "kernelspec": {
   "name": "python3",
   "display_name": "Python 3.8.10 64-bit ('.venv': venv)"
  },
  "language_info": {
   "codemirror_mode": {
    "name": "ipython",
    "version": 3
   },
   "file_extension": ".py",
   "mimetype": "text/x-python",
   "name": "python",
   "nbconvert_exporter": "python",
   "pygments_lexer": "ipython3",
   "version": "3.8.10"
  },
  "interpreter": {
   "hash": "563216aa715a87f692c73f20a0b3e5e0eafb1d077e201164cbf3cc306015c1e0"
  }
 },
 "nbformat": 4,
 "nbformat_minor": 5
}