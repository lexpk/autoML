{
 "cells": [
  {
   "cell_type": "code",
   "execution_count": 1,
   "id": "1ab29a7a",
   "metadata": {},
   "outputs": [],
   "source": [
    "from autoML import AutoML\n",
    "import pandas as pd\n",
    "import sklearn as sk\n",
    "import numpy as np"
   ]
  },
  {
   "cell_type": "markdown",
   "id": "b570b832",
   "metadata": {},
   "source": [
    "## Loading the data"
   ]
  },
  {
   "cell_type": "code",
   "execution_count": 2,
   "id": "c30136ea",
   "metadata": {},
   "outputs": [
    {
     "output_type": "stream",
     "name": "stdout",
     "text": [
      "  Species  Weight  Length1  Length2  Length3   Height   Width\n0   Bream   242.0     23.2     25.4     30.0  11.5200  4.0200\n1   Bream   290.0     24.0     26.3     31.2  12.4800  4.3056\n2   Bream   340.0     23.9     26.5     31.1  12.3778  4.6961\n3   Bream   363.0     26.3     29.0     33.5  12.7300  4.4555\n4   Bream   430.0     26.5     29.0     34.0  12.4440  5.1340\nData shape: (159, 7)\n"
     ]
    }
   ],
   "source": [
    "data = pd.read_csv(\"datasets/Fish.csv\")\n",
    "print(data.head())\n",
    "print(\"Data shape:\", data.shape)"
   ]
  },
  {
   "cell_type": "markdown",
   "id": "4ede6f05",
   "metadata": {},
   "source": [
    "## Split into test and training set"
   ]
  },
  {
   "cell_type": "code",
   "execution_count": 3,
   "id": "289398ee",
   "metadata": {},
   "outputs": [
    {
     "output_type": "execute_result",
     "data": {
      "text/plain": [
       "((127, 7), (32, 7))"
      ]
     },
     "metadata": {},
     "execution_count": 3
    }
   ],
   "source": [
    "from sklearn.model_selection import train_test_split\n",
    "\n",
    "train, test = train_test_split(data, test_size=0.2)\n",
    "\n",
    "train.shape, test.shape"
   ]
  },
  {
   "cell_type": "markdown",
   "id": "7a0c4707",
   "metadata": {},
   "source": [
    "## Get knowledge over dataset"
   ]
  },
  {
   "cell_type": "code",
   "execution_count": 4,
   "id": "a103a896",
   "metadata": {},
   "outputs": [
    {
     "output_type": "execute_result",
     "data": {
      "text/plain": [
       "    Species  Weight  Length1  Length2  Length3  Height   Width\n",
       "67   Parkki   170.0     19.0     20.7     23.2  9.3960  3.4104\n",
       "137    Pike   500.0     42.0     45.0     48.0  6.9600  4.8960\n",
       "87    Perch   120.0     20.0     22.0     23.5  5.6400  3.5250\n",
       "107   Perch   300.0     26.9     28.7     30.1  7.5852  4.6354\n",
       "81    Perch    85.0     18.2     20.0     21.0  5.0820  2.7720"
      ],
      "text/html": "<div>\n<style scoped>\n    .dataframe tbody tr th:only-of-type {\n        vertical-align: middle;\n    }\n\n    .dataframe tbody tr th {\n        vertical-align: top;\n    }\n\n    .dataframe thead th {\n        text-align: right;\n    }\n</style>\n<table border=\"1\" class=\"dataframe\">\n  <thead>\n    <tr style=\"text-align: right;\">\n      <th></th>\n      <th>Species</th>\n      <th>Weight</th>\n      <th>Length1</th>\n      <th>Length2</th>\n      <th>Length3</th>\n      <th>Height</th>\n      <th>Width</th>\n    </tr>\n  </thead>\n  <tbody>\n    <tr>\n      <th>67</th>\n      <td>Parkki</td>\n      <td>170.0</td>\n      <td>19.0</td>\n      <td>20.7</td>\n      <td>23.2</td>\n      <td>9.3960</td>\n      <td>3.4104</td>\n    </tr>\n    <tr>\n      <th>137</th>\n      <td>Pike</td>\n      <td>500.0</td>\n      <td>42.0</td>\n      <td>45.0</td>\n      <td>48.0</td>\n      <td>6.9600</td>\n      <td>4.8960</td>\n    </tr>\n    <tr>\n      <th>87</th>\n      <td>Perch</td>\n      <td>120.0</td>\n      <td>20.0</td>\n      <td>22.0</td>\n      <td>23.5</td>\n      <td>5.6400</td>\n      <td>3.5250</td>\n    </tr>\n    <tr>\n      <th>107</th>\n      <td>Perch</td>\n      <td>300.0</td>\n      <td>26.9</td>\n      <td>28.7</td>\n      <td>30.1</td>\n      <td>7.5852</td>\n      <td>4.6354</td>\n    </tr>\n    <tr>\n      <th>81</th>\n      <td>Perch</td>\n      <td>85.0</td>\n      <td>18.2</td>\n      <td>20.0</td>\n      <td>21.0</td>\n      <td>5.0820</td>\n      <td>2.7720</td>\n    </tr>\n  </tbody>\n</table>\n</div>"
     },
     "metadata": {},
     "execution_count": 4
    }
   ],
   "source": [
    "train.head()"
   ]
  },
  {
   "cell_type": "markdown",
   "id": "d14b86e0",
   "metadata": {},
   "source": [
    "The dataset has 7 attributes (incl. the target attribute *weight*). The attributes *Length1*, *Length2*, *Length3*, *Height* and *Width* are numerical. The attribute *Species* is nominal."
   ]
  },
  {
   "cell_type": "code",
   "execution_count": 5,
   "id": "581df200",
   "metadata": {},
   "outputs": [
    {
     "output_type": "execute_result",
     "data": {
      "text/plain": [
       "            Weight     Length1     Length2     Length3      Height       Width\n",
       "count   127.000000  127.000000  127.000000  127.000000  127.000000  127.000000\n",
       "mean    407.695276   26.378740   28.548031   31.381102    8.958450    4.396091\n",
       "std     376.316126   10.414029   11.175092   12.101264    4.373456    1.707593\n",
       "min       0.000000   10.000000   10.500000   11.600000    1.728400    1.148400\n",
       "25%     120.000000   19.000000   20.850000   22.500000    5.830250    3.363600\n",
       "50%     273.000000   25.200000   27.300000   29.200000    7.680000    4.234000\n",
       "75%     685.000000   33.850000   36.450000   40.550000   12.367400    5.789550\n",
       "max    1650.000000   59.000000   63.400000   68.000000   18.754200    7.595800"
      ],
      "text/html": "<div>\n<style scoped>\n    .dataframe tbody tr th:only-of-type {\n        vertical-align: middle;\n    }\n\n    .dataframe tbody tr th {\n        vertical-align: top;\n    }\n\n    .dataframe thead th {\n        text-align: right;\n    }\n</style>\n<table border=\"1\" class=\"dataframe\">\n  <thead>\n    <tr style=\"text-align: right;\">\n      <th></th>\n      <th>Weight</th>\n      <th>Length1</th>\n      <th>Length2</th>\n      <th>Length3</th>\n      <th>Height</th>\n      <th>Width</th>\n    </tr>\n  </thead>\n  <tbody>\n    <tr>\n      <th>count</th>\n      <td>127.000000</td>\n      <td>127.000000</td>\n      <td>127.000000</td>\n      <td>127.000000</td>\n      <td>127.000000</td>\n      <td>127.000000</td>\n    </tr>\n    <tr>\n      <th>mean</th>\n      <td>407.695276</td>\n      <td>26.378740</td>\n      <td>28.548031</td>\n      <td>31.381102</td>\n      <td>8.958450</td>\n      <td>4.396091</td>\n    </tr>\n    <tr>\n      <th>std</th>\n      <td>376.316126</td>\n      <td>10.414029</td>\n      <td>11.175092</td>\n      <td>12.101264</td>\n      <td>4.373456</td>\n      <td>1.707593</td>\n    </tr>\n    <tr>\n      <th>min</th>\n      <td>0.000000</td>\n      <td>10.000000</td>\n      <td>10.500000</td>\n      <td>11.600000</td>\n      <td>1.728400</td>\n      <td>1.148400</td>\n    </tr>\n    <tr>\n      <th>25%</th>\n      <td>120.000000</td>\n      <td>19.000000</td>\n      <td>20.850000</td>\n      <td>22.500000</td>\n      <td>5.830250</td>\n      <td>3.363600</td>\n    </tr>\n    <tr>\n      <th>50%</th>\n      <td>273.000000</td>\n      <td>25.200000</td>\n      <td>27.300000</td>\n      <td>29.200000</td>\n      <td>7.680000</td>\n      <td>4.234000</td>\n    </tr>\n    <tr>\n      <th>75%</th>\n      <td>685.000000</td>\n      <td>33.850000</td>\n      <td>36.450000</td>\n      <td>40.550000</td>\n      <td>12.367400</td>\n      <td>5.789550</td>\n    </tr>\n    <tr>\n      <th>max</th>\n      <td>1650.000000</td>\n      <td>59.000000</td>\n      <td>63.400000</td>\n      <td>68.000000</td>\n      <td>18.754200</td>\n      <td>7.595800</td>\n    </tr>\n  </tbody>\n</table>\n</div>"
     },
     "metadata": {},
     "execution_count": 5
    }
   ],
   "source": [
    "train.describe()"
   ]
  },
  {
   "cell_type": "code",
   "execution_count": 6,
   "id": "6bd75530",
   "metadata": {},
   "outputs": [
    {
     "output_type": "execute_result",
     "data": {
      "text/plain": [
       "{'Bream', 'Parkki', 'Perch', 'Pike', 'Roach', 'Smelt', 'Whitefish'}"
      ]
     },
     "metadata": {},
     "execution_count": 6
    }
   ],
   "source": [
    "set(train[\"Species\"])"
   ]
  },
  {
   "cell_type": "code",
   "execution_count": 7,
   "id": "14f403ba",
   "metadata": {},
   "outputs": [
    {
     "output_type": "execute_result",
     "data": {
      "text/plain": [
       "<AxesSubplot:ylabel='Species'>"
      ]
     },
     "metadata": {},
     "execution_count": 7
    },
    {
     "output_type": "display_data",
     "data": {
      "text/plain": "<Figure size 432x288 with 1 Axes>",
      "image/svg+xml": "<?xml version=\"1.0\" encoding=\"utf-8\" standalone=\"no\"?>\n<!DOCTYPE svg PUBLIC \"-//W3C//DTD SVG 1.1//EN\"\n  \"http://www.w3.org/Graphics/SVG/1.1/DTD/svg11.dtd\">\n<svg height=\"231.84pt\" version=\"1.1\" viewBox=\"0 0 278.662729 231.84\" width=\"278.662729pt\" xmlns=\"http://www.w3.org/2000/svg\" xmlns:xlink=\"http://www.w3.org/1999/xlink\">\n <metadata>\n  <rdf:RDF xmlns:cc=\"http://creativecommons.org/ns#\" xmlns:dc=\"http://purl.org/dc/elements/1.1/\" xmlns:rdf=\"http://www.w3.org/1999/02/22-rdf-syntax-ns#\">\n   <cc:Work>\n    <dc:type rdf:resource=\"http://purl.org/dc/dcmitype/StillImage\"/>\n    <dc:date>2021-07-06T23:07:42.728970</dc:date>\n    <dc:format>image/svg+xml</dc:format>\n    <dc:creator>\n     <cc:Agent>\n      <dc:title>Matplotlib v3.4.2, https://matplotlib.org/</dc:title>\n     </cc:Agent>\n    </dc:creator>\n   </cc:Work>\n  </rdf:RDF>\n </metadata>\n <defs>\n  <style type=\"text/css\">*{stroke-linecap:butt;stroke-linejoin:round;}</style>\n </defs>\n <g id=\"figure_1\">\n  <g id=\"patch_1\">\n   <path d=\"M 0 231.84 \nL 278.662729 231.84 \nL 278.662729 0 \nL 0 0 \nz\n\" style=\"fill:none;\"/>\n  </g>\n  <g id=\"axes_1\">\n   <g id=\"patch_2\">\n    <path d=\"M 216.574125 115.92 \nC 216.574125 95.640673 209.481632 75.986293 196.531925 60.380006 \nC 183.582218 44.773719 165.573438 34.177401 145.642122 30.436582 \nL 129.598125 115.92 \nL 216.574125 115.92 \nz\n\" style=\"fill:#1f77b4;\"/>\n   </g>\n   <g id=\"patch_3\">\n    <path d=\"M 145.642122 30.436582 \nC 139.291781 29.244715 132.828357 28.764177 126.371584 29.003868 \nC 119.91481 29.243559 113.504804 30.201991 107.26031 31.86141 \nL 129.598125 115.92 \nL 145.642122 30.436582 \nz\n\" style=\"fill:#ff7f0e;\"/>\n   </g>\n   <g id=\"patch_4\">\n    <path d=\"M 107.26031 31.86141 \nC 92.623508 35.751008 79.25333 43.396961 68.478318 54.03952 \nC 57.703305 64.68208 49.892573 77.956668 45.822242 92.544244 \nC 41.75191 107.13182 41.561415 122.532662 45.269686 137.216453 \nC 48.977956 151.900243 56.457959 165.363964 66.966437 176.269782 \nL 129.598125 115.92 \nL 107.26031 31.86141 \nz\n\" style=\"fill:#2ca02c;\"/>\n   </g>\n   <g id=\"patch_5\">\n    <path d=\"M 66.966437 176.269782 \nC 73.950522 183.517945 82.140104 189.499034 91.169827 193.946217 \nC 100.199549 198.3934 109.933106 201.239546 119.93626 202.357682 \nL 129.598125 115.92 \nL 66.966437 176.269782 \nz\n\" style=\"fill:#d62728;\"/>\n   </g>\n   <g id=\"patch_6\">\n    <path d=\"M 119.93626 202.357682 \nC 131.377105 203.636522 142.958827 202.631271 154.008242 199.400362 \nC 165.057657 196.169452 175.356455 190.776718 184.30602 183.53561 \nL 129.598125 115.92 \nL 119.93626 202.357682 \nz\n\" style=\"fill:#9467bd;\"/>\n   </g>\n   <g id=\"patch_7\">\n    <path d=\"M 184.30602 183.53561 \nC 191.569551 177.658677 197.838871 170.649539 202.872551 162.778116 \nC 207.906231 154.906694 211.638816 146.275344 213.926563 137.216457 \nL 129.598125 115.92 \nL 184.30602 183.53561 \nz\n\" style=\"fill:#8c564b;\"/>\n   </g>\n   <g id=\"patch_8\">\n    <path d=\"M 213.926563 137.216457 \nC 214.804859 133.738635 215.467168 130.209808 215.909697 126.6502 \nC 216.352225 123.090591 216.574125 119.507013 216.574125 115.920002 \nL 129.598125 115.92 \nL 213.926563 137.216457 \nz\n\" style=\"fill:#e377c2;\"/>\n   </g>\n   <g id=\"matplotlib.axis_1\"/>\n   <g id=\"matplotlib.axis_2\">\n    <g id=\"text_1\">\n     <!-- Species -->\n     <g transform=\"translate(14.798438 135.164531)rotate(-90)scale(0.1 -0.1)\">\n      <defs>\n       <path d=\"M 3425 4513 \nL 3425 3897 \nQ 3066 4069 2747 4153 \nQ 2428 4238 2131 4238 \nQ 1616 4238 1336 4038 \nQ 1056 3838 1056 3469 \nQ 1056 3159 1242 3001 \nQ 1428 2844 1947 2747 \nL 2328 2669 \nQ 3034 2534 3370 2195 \nQ 3706 1856 3706 1288 \nQ 3706 609 3251 259 \nQ 2797 -91 1919 -91 \nQ 1588 -91 1214 -16 \nQ 841 59 441 206 \nL 441 856 \nQ 825 641 1194 531 \nQ 1563 422 1919 422 \nQ 2459 422 2753 634 \nQ 3047 847 3047 1241 \nQ 3047 1584 2836 1778 \nQ 2625 1972 2144 2069 \nL 1759 2144 \nQ 1053 2284 737 2584 \nQ 422 2884 422 3419 \nQ 422 4038 858 4394 \nQ 1294 4750 2059 4750 \nQ 2388 4750 2728 4690 \nQ 3069 4631 3425 4513 \nz\n\" id=\"DejaVuSans-53\" transform=\"scale(0.015625)\"/>\n       <path d=\"M 1159 525 \nL 1159 -1331 \nL 581 -1331 \nL 581 3500 \nL 1159 3500 \nL 1159 2969 \nQ 1341 3281 1617 3432 \nQ 1894 3584 2278 3584 \nQ 2916 3584 3314 3078 \nQ 3713 2572 3713 1747 \nQ 3713 922 3314 415 \nQ 2916 -91 2278 -91 \nQ 1894 -91 1617 61 \nQ 1341 213 1159 525 \nz\nM 3116 1747 \nQ 3116 2381 2855 2742 \nQ 2594 3103 2138 3103 \nQ 1681 3103 1420 2742 \nQ 1159 2381 1159 1747 \nQ 1159 1113 1420 752 \nQ 1681 391 2138 391 \nQ 2594 391 2855 752 \nQ 3116 1113 3116 1747 \nz\n\" id=\"DejaVuSans-70\" transform=\"scale(0.015625)\"/>\n       <path d=\"M 3597 1894 \nL 3597 1613 \nL 953 1613 \nQ 991 1019 1311 708 \nQ 1631 397 2203 397 \nQ 2534 397 2845 478 \nQ 3156 559 3463 722 \nL 3463 178 \nQ 3153 47 2828 -22 \nQ 2503 -91 2169 -91 \nQ 1331 -91 842 396 \nQ 353 884 353 1716 \nQ 353 2575 817 3079 \nQ 1281 3584 2069 3584 \nQ 2775 3584 3186 3129 \nQ 3597 2675 3597 1894 \nz\nM 3022 2063 \nQ 3016 2534 2758 2815 \nQ 2500 3097 2075 3097 \nQ 1594 3097 1305 2825 \nQ 1016 2553 972 2059 \nL 3022 2063 \nz\n\" id=\"DejaVuSans-65\" transform=\"scale(0.015625)\"/>\n       <path d=\"M 3122 3366 \nL 3122 2828 \nQ 2878 2963 2633 3030 \nQ 2388 3097 2138 3097 \nQ 1578 3097 1268 2742 \nQ 959 2388 959 1747 \nQ 959 1106 1268 751 \nQ 1578 397 2138 397 \nQ 2388 397 2633 464 \nQ 2878 531 3122 666 \nL 3122 134 \nQ 2881 22 2623 -34 \nQ 2366 -91 2075 -91 \nQ 1284 -91 818 406 \nQ 353 903 353 1747 \nQ 353 2603 823 3093 \nQ 1294 3584 2113 3584 \nQ 2378 3584 2631 3529 \nQ 2884 3475 3122 3366 \nz\n\" id=\"DejaVuSans-63\" transform=\"scale(0.015625)\"/>\n       <path d=\"M 603 3500 \nL 1178 3500 \nL 1178 0 \nL 603 0 \nL 603 3500 \nz\nM 603 4863 \nL 1178 4863 \nL 1178 4134 \nL 603 4134 \nL 603 4863 \nz\n\" id=\"DejaVuSans-69\" transform=\"scale(0.015625)\"/>\n       <path d=\"M 2834 3397 \nL 2834 2853 \nQ 2591 2978 2328 3040 \nQ 2066 3103 1784 3103 \nQ 1356 3103 1142 2972 \nQ 928 2841 928 2578 \nQ 928 2378 1081 2264 \nQ 1234 2150 1697 2047 \nL 1894 2003 \nQ 2506 1872 2764 1633 \nQ 3022 1394 3022 966 \nQ 3022 478 2636 193 \nQ 2250 -91 1575 -91 \nQ 1294 -91 989 -36 \nQ 684 19 347 128 \nL 347 722 \nQ 666 556 975 473 \nQ 1284 391 1588 391 \nQ 1994 391 2212 530 \nQ 2431 669 2431 922 \nQ 2431 1156 2273 1281 \nQ 2116 1406 1581 1522 \nL 1381 1569 \nQ 847 1681 609 1914 \nQ 372 2147 372 2553 \nQ 372 3047 722 3315 \nQ 1072 3584 1716 3584 \nQ 2034 3584 2315 3537 \nQ 2597 3491 2834 3397 \nz\n\" id=\"DejaVuSans-73\" transform=\"scale(0.015625)\"/>\n      </defs>\n      <use xlink:href=\"#DejaVuSans-53\"/>\n      <use x=\"63.476562\" xlink:href=\"#DejaVuSans-70\"/>\n      <use x=\"126.953125\" xlink:href=\"#DejaVuSans-65\"/>\n      <use x=\"188.476562\" xlink:href=\"#DejaVuSans-63\"/>\n      <use x=\"243.457031\" xlink:href=\"#DejaVuSans-69\"/>\n      <use x=\"271.240234\" xlink:href=\"#DejaVuSans-65\"/>\n      <use x=\"332.763672\" xlink:href=\"#DejaVuSans-73\"/>\n     </g>\n    </g>\n   </g>\n   <g id=\"text_2\">\n    <!-- Bream -->\n    <g transform=\"translate(203.225305 57.585381)scale(0.1 -0.1)\">\n     <defs>\n      <path d=\"M 1259 2228 \nL 1259 519 \nL 2272 519 \nQ 2781 519 3026 730 \nQ 3272 941 3272 1375 \nQ 3272 1813 3026 2020 \nQ 2781 2228 2272 2228 \nL 1259 2228 \nz\nM 1259 4147 \nL 1259 2741 \nL 2194 2741 \nQ 2656 2741 2882 2914 \nQ 3109 3088 3109 3444 \nQ 3109 3797 2882 3972 \nQ 2656 4147 2194 4147 \nL 1259 4147 \nz\nM 628 4666 \nL 2241 4666 \nQ 2963 4666 3353 4366 \nQ 3744 4066 3744 3513 \nQ 3744 3084 3544 2831 \nQ 3344 2578 2956 2516 \nQ 3422 2416 3680 2098 \nQ 3938 1781 3938 1306 \nQ 3938 681 3513 340 \nQ 3088 0 2303 0 \nL 628 0 \nL 628 4666 \nz\n\" id=\"DejaVuSans-42\" transform=\"scale(0.015625)\"/>\n      <path d=\"M 2631 2963 \nQ 2534 3019 2420 3045 \nQ 2306 3072 2169 3072 \nQ 1681 3072 1420 2755 \nQ 1159 2438 1159 1844 \nL 1159 0 \nL 581 0 \nL 581 3500 \nL 1159 3500 \nL 1159 2956 \nQ 1341 3275 1631 3429 \nQ 1922 3584 2338 3584 \nQ 2397 3584 2469 3576 \nQ 2541 3569 2628 3553 \nL 2631 2963 \nz\n\" id=\"DejaVuSans-72\" transform=\"scale(0.015625)\"/>\n      <path d=\"M 2194 1759 \nQ 1497 1759 1228 1600 \nQ 959 1441 959 1056 \nQ 959 750 1161 570 \nQ 1363 391 1709 391 \nQ 2188 391 2477 730 \nQ 2766 1069 2766 1631 \nL 2766 1759 \nL 2194 1759 \nz\nM 3341 1997 \nL 3341 0 \nL 2766 0 \nL 2766 531 \nQ 2569 213 2275 61 \nQ 1981 -91 1556 -91 \nQ 1019 -91 701 211 \nQ 384 513 384 1019 \nQ 384 1609 779 1909 \nQ 1175 2209 1959 2209 \nL 2766 2209 \nL 2766 2266 \nQ 2766 2663 2505 2880 \nQ 2244 3097 1772 3097 \nQ 1472 3097 1187 3025 \nQ 903 2953 641 2809 \nL 641 3341 \nQ 956 3463 1253 3523 \nQ 1550 3584 1831 3584 \nQ 2591 3584 2966 3190 \nQ 3341 2797 3341 1997 \nz\n\" id=\"DejaVuSans-61\" transform=\"scale(0.015625)\"/>\n      <path d=\"M 3328 2828 \nQ 3544 3216 3844 3400 \nQ 4144 3584 4550 3584 \nQ 5097 3584 5394 3201 \nQ 5691 2819 5691 2113 \nL 5691 0 \nL 5113 0 \nL 5113 2094 \nQ 5113 2597 4934 2840 \nQ 4756 3084 4391 3084 \nQ 3944 3084 3684 2787 \nQ 3425 2491 3425 1978 \nL 3425 0 \nL 2847 0 \nL 2847 2094 \nQ 2847 2600 2669 2842 \nQ 2491 3084 2119 3084 \nQ 1678 3084 1418 2786 \nQ 1159 2488 1159 1978 \nL 1159 0 \nL 581 0 \nL 581 3500 \nL 1159 3500 \nL 1159 2956 \nQ 1356 3278 1631 3431 \nQ 1906 3584 2284 3584 \nQ 2666 3584 2933 3390 \nQ 3200 3197 3328 2828 \nz\n\" id=\"DejaVuSans-6d\" transform=\"scale(0.015625)\"/>\n     </defs>\n     <use xlink:href=\"#DejaVuSans-42\"/>\n     <use x=\"68.603516\" xlink:href=\"#DejaVuSans-72\"/>\n     <use x=\"107.466797\" xlink:href=\"#DejaVuSans-65\"/>\n     <use x=\"168.990234\" xlink:href=\"#DejaVuSans-61\"/>\n     <use x=\"230.269531\" xlink:href=\"#DejaVuSans-6d\"/>\n    </g>\n   </g>\n   <g id=\"text_3\">\n    <!-- 22% -->\n    <g transform=\"translate(158.645124 85.355378)scale(0.1 -0.1)\">\n     <defs>\n      <path d=\"M 1228 531 \nL 3431 531 \nL 3431 0 \nL 469 0 \nL 469 531 \nQ 828 903 1448 1529 \nQ 2069 2156 2228 2338 \nQ 2531 2678 2651 2914 \nQ 2772 3150 2772 3378 \nQ 2772 3750 2511 3984 \nQ 2250 4219 1831 4219 \nQ 1534 4219 1204 4116 \nQ 875 4013 500 3803 \nL 500 4441 \nQ 881 4594 1212 4672 \nQ 1544 4750 1819 4750 \nQ 2544 4750 2975 4387 \nQ 3406 4025 3406 3419 \nQ 3406 3131 3298 2873 \nQ 3191 2616 2906 2266 \nQ 2828 2175 2409 1742 \nQ 1991 1309 1228 531 \nz\n\" id=\"DejaVuSans-32\" transform=\"scale(0.015625)\"/>\n      <path d=\"M 4653 2053 \nQ 4381 2053 4226 1822 \nQ 4072 1591 4072 1178 \nQ 4072 772 4226 539 \nQ 4381 306 4653 306 \nQ 4919 306 5073 539 \nQ 5228 772 5228 1178 \nQ 5228 1588 5073 1820 \nQ 4919 2053 4653 2053 \nz\nM 4653 2450 \nQ 5147 2450 5437 2106 \nQ 5728 1763 5728 1178 \nQ 5728 594 5436 251 \nQ 5144 -91 4653 -91 \nQ 4153 -91 3862 251 \nQ 3572 594 3572 1178 \nQ 3572 1766 3864 2108 \nQ 4156 2450 4653 2450 \nz\nM 1428 4353 \nQ 1159 4353 1004 4120 \nQ 850 3888 850 3481 \nQ 850 3069 1003 2837 \nQ 1156 2606 1428 2606 \nQ 1700 2606 1854 2837 \nQ 2009 3069 2009 3481 \nQ 2009 3884 1853 4118 \nQ 1697 4353 1428 4353 \nz\nM 4250 4750 \nL 4750 4750 \nL 1831 -91 \nL 1331 -91 \nL 4250 4750 \nz\nM 1428 4750 \nQ 1922 4750 2215 4408 \nQ 2509 4066 2509 3481 \nQ 2509 2891 2217 2550 \nQ 1925 2209 1428 2209 \nQ 931 2209 642 2551 \nQ 353 2894 353 3481 \nQ 353 4063 643 4406 \nQ 934 4750 1428 4750 \nz\n\" id=\"DejaVuSans-25\" transform=\"scale(0.015625)\"/>\n     </defs>\n     <use xlink:href=\"#DejaVuSans-32\"/>\n     <use x=\"63.623047\" xlink:href=\"#DejaVuSans-32\"/>\n     <use x=\"127.246094\" xlink:href=\"#DejaVuSans-25\"/>\n    </g>\n   </g>\n   <g id=\"text_4\">\n    <!-- Parkki -->\n    <g transform=\"translate(95.870804 23.07163)scale(0.1 -0.1)\">\n     <defs>\n      <path d=\"M 1259 4147 \nL 1259 2394 \nL 2053 2394 \nQ 2494 2394 2734 2622 \nQ 2975 2850 2975 3272 \nQ 2975 3691 2734 3919 \nQ 2494 4147 2053 4147 \nL 1259 4147 \nz\nM 628 4666 \nL 2053 4666 \nQ 2838 4666 3239 4311 \nQ 3641 3956 3641 3272 \nQ 3641 2581 3239 2228 \nQ 2838 1875 2053 1875 \nL 1259 1875 \nL 1259 0 \nL 628 0 \nL 628 4666 \nz\n\" id=\"DejaVuSans-50\" transform=\"scale(0.015625)\"/>\n      <path d=\"M 581 4863 \nL 1159 4863 \nL 1159 1991 \nL 2875 3500 \nL 3609 3500 \nL 1753 1863 \nL 3688 0 \nL 2938 0 \nL 1159 1709 \nL 1159 0 \nL 581 0 \nL 581 4863 \nz\n\" id=\"DejaVuSans-6b\" transform=\"scale(0.015625)\"/>\n     </defs>\n     <use xlink:href=\"#DejaVuSans-50\"/>\n     <use x=\"55.802734\" xlink:href=\"#DejaVuSans-61\"/>\n     <use x=\"117.082031\" xlink:href=\"#DejaVuSans-72\"/>\n     <use x=\"158.195312\" xlink:href=\"#DejaVuSans-6b\"/>\n     <use x=\"216.105469\" xlink:href=\"#DejaVuSans-6b\"/>\n     <use x=\"274.015625\" xlink:href=\"#DejaVuSans-69\"/>\n    </g>\n   </g>\n   <g id=\"text_5\">\n    <!-- 7% -->\n    <g transform=\"translate(119.730169 66.529696)scale(0.1 -0.1)\">\n     <defs>\n      <path d=\"M 525 4666 \nL 3525 4666 \nL 3525 4397 \nL 1831 0 \nL 1172 0 \nL 2766 4134 \nL 525 4134 \nL 525 4666 \nz\n\" id=\"DejaVuSans-37\" transform=\"scale(0.015625)\"/>\n     </defs>\n     <use xlink:href=\"#DejaVuSans-37\"/>\n     <use x=\"63.623047\" xlink:href=\"#DejaVuSans-25\"/>\n    </g>\n   </g>\n   <g id=\"text_6\">\n    <!-- Perch -->\n    <g transform=\"translate(9.902466 92.966044)scale(0.1 -0.1)\">\n     <defs>\n      <path d=\"M 3513 2113 \nL 3513 0 \nL 2938 0 \nL 2938 2094 \nQ 2938 2591 2744 2837 \nQ 2550 3084 2163 3084 \nQ 1697 3084 1428 2787 \nQ 1159 2491 1159 1978 \nL 1159 0 \nL 581 0 \nL 581 4863 \nL 1159 4863 \nL 1159 2956 \nQ 1366 3272 1645 3428 \nQ 1925 3584 2291 3584 \nQ 2894 3584 3203 3211 \nQ 3513 2838 3513 2113 \nz\n\" id=\"DejaVuSans-68\" transform=\"scale(0.015625)\"/>\n     </defs>\n     <use xlink:href=\"#DejaVuSans-50\"/>\n     <use x=\"56.677734\" xlink:href=\"#DejaVuSans-65\"/>\n     <use x=\"118.201172\" xlink:href=\"#DejaVuSans-72\"/>\n     <use x=\"157.064453\" xlink:href=\"#DejaVuSans-63\"/>\n     <use x=\"212.044922\" xlink:href=\"#DejaVuSans-68\"/>\n    </g>\n   </g>\n   <g id=\"text_7\">\n    <!-- 33% -->\n    <g transform=\"translate(68.219314 104.653922)scale(0.1 -0.1)\">\n     <defs>\n      <path d=\"M 2597 2516 \nQ 3050 2419 3304 2112 \nQ 3559 1806 3559 1356 \nQ 3559 666 3084 287 \nQ 2609 -91 1734 -91 \nQ 1441 -91 1130 -33 \nQ 819 25 488 141 \nL 488 750 \nQ 750 597 1062 519 \nQ 1375 441 1716 441 \nQ 2309 441 2620 675 \nQ 2931 909 2931 1356 \nQ 2931 1769 2642 2001 \nQ 2353 2234 1838 2234 \nL 1294 2234 \nL 1294 2753 \nL 1863 2753 \nQ 2328 2753 2575 2939 \nQ 2822 3125 2822 3475 \nQ 2822 3834 2567 4026 \nQ 2313 4219 1838 4219 \nQ 1578 4219 1281 4162 \nQ 984 4106 628 3988 \nL 628 4550 \nQ 988 4650 1302 4700 \nQ 1616 4750 1894 4750 \nQ 2613 4750 3031 4423 \nQ 3450 4097 3450 3541 \nQ 3450 3153 3228 2886 \nQ 3006 2619 2597 2516 \nz\n\" id=\"DejaVuSans-33\" transform=\"scale(0.015625)\"/>\n     </defs>\n     <use xlink:href=\"#DejaVuSans-33\"/>\n     <use x=\"63.623047\" xlink:href=\"#DejaVuSans-33\"/>\n     <use x=\"127.246094\" xlink:href=\"#DejaVuSans-25\"/>\n    </g>\n   </g>\n   <g id=\"text_8\">\n    <!-- Pike -->\n    <g transform=\"translate(67.162934 204.508213)scale(0.1 -0.1)\">\n     <use xlink:href=\"#DejaVuSans-50\"/>\n     <use x=\"58.052734\" xlink:href=\"#DejaVuSans-69\"/>\n     <use x=\"85.835938\" xlink:href=\"#DejaVuSans-6b\"/>\n     <use x=\"140.121094\" xlink:href=\"#DejaVuSans-65\"/>\n    </g>\n   </g>\n   <g id=\"text_9\">\n    <!-- 11% -->\n    <g transform=\"translate(95.427865 165.495105)scale(0.1 -0.1)\">\n     <defs>\n      <path d=\"M 794 531 \nL 1825 531 \nL 1825 4091 \nL 703 3866 \nL 703 4441 \nL 1819 4666 \nL 2450 4666 \nL 2450 531 \nL 3481 531 \nL 3481 0 \nL 794 0 \nL 794 531 \nz\n\" id=\"DejaVuSans-31\" transform=\"scale(0.015625)\"/>\n     </defs>\n     <use xlink:href=\"#DejaVuSans-31\"/>\n     <use x=\"63.623047\" xlink:href=\"#DejaVuSans-31\"/>\n     <use x=\"127.246094\" xlink:href=\"#DejaVuSans-25\"/>\n    </g>\n   </g>\n   <g id=\"text_10\">\n    <!-- Roach -->\n    <g transform=\"translate(156.449254 210.507773)scale(0.1 -0.1)\">\n     <defs>\n      <path d=\"M 2841 2188 \nQ 3044 2119 3236 1894 \nQ 3428 1669 3622 1275 \nL 4263 0 \nL 3584 0 \nL 2988 1197 \nQ 2756 1666 2539 1819 \nQ 2322 1972 1947 1972 \nL 1259 1972 \nL 1259 0 \nL 628 0 \nL 628 4666 \nL 2053 4666 \nQ 2853 4666 3247 4331 \nQ 3641 3997 3641 3322 \nQ 3641 2881 3436 2590 \nQ 3231 2300 2841 2188 \nz\nM 1259 4147 \nL 1259 2491 \nL 2053 2491 \nQ 2509 2491 2742 2702 \nQ 2975 2913 2975 3322 \nQ 2975 3731 2742 3939 \nQ 2509 4147 2053 4147 \nL 1259 4147 \nz\n\" id=\"DejaVuSans-52\" transform=\"scale(0.015625)\"/>\n      <path d=\"M 1959 3097 \nQ 1497 3097 1228 2736 \nQ 959 2375 959 1747 \nQ 959 1119 1226 758 \nQ 1494 397 1959 397 \nQ 2419 397 2687 759 \nQ 2956 1122 2956 1747 \nQ 2956 2369 2687 2733 \nQ 2419 3097 1959 3097 \nz\nM 1959 3584 \nQ 2709 3584 3137 3096 \nQ 3566 2609 3566 1747 \nQ 3566 888 3137 398 \nQ 2709 -91 1959 -91 \nQ 1206 -91 779 398 \nQ 353 888 353 1747 \nQ 353 2609 779 3096 \nQ 1206 3584 1959 3584 \nz\n\" id=\"DejaVuSans-6f\" transform=\"scale(0.015625)\"/>\n     </defs>\n     <use xlink:href=\"#DejaVuSans-52\"/>\n     <use x=\"64.982422\" xlink:href=\"#DejaVuSans-6f\"/>\n     <use x=\"126.164062\" xlink:href=\"#DejaVuSans-61\"/>\n     <use x=\"187.443359\" xlink:href=\"#DejaVuSans-63\"/>\n     <use x=\"242.423828\" xlink:href=\"#DejaVuSans-68\"/>\n    </g>\n   </g>\n   <g id=\"text_11\">\n    <!-- 13% -->\n    <g transform=\"translate(133.130914 168.767592)scale(0.1 -0.1)\">\n     <use xlink:href=\"#DejaVuSans-31\"/>\n     <use x=\"63.623047\" xlink:href=\"#DejaVuSans-33\"/>\n     <use x=\"127.246094\" xlink:href=\"#DejaVuSans-25\"/>\n    </g>\n   </g>\n   <g id=\"text_12\">\n    <!-- Smelt -->\n    <g transform=\"translate(210.199994 170.223303)scale(0.1 -0.1)\">\n     <defs>\n      <path d=\"M 603 4863 \nL 1178 4863 \nL 1178 0 \nL 603 0 \nL 603 4863 \nz\n\" id=\"DejaVuSans-6c\" transform=\"scale(0.015625)\"/>\n      <path d=\"M 1172 4494 \nL 1172 3500 \nL 2356 3500 \nL 2356 3053 \nL 1172 3053 \nL 1172 1153 \nQ 1172 725 1289 603 \nQ 1406 481 1766 481 \nL 2356 481 \nL 2356 0 \nL 1766 0 \nQ 1100 0 847 248 \nQ 594 497 594 1153 \nL 594 3053 \nL 172 3053 \nL 172 3500 \nL 594 3500 \nL 594 4494 \nL 1172 4494 \nz\n\" id=\"DejaVuSans-74\" transform=\"scale(0.015625)\"/>\n     </defs>\n     <use xlink:href=\"#DejaVuSans-53\"/>\n     <use x=\"63.476562\" xlink:href=\"#DejaVuSans-6d\"/>\n     <use x=\"160.888672\" xlink:href=\"#DejaVuSans-65\"/>\n     <use x=\"222.412109\" xlink:href=\"#DejaVuSans-6c\"/>\n     <use x=\"250.195312\" xlink:href=\"#DejaVuSans-74\"/>\n    </g>\n   </g>\n   <g id=\"text_13\">\n    <!-- 10% -->\n    <g transform=\"translate(162.449499 146.794245)scale(0.1 -0.1)\">\n     <defs>\n      <path d=\"M 2034 4250 \nQ 1547 4250 1301 3770 \nQ 1056 3291 1056 2328 \nQ 1056 1369 1301 889 \nQ 1547 409 2034 409 \nQ 2525 409 2770 889 \nQ 3016 1369 3016 2328 \nQ 3016 3291 2770 3770 \nQ 2525 4250 2034 4250 \nz\nM 2034 4750 \nQ 2819 4750 3233 4129 \nQ 3647 3509 3647 2328 \nQ 3647 1150 3233 529 \nQ 2819 -91 2034 -91 \nQ 1250 -91 836 529 \nQ 422 1150 422 2328 \nQ 422 3509 836 4129 \nQ 1250 4750 2034 4750 \nz\n\" id=\"DejaVuSans-30\" transform=\"scale(0.015625)\"/>\n     </defs>\n     <use xlink:href=\"#DejaVuSans-31\"/>\n     <use x=\"63.623047\" xlink:href=\"#DejaVuSans-30\"/>\n     <use x=\"127.246094\" xlink:href=\"#DejaVuSans-25\"/>\n    </g>\n   </g>\n   <g id=\"text_14\">\n    <!-- Whitefish -->\n    <g transform=\"translate(224.540854 130.482595)scale(0.1 -0.1)\">\n     <defs>\n      <path d=\"M 213 4666 \nL 850 4666 \nL 1831 722 \nL 2809 4666 \nL 3519 4666 \nL 4500 722 \nL 5478 4666 \nL 6119 4666 \nL 4947 0 \nL 4153 0 \nL 3169 4050 \nL 2175 0 \nL 1381 0 \nL 213 4666 \nz\n\" id=\"DejaVuSans-57\" transform=\"scale(0.015625)\"/>\n      <path d=\"M 2375 4863 \nL 2375 4384 \nL 1825 4384 \nQ 1516 4384 1395 4259 \nQ 1275 4134 1275 3809 \nL 1275 3500 \nL 2222 3500 \nL 2222 3053 \nL 1275 3053 \nL 1275 0 \nL 697 0 \nL 697 3053 \nL 147 3053 \nL 147 3500 \nL 697 3500 \nL 697 3744 \nQ 697 4328 969 4595 \nQ 1241 4863 1831 4863 \nL 2375 4863 \nz\n\" id=\"DejaVuSans-66\" transform=\"scale(0.015625)\"/>\n     </defs>\n     <use xlink:href=\"#DejaVuSans-57\"/>\n     <use x=\"98.876953\" xlink:href=\"#DejaVuSans-68\"/>\n     <use x=\"162.255859\" xlink:href=\"#DejaVuSans-69\"/>\n     <use x=\"190.039062\" xlink:href=\"#DejaVuSans-74\"/>\n     <use x=\"229.248047\" xlink:href=\"#DejaVuSans-65\"/>\n     <use x=\"290.771484\" xlink:href=\"#DejaVuSans-66\"/>\n     <use x=\"325.976562\" xlink:href=\"#DejaVuSans-69\"/>\n     <use x=\"353.759766\" xlink:href=\"#DejaVuSans-73\"/>\n     <use x=\"405.859375\" xlink:href=\"#DejaVuSans-68\"/>\n    </g>\n   </g>\n   <g id=\"text_15\">\n    <!-- 4% -->\n    <g transform=\"translate(173.453037 125.117495)scale(0.1 -0.1)\">\n     <defs>\n      <path d=\"M 2419 4116 \nL 825 1625 \nL 2419 1625 \nL 2419 4116 \nz\nM 2253 4666 \nL 3047 4666 \nL 3047 1625 \nL 3713 1625 \nL 3713 1100 \nL 3047 1100 \nL 3047 0 \nL 2419 0 \nL 2419 1100 \nL 313 1100 \nL 313 1709 \nL 2253 4666 \nz\n\" id=\"DejaVuSans-34\" transform=\"scale(0.015625)\"/>\n     </defs>\n     <use xlink:href=\"#DejaVuSans-34\"/>\n     <use x=\"63.623047\" xlink:href=\"#DejaVuSans-25\"/>\n    </g>\n   </g>\n  </g>\n </g>\n</svg>\n",
      "image/png": "[encoded data removed]"
     },
     "metadata": {}
    }
   ],
   "source": [
    "train.groupby(\"Species\").size().plot.pie(ylabel=\"Species\", autopct=lambda val: \"{:0.0f}%\".format(val))"
   ]
  },
  {
   "cell_type": "code",
   "execution_count": 8,
   "id": "d3bce59e",
   "metadata": {},
   "outputs": [
    {
     "output_type": "execute_result",
     "data": {
      "text/plain": [
       "<AxesSubplot:>"
      ]
     },
     "metadata": {},
     "execution_count": 8
    },
    {
     "output_type": "display_data",
     "data": {
      "text/plain": "<Figure size 432x288 with 1 Axes>",
      "image/svg+xml": "<?xml version=\"1.0\" encoding=\"utf-8\" standalone=\"no\"?>\n<!DOCTYPE svg PUBLIC \"-//W3C//DTD SVG 1.1//EN\"\n  \"http://www.w3.org/Graphics/SVG/1.1/DTD/svg11.dtd\">\n<svg height=\"248.518125pt\" version=\"1.1\" viewBox=\"0 0 368.925 248.518125\" width=\"368.925pt\" xmlns=\"http://www.w3.org/2000/svg\" xmlns:xlink=\"http://www.w3.org/1999/xlink\">\n <metadata>\n  <rdf:RDF xmlns:cc=\"http://creativecommons.org/ns#\" xmlns:dc=\"http://purl.org/dc/elements/1.1/\" xmlns:rdf=\"http://www.w3.org/1999/02/22-rdf-syntax-ns#\">\n   <cc:Work>\n    <dc:type rdf:resource=\"http://purl.org/dc/dcmitype/StillImage\"/>\n    <dc:date>2021-07-06T23:07:43.302650</dc:date>\n    <dc:format>image/svg+xml</dc:format>\n    <dc:creator>\n     <cc:Agent>\n      <dc:title>Matplotlib v3.4.2, https://matplotlib.org/</dc:title>\n     </cc:Agent>\n    </dc:creator>\n   </cc:Work>\n  </rdf:RDF>\n </metadata>\n <defs>\n  <style type=\"text/css\">*{stroke-linecap:butt;stroke-linejoin:round;}</style>\n </defs>\n <g id=\"figure_1\">\n  <g id=\"patch_1\">\n   <path d=\"M -0 248.518125 \nL 368.925 248.518125 \nL 368.925 0 \nL -0 0 \nz\n\" style=\"fill:none;\"/>\n  </g>\n  <g id=\"axes_1\">\n   <g id=\"patch_2\">\n    <path d=\"M 26.925 224.64 \nL 361.725 224.64 \nL 361.725 7.2 \nL 26.925 7.2 \nz\n\" style=\"fill:#ffffff;\"/>\n   </g>\n   <g id=\"matplotlib.axis_1\">\n    <g id=\"xtick_1\">\n     <g id=\"line2d_1\">\n      <path clip-path=\"url(#p91f7a06b0a)\" d=\"M 60.405 224.64 \nL 60.405 7.2 \n\" style=\"fill:none;stroke:#b0b0b0;stroke-linecap:square;stroke-width:0.8;\"/>\n     </g>\n     <g id=\"line2d_2\">\n      <defs>\n       <path d=\"M 0 0 \nL 0 3.5 \n\" id=\"m283c0ec435\" style=\"stroke:#000000;stroke-width:0.8;\"/>\n      </defs>\n      <g>\n       <use style=\"stroke:#000000;stroke-width:0.8;\" x=\"60.405\" xlink:href=\"#m283c0ec435\" y=\"224.64\"/>\n      </g>\n     </g>\n     <g id=\"text_1\">\n      <!-- Length1 -->\n      <g transform=\"translate(39.976875 239.238437)scale(0.1 -0.1)\">\n       <defs>\n        <path d=\"M 628 4666 \nL 1259 4666 \nL 1259 531 \nL 3531 531 \nL 3531 0 \nL 628 0 \nL 628 4666 \nz\n\" id=\"DejaVuSans-4c\" transform=\"scale(0.015625)\"/>\n        <path d=\"M 3597 1894 \nL 3597 1613 \nL 953 1613 \nQ 991 1019 1311 708 \nQ 1631 397 2203 397 \nQ 2534 397 2845 478 \nQ 3156 559 3463 722 \nL 3463 178 \nQ 3153 47 2828 -22 \nQ 2503 -91 2169 -91 \nQ 1331 -91 842 396 \nQ 353 884 353 1716 \nQ 353 2575 817 3079 \nQ 1281 3584 2069 3584 \nQ 2775 3584 3186 3129 \nQ 3597 2675 3597 1894 \nz\nM 3022 2063 \nQ 3016 2534 2758 2815 \nQ 2500 3097 2075 3097 \nQ 1594 3097 1305 2825 \nQ 1016 2553 972 2059 \nL 3022 2063 \nz\n\" id=\"DejaVuSans-65\" transform=\"scale(0.015625)\"/>\n        <path d=\"M 3513 2113 \nL 3513 0 \nL 2938 0 \nL 2938 2094 \nQ 2938 2591 2744 2837 \nQ 2550 3084 2163 3084 \nQ 1697 3084 1428 2787 \nQ 1159 2491 1159 1978 \nL 1159 0 \nL 581 0 \nL 581 3500 \nL 1159 3500 \nL 1159 2956 \nQ 1366 3272 1645 3428 \nQ 1925 3584 2291 3584 \nQ 2894 3584 3203 3211 \nQ 3513 2838 3513 2113 \nz\n\" id=\"DejaVuSans-6e\" transform=\"scale(0.015625)\"/>\n        <path d=\"M 2906 1791 \nQ 2906 2416 2648 2759 \nQ 2391 3103 1925 3103 \nQ 1463 3103 1205 2759 \nQ 947 2416 947 1791 \nQ 947 1169 1205 825 \nQ 1463 481 1925 481 \nQ 2391 481 2648 825 \nQ 2906 1169 2906 1791 \nz\nM 3481 434 \nQ 3481 -459 3084 -895 \nQ 2688 -1331 1869 -1331 \nQ 1566 -1331 1297 -1286 \nQ 1028 -1241 775 -1147 \nL 775 -588 \nQ 1028 -725 1275 -790 \nQ 1522 -856 1778 -856 \nQ 2344 -856 2625 -561 \nQ 2906 -266 2906 331 \nL 2906 616 \nQ 2728 306 2450 153 \nQ 2172 0 1784 0 \nQ 1141 0 747 490 \nQ 353 981 353 1791 \nQ 353 2603 747 3093 \nQ 1141 3584 1784 3584 \nQ 2172 3584 2450 3431 \nQ 2728 3278 2906 2969 \nL 2906 3500 \nL 3481 3500 \nL 3481 434 \nz\n\" id=\"DejaVuSans-67\" transform=\"scale(0.015625)\"/>\n        <path d=\"M 1172 4494 \nL 1172 3500 \nL 2356 3500 \nL 2356 3053 \nL 1172 3053 \nL 1172 1153 \nQ 1172 725 1289 603 \nQ 1406 481 1766 481 \nL 2356 481 \nL 2356 0 \nL 1766 0 \nQ 1100 0 847 248 \nQ 594 497 594 1153 \nL 594 3053 \nL 172 3053 \nL 172 3500 \nL 594 3500 \nL 594 4494 \nL 1172 4494 \nz\n\" id=\"DejaVuSans-74\" transform=\"scale(0.015625)\"/>\n        <path d=\"M 3513 2113 \nL 3513 0 \nL 2938 0 \nL 2938 2094 \nQ 2938 2591 2744 2837 \nQ 2550 3084 2163 3084 \nQ 1697 3084 1428 2787 \nQ 1159 2491 1159 1978 \nL 1159 0 \nL 581 0 \nL 581 4863 \nL 1159 4863 \nL 1159 2956 \nQ 1366 3272 1645 3428 \nQ 1925 3584 2291 3584 \nQ 2894 3584 3203 3211 \nQ 3513 2838 3513 2113 \nz\n\" id=\"DejaVuSans-68\" transform=\"scale(0.015625)\"/>\n        <path d=\"M 794 531 \nL 1825 531 \nL 1825 4091 \nL 703 3866 \nL 703 4441 \nL 1819 4666 \nL 2450 4666 \nL 2450 531 \nL 3481 531 \nL 3481 0 \nL 794 0 \nL 794 531 \nz\n\" id=\"DejaVuSans-31\" transform=\"scale(0.015625)\"/>\n       </defs>\n       <use xlink:href=\"#DejaVuSans-4c\"/>\n       <use x=\"53.962891\" xlink:href=\"#DejaVuSans-65\"/>\n       <use x=\"115.486328\" xlink:href=\"#DejaVuSans-6e\"/>\n       <use x=\"178.865234\" xlink:href=\"#DejaVuSans-67\"/>\n       <use x=\"242.341797\" xlink:href=\"#DejaVuSans-74\"/>\n       <use x=\"281.550781\" xlink:href=\"#DejaVuSans-68\"/>\n       <use x=\"344.929688\" xlink:href=\"#DejaVuSans-31\"/>\n      </g>\n     </g>\n    </g>\n    <g id=\"xtick_2\">\n     <g id=\"line2d_3\">\n      <path clip-path=\"url(#p91f7a06b0a)\" d=\"M 127.365 224.64 \nL 127.365 7.2 \n\" style=\"fill:none;stroke:#b0b0b0;stroke-linecap:square;stroke-width:0.8;\"/>\n     </g>\n     <g id=\"line2d_4\">\n      <g>\n       <use style=\"stroke:#000000;stroke-width:0.8;\" x=\"127.365\" xlink:href=\"#m283c0ec435\" y=\"224.64\"/>\n      </g>\n     </g>\n     <g id=\"text_2\">\n      <!-- Length2 -->\n      <g transform=\"translate(106.936875 239.238437)scale(0.1 -0.1)\">\n       <defs>\n        <path d=\"M 1228 531 \nL 3431 531 \nL 3431 0 \nL 469 0 \nL 469 531 \nQ 828 903 1448 1529 \nQ 2069 2156 2228 2338 \nQ 2531 2678 2651 2914 \nQ 2772 3150 2772 3378 \nQ 2772 3750 2511 3984 \nQ 2250 4219 1831 4219 \nQ 1534 4219 1204 4116 \nQ 875 4013 500 3803 \nL 500 4441 \nQ 881 4594 1212 4672 \nQ 1544 4750 1819 4750 \nQ 2544 4750 2975 4387 \nQ 3406 4025 3406 3419 \nQ 3406 3131 3298 2873 \nQ 3191 2616 2906 2266 \nQ 2828 2175 2409 1742 \nQ 1991 1309 1228 531 \nz\n\" id=\"DejaVuSans-32\" transform=\"scale(0.015625)\"/>\n       </defs>\n       <use xlink:href=\"#DejaVuSans-4c\"/>\n       <use x=\"53.962891\" xlink:href=\"#DejaVuSans-65\"/>\n       <use x=\"115.486328\" xlink:href=\"#DejaVuSans-6e\"/>\n       <use x=\"178.865234\" xlink:href=\"#DejaVuSans-67\"/>\n       <use x=\"242.341797\" xlink:href=\"#DejaVuSans-74\"/>\n       <use x=\"281.550781\" xlink:href=\"#DejaVuSans-68\"/>\n       <use x=\"344.929688\" xlink:href=\"#DejaVuSans-32\"/>\n      </g>\n     </g>\n    </g>\n    <g id=\"xtick_3\">\n     <g id=\"line2d_5\">\n      <path clip-path=\"url(#p91f7a06b0a)\" d=\"M 194.325 224.64 \nL 194.325 7.2 \n\" style=\"fill:none;stroke:#b0b0b0;stroke-linecap:square;stroke-width:0.8;\"/>\n     </g>\n     <g id=\"line2d_6\">\n      <g>\n       <use style=\"stroke:#000000;stroke-width:0.8;\" x=\"194.325\" xlink:href=\"#m283c0ec435\" y=\"224.64\"/>\n      </g>\n     </g>\n     <g id=\"text_3\">\n      <!-- Length3 -->\n      <g transform=\"translate(173.896875 239.238437)scale(0.1 -0.1)\">\n       <defs>\n        <path d=\"M 2597 2516 \nQ 3050 2419 3304 2112 \nQ 3559 1806 3559 1356 \nQ 3559 666 3084 287 \nQ 2609 -91 1734 -91 \nQ 1441 -91 1130 -33 \nQ 819 25 488 141 \nL 488 750 \nQ 750 597 1062 519 \nQ 1375 441 1716 441 \nQ 2309 441 2620 675 \nQ 2931 909 2931 1356 \nQ 2931 1769 2642 2001 \nQ 2353 2234 1838 2234 \nL 1294 2234 \nL 1294 2753 \nL 1863 2753 \nQ 2328 2753 2575 2939 \nQ 2822 3125 2822 3475 \nQ 2822 3834 2567 4026 \nQ 2313 4219 1838 4219 \nQ 1578 4219 1281 4162 \nQ 984 4106 628 3988 \nL 628 4550 \nQ 988 4650 1302 4700 \nQ 1616 4750 1894 4750 \nQ 2613 4750 3031 4423 \nQ 3450 4097 3450 3541 \nQ 3450 3153 3228 2886 \nQ 3006 2619 2597 2516 \nz\n\" id=\"DejaVuSans-33\" transform=\"scale(0.015625)\"/>\n       </defs>\n       <use xlink:href=\"#DejaVuSans-4c\"/>\n       <use x=\"53.962891\" xlink:href=\"#DejaVuSans-65\"/>\n       <use x=\"115.486328\" xlink:href=\"#DejaVuSans-6e\"/>\n       <use x=\"178.865234\" xlink:href=\"#DejaVuSans-67\"/>\n       <use x=\"242.341797\" xlink:href=\"#DejaVuSans-74\"/>\n       <use x=\"281.550781\" xlink:href=\"#DejaVuSans-68\"/>\n       <use x=\"344.929688\" xlink:href=\"#DejaVuSans-33\"/>\n      </g>\n     </g>\n    </g>\n    <g id=\"xtick_4\">\n     <g id=\"line2d_7\">\n      <path clip-path=\"url(#p91f7a06b0a)\" d=\"M 261.285 224.64 \nL 261.285 7.2 \n\" style=\"fill:none;stroke:#b0b0b0;stroke-linecap:square;stroke-width:0.8;\"/>\n     </g>\n     <g id=\"line2d_8\">\n      <g>\n       <use style=\"stroke:#000000;stroke-width:0.8;\" x=\"261.285\" xlink:href=\"#m283c0ec435\" y=\"224.64\"/>\n      </g>\n     </g>\n     <g id=\"text_4\">\n      <!-- Height -->\n      <g transform=\"translate(244.756094 239.238437)scale(0.1 -0.1)\">\n       <defs>\n        <path d=\"M 628 4666 \nL 1259 4666 \nL 1259 2753 \nL 3553 2753 \nL 3553 4666 \nL 4184 4666 \nL 4184 0 \nL 3553 0 \nL 3553 2222 \nL 1259 2222 \nL 1259 0 \nL 628 0 \nL 628 4666 \nz\n\" id=\"DejaVuSans-48\" transform=\"scale(0.015625)\"/>\n        <path d=\"M 603 3500 \nL 1178 3500 \nL 1178 0 \nL 603 0 \nL 603 3500 \nz\nM 603 4863 \nL 1178 4863 \nL 1178 4134 \nL 603 4134 \nL 603 4863 \nz\n\" id=\"DejaVuSans-69\" transform=\"scale(0.015625)\"/>\n       </defs>\n       <use xlink:href=\"#DejaVuSans-48\"/>\n       <use x=\"75.195312\" xlink:href=\"#DejaVuSans-65\"/>\n       <use x=\"136.71875\" xlink:href=\"#DejaVuSans-69\"/>\n       <use x=\"164.501953\" xlink:href=\"#DejaVuSans-67\"/>\n       <use x=\"227.978516\" xlink:href=\"#DejaVuSans-68\"/>\n       <use x=\"291.357422\" xlink:href=\"#DejaVuSans-74\"/>\n      </g>\n     </g>\n    </g>\n    <g id=\"xtick_5\">\n     <g id=\"line2d_9\">\n      <path clip-path=\"url(#p91f7a06b0a)\" d=\"M 328.245 224.64 \nL 328.245 7.2 \n\" style=\"fill:none;stroke:#b0b0b0;stroke-linecap:square;stroke-width:0.8;\"/>\n     </g>\n     <g id=\"line2d_10\">\n      <g>\n       <use style=\"stroke:#000000;stroke-width:0.8;\" x=\"328.245\" xlink:href=\"#m283c0ec435\" y=\"224.64\"/>\n      </g>\n     </g>\n     <g id=\"text_5\">\n      <!-- Width -->\n      <g transform=\"translate(313.721563 239.238437)scale(0.1 -0.1)\">\n       <defs>\n        <path d=\"M 213 4666 \nL 850 4666 \nL 1831 722 \nL 2809 4666 \nL 3519 4666 \nL 4500 722 \nL 5478 4666 \nL 6119 4666 \nL 4947 0 \nL 4153 0 \nL 3169 4050 \nL 2175 0 \nL 1381 0 \nL 213 4666 \nz\n\" id=\"DejaVuSans-57\" transform=\"scale(0.015625)\"/>\n        <path d=\"M 2906 2969 \nL 2906 4863 \nL 3481 4863 \nL 3481 0 \nL 2906 0 \nL 2906 525 \nQ 2725 213 2448 61 \nQ 2172 -91 1784 -91 \nQ 1150 -91 751 415 \nQ 353 922 353 1747 \nQ 353 2572 751 3078 \nQ 1150 3584 1784 3584 \nQ 2172 3584 2448 3432 \nQ 2725 3281 2906 2969 \nz\nM 947 1747 \nQ 947 1113 1208 752 \nQ 1469 391 1925 391 \nQ 2381 391 2643 752 \nQ 2906 1113 2906 1747 \nQ 2906 2381 2643 2742 \nQ 2381 3103 1925 3103 \nQ 1469 3103 1208 2742 \nQ 947 2381 947 1747 \nz\n\" id=\"DejaVuSans-64\" transform=\"scale(0.015625)\"/>\n       </defs>\n       <use xlink:href=\"#DejaVuSans-57\"/>\n       <use x=\"96.626953\" xlink:href=\"#DejaVuSans-69\"/>\n       <use x=\"124.410156\" xlink:href=\"#DejaVuSans-64\"/>\n       <use x=\"187.886719\" xlink:href=\"#DejaVuSans-74\"/>\n       <use x=\"227.095703\" xlink:href=\"#DejaVuSans-68\"/>\n      </g>\n     </g>\n    </g>\n   </g>\n   <g id=\"matplotlib.axis_2\">\n    <g id=\"ytick_1\">\n     <g id=\"line2d_11\">\n      <path clip-path=\"url(#p91f7a06b0a)\" d=\"M 26.925 218.152054 \nL 361.725 218.152054 \n\" style=\"fill:none;stroke:#b0b0b0;stroke-linecap:square;stroke-width:0.8;\"/>\n     </g>\n     <g id=\"line2d_12\">\n      <defs>\n       <path d=\"M 0 0 \nL -3.5 0 \n\" id=\"m5fbd9fad1a\" style=\"stroke:#000000;stroke-width:0.8;\"/>\n      </defs>\n      <g>\n       <use style=\"stroke:#000000;stroke-width:0.8;\" x=\"26.925\" xlink:href=\"#m5fbd9fad1a\" y=\"218.152054\"/>\n      </g>\n     </g>\n     <g id=\"text_6\">\n      <!-- 0 -->\n      <g transform=\"translate(13.5625 221.951273)scale(0.1 -0.1)\">\n       <defs>\n        <path d=\"M 2034 4250 \nQ 1547 4250 1301 3770 \nQ 1056 3291 1056 2328 \nQ 1056 1369 1301 889 \nQ 1547 409 2034 409 \nQ 2525 409 2770 889 \nQ 3016 1369 3016 2328 \nQ 3016 3291 2770 3770 \nQ 2525 4250 2034 4250 \nz\nM 2034 4750 \nQ 2819 4750 3233 4129 \nQ 3647 3509 3647 2328 \nQ 3647 1150 3233 529 \nQ 2819 -91 2034 -91 \nQ 1250 -91 836 529 \nQ 422 1150 422 2328 \nQ 422 3509 836 4129 \nQ 1250 4750 2034 4750 \nz\n\" id=\"DejaVuSans-30\" transform=\"scale(0.015625)\"/>\n       </defs>\n       <use xlink:href=\"#DejaVuSans-30\"/>\n      </g>\n     </g>\n    </g>\n    <g id=\"ytick_2\">\n     <g id=\"line2d_13\">\n      <path clip-path=\"url(#p91f7a06b0a)\" d=\"M 26.925 188.583169 \nL 361.725 188.583169 \n\" style=\"fill:none;stroke:#b0b0b0;stroke-linecap:square;stroke-width:0.8;\"/>\n     </g>\n     <g id=\"line2d_14\">\n      <g>\n       <use style=\"stroke:#000000;stroke-width:0.8;\" x=\"26.925\" xlink:href=\"#m5fbd9fad1a\" y=\"188.583169\"/>\n      </g>\n     </g>\n     <g id=\"text_7\">\n      <!-- 10 -->\n      <g transform=\"translate(7.2 192.382388)scale(0.1 -0.1)\">\n       <use xlink:href=\"#DejaVuSans-31\"/>\n       <use x=\"63.623047\" xlink:href=\"#DejaVuSans-30\"/>\n      </g>\n     </g>\n    </g>\n    <g id=\"ytick_3\">\n     <g id=\"line2d_15\">\n      <path clip-path=\"url(#p91f7a06b0a)\" d=\"M 26.925 159.014284 \nL 361.725 159.014284 \n\" style=\"fill:none;stroke:#b0b0b0;stroke-linecap:square;stroke-width:0.8;\"/>\n     </g>\n     <g id=\"line2d_16\">\n      <g>\n       <use style=\"stroke:#000000;stroke-width:0.8;\" x=\"26.925\" xlink:href=\"#m5fbd9fad1a\" y=\"159.014284\"/>\n      </g>\n     </g>\n     <g id=\"text_8\">\n      <!-- 20 -->\n      <g transform=\"translate(7.2 162.813503)scale(0.1 -0.1)\">\n       <use xlink:href=\"#DejaVuSans-32\"/>\n       <use x=\"63.623047\" xlink:href=\"#DejaVuSans-30\"/>\n      </g>\n     </g>\n    </g>\n    <g id=\"ytick_4\">\n     <g id=\"line2d_17\">\n      <path clip-path=\"url(#p91f7a06b0a)\" d=\"M 26.925 129.445399 \nL 361.725 129.445399 \n\" style=\"fill:none;stroke:#b0b0b0;stroke-linecap:square;stroke-width:0.8;\"/>\n     </g>\n     <g id=\"line2d_18\">\n      <g>\n       <use style=\"stroke:#000000;stroke-width:0.8;\" x=\"26.925\" xlink:href=\"#m5fbd9fad1a\" y=\"129.445399\"/>\n      </g>\n     </g>\n     <g id=\"text_9\">\n      <!-- 30 -->\n      <g transform=\"translate(7.2 133.244618)scale(0.1 -0.1)\">\n       <use xlink:href=\"#DejaVuSans-33\"/>\n       <use x=\"63.623047\" xlink:href=\"#DejaVuSans-30\"/>\n      </g>\n     </g>\n    </g>\n    <g id=\"ytick_5\">\n     <g id=\"line2d_19\">\n      <path clip-path=\"url(#p91f7a06b0a)\" d=\"M 26.925 99.876514 \nL 361.725 99.876514 \n\" style=\"fill:none;stroke:#b0b0b0;stroke-linecap:square;stroke-width:0.8;\"/>\n     </g>\n     <g id=\"line2d_20\">\n      <g>\n       <use style=\"stroke:#000000;stroke-width:0.8;\" x=\"26.925\" xlink:href=\"#m5fbd9fad1a\" y=\"99.876514\"/>\n      </g>\n     </g>\n     <g id=\"text_10\">\n      <!-- 40 -->\n      <g transform=\"translate(7.2 103.675733)scale(0.1 -0.1)\">\n       <defs>\n        <path d=\"M 2419 4116 \nL 825 1625 \nL 2419 1625 \nL 2419 4116 \nz\nM 2253 4666 \nL 3047 4666 \nL 3047 1625 \nL 3713 1625 \nL 3713 1100 \nL 3047 1100 \nL 3047 0 \nL 2419 0 \nL 2419 1100 \nL 313 1100 \nL 313 1709 \nL 2253 4666 \nz\n\" id=\"DejaVuSans-34\" transform=\"scale(0.015625)\"/>\n       </defs>\n       <use xlink:href=\"#DejaVuSans-34\"/>\n       <use x=\"63.623047\" xlink:href=\"#DejaVuSans-30\"/>\n      </g>\n     </g>\n    </g>\n    <g id=\"ytick_6\">\n     <g id=\"line2d_21\">\n      <path clip-path=\"url(#p91f7a06b0a)\" d=\"M 26.925 70.307629 \nL 361.725 70.307629 \n\" style=\"fill:none;stroke:#b0b0b0;stroke-linecap:square;stroke-width:0.8;\"/>\n     </g>\n     <g id=\"line2d_22\">\n      <g>\n       <use style=\"stroke:#000000;stroke-width:0.8;\" x=\"26.925\" xlink:href=\"#m5fbd9fad1a\" y=\"70.307629\"/>\n      </g>\n     </g>\n     <g id=\"text_11\">\n      <!-- 50 -->\n      <g transform=\"translate(7.2 74.106848)scale(0.1 -0.1)\">\n       <defs>\n        <path d=\"M 691 4666 \nL 3169 4666 \nL 3169 4134 \nL 1269 4134 \nL 1269 2991 \nQ 1406 3038 1543 3061 \nQ 1681 3084 1819 3084 \nQ 2600 3084 3056 2656 \nQ 3513 2228 3513 1497 \nQ 3513 744 3044 326 \nQ 2575 -91 1722 -91 \nQ 1428 -91 1123 -41 \nQ 819 9 494 109 \nL 494 744 \nQ 775 591 1075 516 \nQ 1375 441 1709 441 \nQ 2250 441 2565 725 \nQ 2881 1009 2881 1497 \nQ 2881 1984 2565 2268 \nQ 2250 2553 1709 2553 \nQ 1456 2553 1204 2497 \nQ 953 2441 691 2322 \nL 691 4666 \nz\n\" id=\"DejaVuSans-35\" transform=\"scale(0.015625)\"/>\n       </defs>\n       <use xlink:href=\"#DejaVuSans-35\"/>\n       <use x=\"63.623047\" xlink:href=\"#DejaVuSans-30\"/>\n      </g>\n     </g>\n    </g>\n    <g id=\"ytick_7\">\n     <g id=\"line2d_23\">\n      <path clip-path=\"url(#p91f7a06b0a)\" d=\"M 26.925 40.738744 \nL 361.725 40.738744 \n\" style=\"fill:none;stroke:#b0b0b0;stroke-linecap:square;stroke-width:0.8;\"/>\n     </g>\n     <g id=\"line2d_24\">\n      <g>\n       <use style=\"stroke:#000000;stroke-width:0.8;\" x=\"26.925\" xlink:href=\"#m5fbd9fad1a\" y=\"40.738744\"/>\n      </g>\n     </g>\n     <g id=\"text_12\">\n      <!-- 60 -->\n      <g transform=\"translate(7.2 44.537963)scale(0.1 -0.1)\">\n       <defs>\n        <path d=\"M 2113 2584 \nQ 1688 2584 1439 2293 \nQ 1191 2003 1191 1497 \nQ 1191 994 1439 701 \nQ 1688 409 2113 409 \nQ 2538 409 2786 701 \nQ 3034 994 3034 1497 \nQ 3034 2003 2786 2293 \nQ 2538 2584 2113 2584 \nz\nM 3366 4563 \nL 3366 3988 \nQ 3128 4100 2886 4159 \nQ 2644 4219 2406 4219 \nQ 1781 4219 1451 3797 \nQ 1122 3375 1075 2522 \nQ 1259 2794 1537 2939 \nQ 1816 3084 2150 3084 \nQ 2853 3084 3261 2657 \nQ 3669 2231 3669 1497 \nQ 3669 778 3244 343 \nQ 2819 -91 2113 -91 \nQ 1303 -91 875 529 \nQ 447 1150 447 2328 \nQ 447 3434 972 4092 \nQ 1497 4750 2381 4750 \nQ 2619 4750 2861 4703 \nQ 3103 4656 3366 4563 \nz\n\" id=\"DejaVuSans-36\" transform=\"scale(0.015625)\"/>\n       </defs>\n       <use xlink:href=\"#DejaVuSans-36\"/>\n       <use x=\"63.623047\" xlink:href=\"#DejaVuSans-30\"/>\n      </g>\n     </g>\n    </g>\n    <g id=\"ytick_8\">\n     <g id=\"line2d_25\">\n      <path clip-path=\"url(#p91f7a06b0a)\" d=\"M 26.925 11.169859 \nL 361.725 11.169859 \n\" style=\"fill:none;stroke:#b0b0b0;stroke-linecap:square;stroke-width:0.8;\"/>\n     </g>\n     <g id=\"line2d_26\">\n      <g>\n       <use style=\"stroke:#000000;stroke-width:0.8;\" x=\"26.925\" xlink:href=\"#m5fbd9fad1a\" y=\"11.169859\"/>\n      </g>\n     </g>\n     <g id=\"text_13\">\n      <!-- 70 -->\n      <g transform=\"translate(7.2 14.969078)scale(0.1 -0.1)\">\n       <defs>\n        <path d=\"M 525 4666 \nL 3525 4666 \nL 3525 4397 \nL 1831 0 \nL 1172 0 \nL 2766 4134 \nL 525 4134 \nL 525 4666 \nz\n\" id=\"DejaVuSans-37\" transform=\"scale(0.015625)\"/>\n       </defs>\n       <use xlink:href=\"#DejaVuSans-37\"/>\n       <use x=\"63.623047\" xlink:href=\"#DejaVuSans-30\"/>\n      </g>\n     </g>\n    </g>\n   </g>\n   <g id=\"line2d_27\">\n    <path clip-path=\"url(#p91f7a06b0a)\" d=\"M 43.665 161.971173 \nL 77.145 161.971173 \nL 77.145 118.061379 \nL 43.665 118.061379 \nL 43.665 161.971173 \n\" style=\"fill:none;stroke:#1f77b4;stroke-linecap:square;\"/>\n   </g>\n   <g id=\"line2d_28\">\n    <path clip-path=\"url(#p91f7a06b0a)\" d=\"M 60.405 161.971173 \nL 60.405 188.583169 \n\" style=\"fill:none;stroke:#1f77b4;stroke-linecap:square;\"/>\n   </g>\n   <g id=\"line2d_29\">\n    <path clip-path=\"url(#p91f7a06b0a)\" d=\"M 60.405 118.061379 \nL 60.405 52.566298 \n\" style=\"fill:none;stroke:#1f77b4;stroke-linecap:square;\"/>\n   </g>\n   <g id=\"line2d_30\">\n    <path clip-path=\"url(#p91f7a06b0a)\" d=\"M 52.035 188.583169 \nL 68.775 188.583169 \n\" style=\"fill:none;stroke:#000000;stroke-linecap:square;\"/>\n   </g>\n   <g id=\"line2d_31\">\n    <path clip-path=\"url(#p91f7a06b0a)\" d=\"M 52.035 52.566298 \nL 68.775 52.566298 \n\" style=\"fill:none;stroke:#000000;stroke-linecap:square;\"/>\n   </g>\n   <g id=\"line2d_32\">\n    <defs>\n     <path d=\"M 0 3 \nC 0.795609 3 1.55874 2.683901 2.12132 2.12132 \nC 2.683901 1.55874 3 0.795609 3 0 \nC 3 -0.795609 2.683901 -1.55874 2.12132 -2.12132 \nC 1.55874 -2.683901 0.795609 -3 0 -3 \nC -0.795609 -3 -1.55874 -2.683901 -2.12132 -2.12132 \nC -2.683901 -1.55874 -3 -0.795609 -3 0 \nC -3 0.795609 -2.683901 1.55874 -2.12132 2.12132 \nC -1.55874 2.683901 -0.795609 3 0 3 \nz\n\" id=\"m4c428d8fe0\" style=\"stroke:#000000;\"/>\n    </defs>\n    <g clip-path=\"url(#p91f7a06b0a)\">\n     <use style=\"fill-opacity:0;stroke:#000000;\" x=\"60.405\" xlink:href=\"#m4c428d8fe0\" y=\"43.695633\"/>\n    </g>\n   </g>\n   <g id=\"line2d_33\">\n    <path clip-path=\"url(#p91f7a06b0a)\" d=\"M 110.625 156.500929 \nL 144.105 156.500929 \nL 144.105 110.373469 \nL 110.625 110.373469 \nL 110.625 156.500929 \n\" style=\"fill:none;stroke:#1f77b4;stroke-linecap:square;\"/>\n   </g>\n   <g id=\"line2d_34\">\n    <path clip-path=\"url(#p91f7a06b0a)\" d=\"M 127.365 156.500929 \nL 127.365 187.104725 \n\" style=\"fill:none;stroke:#1f77b4;stroke-linecap:square;\"/>\n   </g>\n   <g id=\"line2d_35\">\n    <path clip-path=\"url(#p91f7a06b0a)\" d=\"M 127.365 110.373469 \nL 127.365 52.566298 \n\" style=\"fill:none;stroke:#1f77b4;stroke-linecap:square;\"/>\n   </g>\n   <g id=\"line2d_36\">\n    <path clip-path=\"url(#p91f7a06b0a)\" d=\"M 118.995 187.104725 \nL 135.735 187.104725 \n\" style=\"fill:none;stroke:#000000;stroke-linecap:square;\"/>\n   </g>\n   <g id=\"line2d_37\">\n    <path clip-path=\"url(#p91f7a06b0a)\" d=\"M 118.995 52.566298 \nL 135.735 52.566298 \n\" style=\"fill:none;stroke:#000000;stroke-linecap:square;\"/>\n   </g>\n   <g id=\"line2d_38\">\n    <g clip-path=\"url(#p91f7a06b0a)\">\n     <use style=\"fill-opacity:0;stroke:#000000;\" x=\"127.365\" xlink:href=\"#m4c428d8fe0\" y=\"40.738744\"/>\n     <use style=\"fill-opacity:0;stroke:#000000;\" x=\"127.365\" xlink:href=\"#m4c428d8fe0\" y=\"30.685323\"/>\n     <use style=\"fill-opacity:0;stroke:#000000;\" x=\"127.365\" xlink:href=\"#m4c428d8fe0\" y=\"40.738744\"/>\n    </g>\n   </g>\n   <g id=\"line2d_39\">\n    <path clip-path=\"url(#p91f7a06b0a)\" d=\"M 177.585 151.622063 \nL 211.065 151.622063 \nL 211.065 98.250226 \nL 177.585 98.250226 \nL 177.585 151.622063 \n\" style=\"fill:none;stroke:#1f77b4;stroke-linecap:square;\"/>\n   </g>\n   <g id=\"line2d_40\">\n    <path clip-path=\"url(#p91f7a06b0a)\" d=\"M 194.325 151.622063 \nL 194.325 183.852148 \n\" style=\"fill:none;stroke:#1f77b4;stroke-linecap:square;\"/>\n   </g>\n   <g id=\"line2d_41\">\n    <path clip-path=\"url(#p91f7a06b0a)\" d=\"M 194.325 98.250226 \nL 194.325 28.91119 \n\" style=\"fill:none;stroke:#1f77b4;stroke-linecap:square;\"/>\n   </g>\n   <g id=\"line2d_42\">\n    <path clip-path=\"url(#p91f7a06b0a)\" d=\"M 185.955 183.852148 \nL 202.695 183.852148 \n\" style=\"fill:none;stroke:#000000;stroke-linecap:square;\"/>\n   </g>\n   <g id=\"line2d_43\">\n    <path clip-path=\"url(#p91f7a06b0a)\" d=\"M 185.955 28.91119 \nL 202.695 28.91119 \n\" style=\"fill:none;stroke:#000000;stroke-linecap:square;\"/>\n   </g>\n   <g id=\"line2d_44\">\n    <g clip-path=\"url(#p91f7a06b0a)\">\n     <use style=\"fill-opacity:0;stroke:#000000;\" x=\"194.325\" xlink:href=\"#m4c428d8fe0\" y=\"17.083636\"/>\n    </g>\n   </g>\n   <g id=\"line2d_45\">\n    <path clip-path=\"url(#p91f7a06b0a)\" d=\"M 244.545 200.912655 \nL 278.025 200.912655 \nL 278.025 181.583032 \nL 244.545 181.583032 \nL 244.545 200.912655 \n\" style=\"fill:none;stroke:#1f77b4;stroke-linecap:square;\"/>\n   </g>\n   <g id=\"line2d_46\">\n    <path clip-path=\"url(#p91f7a06b0a)\" d=\"M 261.285 200.912655 \nL 261.285 213.041368 \n\" style=\"fill:none;stroke:#1f77b4;stroke-linecap:square;\"/>\n   </g>\n   <g id=\"line2d_47\">\n    <path clip-path=\"url(#p91f7a06b0a)\" d=\"M 261.285 181.583032 \nL 261.285 162.697976 \n\" style=\"fill:none;stroke:#1f77b4;stroke-linecap:square;\"/>\n   </g>\n   <g id=\"line2d_48\">\n    <path clip-path=\"url(#p91f7a06b0a)\" d=\"M 252.915 213.041368 \nL 269.655 213.041368 \n\" style=\"fill:none;stroke:#000000;stroke-linecap:square;\"/>\n   </g>\n   <g id=\"line2d_49\">\n    <path clip-path=\"url(#p91f7a06b0a)\" d=\"M 252.915 162.697976 \nL 269.655 162.697976 \n\" style=\"fill:none;stroke:#000000;stroke-linecap:square;\"/>\n   </g>\n   <g id=\"line2d_50\"/>\n   <g id=\"line2d_51\">\n    <path clip-path=\"url(#p91f7a06b0a)\" d=\"M 311.505 208.206264 \nL 344.985 208.206264 \nL 344.985 201.033001 \nL 311.505 201.033001 \nL 311.505 208.206264 \n\" style=\"fill:none;stroke:#1f77b4;stroke-linecap:square;\"/>\n   </g>\n   <g id=\"line2d_52\">\n    <path clip-path=\"url(#p91f7a06b0a)\" d=\"M 328.245 208.206264 \nL 328.245 214.756364 \n\" style=\"fill:none;stroke:#1f77b4;stroke-linecap:square;\"/>\n   </g>\n   <g id=\"line2d_53\">\n    <path clip-path=\"url(#p91f7a06b0a)\" d=\"M 328.245 201.033001 \nL 328.245 195.692121 \n\" style=\"fill:none;stroke:#1f77b4;stroke-linecap:square;\"/>\n   </g>\n   <g id=\"line2d_54\">\n    <path clip-path=\"url(#p91f7a06b0a)\" d=\"M 319.875 214.756364 \nL 336.615 214.756364 \n\" style=\"fill:none;stroke:#000000;stroke-linecap:square;\"/>\n   </g>\n   <g id=\"line2d_55\">\n    <path clip-path=\"url(#p91f7a06b0a)\" d=\"M 319.875 195.692121 \nL 336.615 195.692121 \n\" style=\"fill:none;stroke:#000000;stroke-linecap:square;\"/>\n   </g>\n   <g id=\"line2d_56\"/>\n   <g id=\"line2d_57\">\n    <path clip-path=\"url(#p91f7a06b0a)\" d=\"M 43.665 143.638464 \nL 77.145 143.638464 \n\" style=\"fill:none;stroke:#2ca02c;stroke-linecap:square;\"/>\n   </g>\n   <g id=\"line2d_58\">\n    <path clip-path=\"url(#p91f7a06b0a)\" d=\"M 110.625 137.428998 \nL 144.105 137.428998 \n\" style=\"fill:none;stroke:#2ca02c;stroke-linecap:square;\"/>\n   </g>\n   <g id=\"line2d_59\">\n    <path clip-path=\"url(#p91f7a06b0a)\" d=\"M 177.585 131.81091 \nL 211.065 131.81091 \n\" style=\"fill:none;stroke:#2ca02c;stroke-linecap:square;\"/>\n   </g>\n   <g id=\"line2d_60\">\n    <path clip-path=\"url(#p91f7a06b0a)\" d=\"M 244.545 195.443151 \nL 278.025 195.443151 \n\" style=\"fill:none;stroke:#2ca02c;stroke-linecap:square;\"/>\n   </g>\n   <g id=\"line2d_61\">\n    <path clip-path=\"url(#p91f7a06b0a)\" d=\"M 311.505 205.632588 \nL 344.985 205.632588 \n\" style=\"fill:none;stroke:#2ca02c;stroke-linecap:square;\"/>\n   </g>\n   <g id=\"patch_3\">\n    <path d=\"M 26.925 224.64 \nL 26.925 7.2 \n\" style=\"fill:none;stroke:#000000;stroke-linecap:square;stroke-linejoin:miter;stroke-width:0.8;\"/>\n   </g>\n   <g id=\"patch_4\">\n    <path d=\"M 361.725 224.64 \nL 361.725 7.2 \n\" style=\"fill:none;stroke:#000000;stroke-linecap:square;stroke-linejoin:miter;stroke-width:0.8;\"/>\n   </g>\n   <g id=\"patch_5\">\n    <path d=\"M 26.925 224.64 \nL 361.725 224.64 \n\" style=\"fill:none;stroke:#000000;stroke-linecap:square;stroke-linejoin:miter;stroke-width:0.8;\"/>\n   </g>\n   <g id=\"patch_6\">\n    <path d=\"M 26.925 7.2 \nL 361.725 7.2 \n\" style=\"fill:none;stroke:#000000;stroke-linecap:square;stroke-linejoin:miter;stroke-width:0.8;\"/>\n   </g>\n  </g>\n </g>\n <defs>\n  <clipPath id=\"p91f7a06b0a\">\n   <rect height=\"217.44\" width=\"334.8\" x=\"26.925\" y=\"7.2\"/>\n  </clipPath>\n </defs>\n</svg>\n",
      "image/png": "[encoded data removed]"
     },
     "metadata": {
      "needs_background": "light"
     }
    }
   ],
   "source": [
    "train.drop(\"Weight\", axis=1).boxplot()"
   ]
  },
  {
   "cell_type": "markdown",
   "id": "7bb224ba",
   "metadata": {},
   "source": [
    "## Initialize all regressors"
   ]
  },
  {
   "cell_type": "code",
   "execution_count": 9,
   "id": "82ea4e84",
   "metadata": {},
   "outputs": [],
   "source": [
    "class DummyRegressor():\n",
    "    def fit(self, X_train, y_train):\n",
    "        self.range = min(y_train), max(y_train)\n",
    "    \n",
    "    def predict(self, X_test):\n",
    "        return np.random.uniform(self.range[0], self.range[1], [len(X_test)])\n",
    "    \n",
    "    def get_params(self, deep=True):\n",
    "        return {}      \n",
    "\n",
    "regressors = {\n",
    "    \"dummy\": DummyRegressor(),\n",
    "    \"decisionTree\": sk.tree.DecisionTreeRegressor(),\n",
    "    \"linearRegression\": sk.linear_model.LinearRegression(),\n",
    "    \"randomForestRegressor\": sk.ensemble.RandomForestRegressor(),\n",
    "    # our regressors\n",
    "    \"autoML\": AutoML(fitting_time=30),\n",
    "}"
   ]
  },
  {
   "cell_type": "markdown",
   "id": "1f7c9376",
   "metadata": {},
   "source": [
    "## Check training performance"
   ]
  },
  {
   "cell_type": "code",
   "execution_count": 10,
   "metadata": {},
   "outputs": [],
   "source": [
    "from sklearn.metrics import make_scorer\n",
    "\n",
    "def relative_squared_error(y_pred, y_test):\n",
    "    avg = np.average(y_test)\n",
    "    error = y_pred-y_test\n",
    "    mean_error = -(y_test-avg)\n",
    "    return np.sum(error**2)/np.sum(mean_error**2)\n",
    "\n",
    "def correlation_coefficient(y_pred, y_test):\n",
    "    return np.corrcoef(np.array([y_pred, y_test]))[0][1]\n",
    "\n",
    "def check_stats(predictor, X, y, name):\n",
    "    \n",
    "    scoring = {\n",
    "        \"MSE\": make_scorer(sk.metrics.mean_absolute_error),\n",
    "        \"RSE\": make_scorer(relative_squared_error),\n",
    "        \"CorrCoef\": make_scorer(correlation_coefficient)\n",
    "    }\n",
    "\n",
    "    result = sk.model_selection.cross_validate(predictor, X, y, scoring=scoring)\n",
    "\n",
    "    fit_time = np.mean(result[\"fit_time\"])\n",
    "    score_time = np.mean(result[\"score_time\"])\n",
    "    mse = np.mean(result[\"test_MSE\"])\n",
    "    rse = np.mean(result[\"test_RSE\"])\n",
    "    corr = np.mean(result[\"test_CorrCoef\"])\n",
    "\n",
    "    return name, mse, rse, corr, fit_time, score_time"
   ]
  },
  {
   "cell_type": "code",
   "execution_count": 11,
   "id": "f0b7a28c",
   "metadata": {},
   "outputs": [],
   "source": [
    "def get_performance(regressors, X, y):\n",
    "    # check stats of all regressors\n",
    "    columns = [\"Name\", \"MAE\", \"RSE\", \"Corr\", \"Fit time\", \"Score time\"]\n",
    "    rows = []\n",
    "    for regressor_name in regressors:\n",
    "        stats = check_stats(regressors[regressor_name], X, y, regressor_name)\n",
    "        rows.append(stats)\n",
    "    stats = pd.DataFrame(rows, columns=columns)\n",
    "    return stats"
   ]
  },
  {
   "cell_type": "markdown",
   "id": "347fe1ee",
   "metadata": {},
   "source": [
    "### Preprocessing - Removing \"Species\""
   ]
  },
  {
   "cell_type": "code",
   "execution_count": 12,
   "id": "bf060aa1",
   "metadata": {
    "tags": []
   },
   "outputs": [
    {
     "output_type": "execute_result",
     "data": {
      "text/plain": [
       "                    Name         MAE       RSE      Corr   Fit time  \\\n",
       "0                  dummy  603.282335  2.486840 -0.115933   0.000652   \n",
       "1           decisionTree   55.324831  0.060627  0.972791   0.003989   \n",
       "2       linearRegression   94.527649  0.128784  0.944607   0.021960   \n",
       "3  randomForestRegressor   39.607190  0.029844  0.986617   0.090588   \n",
       "4                 autoML   41.820260  0.031426  0.986389  30.172975   \n",
       "\n",
       "   Score time  \n",
       "0    0.002319  \n",
       "1    0.002464  \n",
       "2    0.003046  \n",
       "3    0.007805  \n",
       "4    0.008291  "
      ],
      "text/html": "<div>\n<style scoped>\n    .dataframe tbody tr th:only-of-type {\n        vertical-align: middle;\n    }\n\n    .dataframe tbody tr th {\n        vertical-align: top;\n    }\n\n    .dataframe thead th {\n        text-align: right;\n    }\n</style>\n<table border=\"1\" class=\"dataframe\">\n  <thead>\n    <tr style=\"text-align: right;\">\n      <th></th>\n      <th>Name</th>\n      <th>MAE</th>\n      <th>RSE</th>\n      <th>Corr</th>\n      <th>Fit time</th>\n      <th>Score time</th>\n    </tr>\n  </thead>\n  <tbody>\n    <tr>\n      <th>0</th>\n      <td>dummy</td>\n      <td>603.282335</td>\n      <td>2.486840</td>\n      <td>-0.115933</td>\n      <td>0.000652</td>\n      <td>0.002319</td>\n    </tr>\n    <tr>\n      <th>1</th>\n      <td>decisionTree</td>\n      <td>55.324831</td>\n      <td>0.060627</td>\n      <td>0.972791</td>\n      <td>0.003989</td>\n      <td>0.002464</td>\n    </tr>\n    <tr>\n      <th>2</th>\n      <td>linearRegression</td>\n      <td>94.527649</td>\n      <td>0.128784</td>\n      <td>0.944607</td>\n      <td>0.021960</td>\n      <td>0.003046</td>\n    </tr>\n    <tr>\n      <th>3</th>\n      <td>randomForestRegressor</td>\n      <td>39.607190</td>\n      <td>0.029844</td>\n      <td>0.986617</td>\n      <td>0.090588</td>\n      <td>0.007805</td>\n    </tr>\n    <tr>\n      <th>4</th>\n      <td>autoML</td>\n      <td>41.820260</td>\n      <td>0.031426</td>\n      <td>0.986389</td>\n      <td>30.172975</td>\n      <td>0.008291</td>\n    </tr>\n  </tbody>\n</table>\n</div>"
     },
     "metadata": {},
     "execution_count": 12
    }
   ],
   "source": [
    "X_rem = train.drop([\"Weight\", \"Species\"], axis=1)\n",
    "y_rem = train[\"Weight\"]\n",
    "\n",
    "stats_rem = get_performance(regressors, X_rem, y_rem)\n",
    "stats_rem"
   ]
  },
  {
   "cell_type": "markdown",
   "id": "0c541909",
   "metadata": {},
   "source": [
    "### Preprocessing - One-hot encoding \"Species\""
   ]
  },
  {
   "cell_type": "code",
   "execution_count": 13,
   "id": "d03214cc",
   "metadata": {},
   "outputs": [
    {
     "output_type": "execute_result",
     "data": {
      "text/plain": [
       "     Weight  Length1  Length2  Length3  Height   Width  Species_Bream  \\\n",
       "67    170.0     19.0     20.7     23.2  9.3960  3.4104              0   \n",
       "137   500.0     42.0     45.0     48.0  6.9600  4.8960              0   \n",
       "87    120.0     20.0     22.0     23.5  5.6400  3.5250              0   \n",
       "107   300.0     26.9     28.7     30.1  7.5852  4.6354              0   \n",
       "81     85.0     18.2     20.0     21.0  5.0820  2.7720              0   \n",
       "\n",
       "     Species_Parkki  Species_Perch  Species_Pike  Species_Roach  \\\n",
       "67                1              0             0              0   \n",
       "137               0              0             1              0   \n",
       "87                0              1             0              0   \n",
       "107               0              1             0              0   \n",
       "81                0              1             0              0   \n",
       "\n",
       "     Species_Smelt  Species_Whitefish  \n",
       "67               0                  0  \n",
       "137              0                  0  \n",
       "87               0                  0  \n",
       "107              0                  0  \n",
       "81               0                  0  "
      ],
      "text/html": "<div>\n<style scoped>\n    .dataframe tbody tr th:only-of-type {\n        vertical-align: middle;\n    }\n\n    .dataframe tbody tr th {\n        vertical-align: top;\n    }\n\n    .dataframe thead th {\n        text-align: right;\n    }\n</style>\n<table border=\"1\" class=\"dataframe\">\n  <thead>\n    <tr style=\"text-align: right;\">\n      <th></th>\n      <th>Weight</th>\n      <th>Length1</th>\n      <th>Length2</th>\n      <th>Length3</th>\n      <th>Height</th>\n      <th>Width</th>\n      <th>Species_Bream</th>\n      <th>Species_Parkki</th>\n      <th>Species_Perch</th>\n      <th>Species_Pike</th>\n      <th>Species_Roach</th>\n      <th>Species_Smelt</th>\n      <th>Species_Whitefish</th>\n    </tr>\n  </thead>\n  <tbody>\n    <tr>\n      <th>67</th>\n      <td>170.0</td>\n      <td>19.0</td>\n      <td>20.7</td>\n      <td>23.2</td>\n      <td>9.3960</td>\n      <td>3.4104</td>\n      <td>0</td>\n      <td>1</td>\n      <td>0</td>\n      <td>0</td>\n      <td>0</td>\n      <td>0</td>\n      <td>0</td>\n    </tr>\n    <tr>\n      <th>137</th>\n      <td>500.0</td>\n      <td>42.0</td>\n      <td>45.0</td>\n      <td>48.0</td>\n      <td>6.9600</td>\n      <td>4.8960</td>\n      <td>0</td>\n      <td>0</td>\n      <td>0</td>\n      <td>1</td>\n      <td>0</td>\n      <td>0</td>\n      <td>0</td>\n    </tr>\n    <tr>\n      <th>87</th>\n      <td>120.0</td>\n      <td>20.0</td>\n      <td>22.0</td>\n      <td>23.5</td>\n      <td>5.6400</td>\n      <td>3.5250</td>\n      <td>0</td>\n      <td>0</td>\n      <td>1</td>\n      <td>0</td>\n      <td>0</td>\n      <td>0</td>\n      <td>0</td>\n    </tr>\n    <tr>\n      <th>107</th>\n      <td>300.0</td>\n      <td>26.9</td>\n      <td>28.7</td>\n      <td>30.1</td>\n      <td>7.5852</td>\n      <td>4.6354</td>\n      <td>0</td>\n      <td>0</td>\n      <td>1</td>\n      <td>0</td>\n      <td>0</td>\n      <td>0</td>\n      <td>0</td>\n    </tr>\n    <tr>\n      <th>81</th>\n      <td>85.0</td>\n      <td>18.2</td>\n      <td>20.0</td>\n      <td>21.0</td>\n      <td>5.0820</td>\n      <td>2.7720</td>\n      <td>0</td>\n      <td>0</td>\n      <td>1</td>\n      <td>0</td>\n      <td>0</td>\n      <td>0</td>\n      <td>0</td>\n    </tr>\n  </tbody>\n</table>\n</div>"
     },
     "metadata": {},
     "execution_count": 13
    }
   ],
   "source": [
    "train_encoded = pd.get_dummies(train, columns=[\"Species\"])\n",
    "train_encoded.head()"
   ]
  },
  {
   "cell_type": "code",
   "execution_count": 14,
   "id": "67fae60d",
   "metadata": {
    "tags": []
   },
   "outputs": [
    {
     "output_type": "execute_result",
     "data": {
      "text/plain": [
       "                    Name         MAE       RSE      Corr   Fit time  \\\n",
       "0                  dummy  599.937303  2.666192 -0.206880   0.001053   \n",
       "1           decisionTree   51.621938  0.044024  0.979690   0.002504   \n",
       "2       linearRegression   68.195912  0.057817  0.972966   0.001955   \n",
       "3  randomForestRegressor   41.060831  0.031175  0.986214   0.092952   \n",
       "4                 autoML   40.697959  0.029609  0.987013  30.194913   \n",
       "\n",
       "   Score time  \n",
       "0    0.001493  \n",
       "1    0.002230  \n",
       "2    0.002199  \n",
       "3    0.008127  \n",
       "4    0.008242  "
      ],
      "text/html": "<div>\n<style scoped>\n    .dataframe tbody tr th:only-of-type {\n        vertical-align: middle;\n    }\n\n    .dataframe tbody tr th {\n        vertical-align: top;\n    }\n\n    .dataframe thead th {\n        text-align: right;\n    }\n</style>\n<table border=\"1\" class=\"dataframe\">\n  <thead>\n    <tr style=\"text-align: right;\">\n      <th></th>\n      <th>Name</th>\n      <th>MAE</th>\n      <th>RSE</th>\n      <th>Corr</th>\n      <th>Fit time</th>\n      <th>Score time</th>\n    </tr>\n  </thead>\n  <tbody>\n    <tr>\n      <th>0</th>\n      <td>dummy</td>\n      <td>599.937303</td>\n      <td>2.666192</td>\n      <td>-0.206880</td>\n      <td>0.001053</td>\n      <td>0.001493</td>\n    </tr>\n    <tr>\n      <th>1</th>\n      <td>decisionTree</td>\n      <td>51.621938</td>\n      <td>0.044024</td>\n      <td>0.979690</td>\n      <td>0.002504</td>\n      <td>0.002230</td>\n    </tr>\n    <tr>\n      <th>2</th>\n      <td>linearRegression</td>\n      <td>68.195912</td>\n      <td>0.057817</td>\n      <td>0.972966</td>\n      <td>0.001955</td>\n      <td>0.002199</td>\n    </tr>\n    <tr>\n      <th>3</th>\n      <td>randomForestRegressor</td>\n      <td>41.060831</td>\n      <td>0.031175</td>\n      <td>0.986214</td>\n      <td>0.092952</td>\n      <td>0.008127</td>\n    </tr>\n    <tr>\n      <th>4</th>\n      <td>autoML</td>\n      <td>40.697959</td>\n      <td>0.029609</td>\n      <td>0.987013</td>\n      <td>30.194913</td>\n      <td>0.008242</td>\n    </tr>\n  </tbody>\n</table>\n</div>"
     },
     "metadata": {},
     "execution_count": 14
    }
   ],
   "source": [
    "X_enc = train_encoded.drop(\"Weight\", axis=1)\n",
    "y_enc = train_encoded[\"Weight\"]\n",
    "\n",
    "stats_enc = get_performance(regressors, X_enc, y_enc)\n",
    "stats_enc"
   ]
  },
  {
   "cell_type": "markdown",
   "id": "564bba4c",
   "metadata": {},
   "source": [
    "### Preprocessing - One-hot encoding + standardization"
   ]
  },
  {
   "cell_type": "code",
   "execution_count": 15,
   "id": "a20bdba8",
   "metadata": {
    "tags": []
   },
   "outputs": [
    {
     "output_type": "execute_result",
     "data": {
      "text/plain": [
       "                    Name         MAE       RSE      Corr   Fit time  \\\n",
       "0                  dummy  599.062303  2.472411 -0.030323   0.000708   \n",
       "1           decisionTree   52.515262  0.046238  0.978229   0.002733   \n",
       "2       linearRegression   68.195912  0.057817  0.972966   0.001896   \n",
       "3  randomForestRegressor   40.478725  0.029954  0.986904   0.094171   \n",
       "4                 autoML   47.061084  0.044087  0.980646  30.178824   \n",
       "\n",
       "   Score time  \n",
       "0    0.001335  \n",
       "1    0.002065  \n",
       "2    0.002181  \n",
       "3    0.008151  \n",
       "4    0.007279  "
      ],
      "text/html": "<div>\n<style scoped>\n    .dataframe tbody tr th:only-of-type {\n        vertical-align: middle;\n    }\n\n    .dataframe tbody tr th {\n        vertical-align: top;\n    }\n\n    .dataframe thead th {\n        text-align: right;\n    }\n</style>\n<table border=\"1\" class=\"dataframe\">\n  <thead>\n    <tr style=\"text-align: right;\">\n      <th></th>\n      <th>Name</th>\n      <th>MAE</th>\n      <th>RSE</th>\n      <th>Corr</th>\n      <th>Fit time</th>\n      <th>Score time</th>\n    </tr>\n  </thead>\n  <tbody>\n    <tr>\n      <th>0</th>\n      <td>dummy</td>\n      <td>599.062303</td>\n      <td>2.472411</td>\n      <td>-0.030323</td>\n      <td>0.000708</td>\n      <td>0.001335</td>\n    </tr>\n    <tr>\n      <th>1</th>\n      <td>decisionTree</td>\n      <td>52.515262</td>\n      <td>0.046238</td>\n      <td>0.978229</td>\n      <td>0.002733</td>\n      <td>0.002065</td>\n    </tr>\n    <tr>\n      <th>2</th>\n      <td>linearRegression</td>\n      <td>68.195912</td>\n      <td>0.057817</td>\n      <td>0.972966</td>\n      <td>0.001896</td>\n      <td>0.002181</td>\n    </tr>\n    <tr>\n      <th>3</th>\n      <td>randomForestRegressor</td>\n      <td>40.478725</td>\n      <td>0.029954</td>\n      <td>0.986904</td>\n      <td>0.094171</td>\n      <td>0.008151</td>\n    </tr>\n    <tr>\n      <th>4</th>\n      <td>autoML</td>\n      <td>47.061084</td>\n      <td>0.044087</td>\n      <td>0.980646</td>\n      <td>30.178824</td>\n      <td>0.007279</td>\n    </tr>\n  </tbody>\n</table>\n</div>"
     },
     "metadata": {},
     "execution_count": 15
    }
   ],
   "source": [
    "from sklearn import preprocessing\n",
    "\n",
    "min_max_scaler = preprocessing.MinMaxScaler()\n",
    "x_scaled = min_max_scaler.fit_transform(X_enc)\n",
    "\n",
    "X_std = pd.DataFrame(x_scaled, columns=X_enc.columns)\n",
    "y_std = y_enc\n",
    "\n",
    "X_std.index = y_std.index\n",
    "\n",
    "stats_std = get_performance(regressors, X_std, y_std)\n",
    "stats_std"
   ]
  },
  {
   "cell_type": "markdown",
   "id": "e0a80171",
   "metadata": {},
   "source": [
    "The performance checks show that the preprocessing step of one-hot encode the \"Species\" column is better than removing the column and has not real benefit over additional standardization.\n",
    "Therefore one-hot encoding is enough."
   ]
  },
  {
   "cell_type": "markdown",
   "id": "89f1fabe",
   "metadata": {},
   "source": [
    "## Checking performance on test set"
   ]
  },
  {
   "cell_type": "code",
   "execution_count": 16,
   "id": "1650ce28",
   "metadata": {},
   "outputs": [],
   "source": [
    "from time import time\n",
    "\n",
    "def get_test_performance(regressor, X, y):   \n",
    "    t = time()\n",
    "    y_pred = regressor.predict(X)\n",
    "    t = time() - t\n",
    "    \n",
    "    mae = sk.metrics.mean_absolute_error(y_pred, y)\n",
    "    rse = relative_squared_error(y_pred, y)\n",
    "    corr = correlation_coefficient(y_pred,y)\n",
    "    \n",
    "    return mae, rse, corr, t\n",
    "    "
   ]
  },
  {
   "cell_type": "code",
   "execution_count": 17,
   "id": "c0e94cf1",
   "metadata": {},
   "outputs": [
    {
     "output_type": "execute_result",
     "data": {
      "text/plain": [
       "                    Name         MAE       RSE  CorrCoeff  TrainTime  TestTime\n",
       "0                  dummy  611.121082  7.547395   0.150468   0.000030  0.000029\n",
       "1           decisionTree   50.184375  0.066154   0.969656   0.002045  0.001393\n",
       "2       linearRegression   92.812927  0.223035   0.900731   0.004544  0.001185\n",
       "3  randomForestRegressor   31.847187  0.026972   0.986484   0.103606  0.007434\n",
       "4                 autoML   31.928704  0.027897   0.986067  30.218619  0.007882"
      ],
      "text/html": "<div>\n<style scoped>\n    .dataframe tbody tr th:only-of-type {\n        vertical-align: middle;\n    }\n\n    .dataframe tbody tr th {\n        vertical-align: top;\n    }\n\n    .dataframe thead th {\n        text-align: right;\n    }\n</style>\n<table border=\"1\" class=\"dataframe\">\n  <thead>\n    <tr style=\"text-align: right;\">\n      <th></th>\n      <th>Name</th>\n      <th>MAE</th>\n      <th>RSE</th>\n      <th>CorrCoeff</th>\n      <th>TrainTime</th>\n      <th>TestTime</th>\n    </tr>\n  </thead>\n  <tbody>\n    <tr>\n      <th>0</th>\n      <td>dummy</td>\n      <td>611.121082</td>\n      <td>7.547395</td>\n      <td>0.150468</td>\n      <td>0.000030</td>\n      <td>0.000029</td>\n    </tr>\n    <tr>\n      <th>1</th>\n      <td>decisionTree</td>\n      <td>50.184375</td>\n      <td>0.066154</td>\n      <td>0.969656</td>\n      <td>0.002045</td>\n      <td>0.001393</td>\n    </tr>\n    <tr>\n      <th>2</th>\n      <td>linearRegression</td>\n      <td>92.812927</td>\n      <td>0.223035</td>\n      <td>0.900731</td>\n      <td>0.004544</td>\n      <td>0.001185</td>\n    </tr>\n    <tr>\n      <th>3</th>\n      <td>randomForestRegressor</td>\n      <td>31.847187</td>\n      <td>0.026972</td>\n      <td>0.986484</td>\n      <td>0.103606</td>\n      <td>0.007434</td>\n    </tr>\n    <tr>\n      <th>4</th>\n      <td>autoML</td>\n      <td>31.928704</td>\n      <td>0.027897</td>\n      <td>0.986067</td>\n      <td>30.218619</td>\n      <td>0.007882</td>\n    </tr>\n  </tbody>\n</table>\n</div>"
     },
     "metadata": {},
     "execution_count": 17
    }
   ],
   "source": [
    "X_test = pd.get_dummies(test.drop(\"Weight\", axis=1), columns=[\"Species\"])\n",
    "y_test = test[\"Weight\"]\n",
    "\n",
    "X_train = pd.get_dummies(train.drop(\"Weight\", axis=1), columns=[\"Species\"])\n",
    "y_train = train[\"Weight\"]\n",
    "\n",
    "test_performance = []\n",
    "for name in regressors:\n",
    "    regressor = regressors[name]\n",
    "    train_t = time()\n",
    "    regressor.fit(X_train, y_train)\n",
    "    train_t = time() - train_t\n",
    "    mae, rse, corr, test_t = get_test_performance(regressor, X_test, y_test)\n",
    "    test_performance.append((name, mae, rse, corr, train_t, test_t))\n",
    "\n",
    "test_stats = pd.DataFrame(test_performance, columns=[\"Name\", \"MAE\", \"RSE\", \"CorrCoeff\", \"TrainTime\", \"TestTime\"])\n",
    "test_stats"
   ]
  }
 ],
 "metadata": {
  "kernelspec": {
   "name": "python3",
   "display_name": "Python 3.8.10 64-bit ('.venv': venv)"
  },
  "language_info": {
   "codemirror_mode": {
    "name": "ipython",
    "version": 3
   },
   "file_extension": ".py",
   "mimetype": "text/x-python",
   "name": "python",
   "nbconvert_exporter": "python",
   "pygments_lexer": "ipython3",
   "version": "3.8.10"
  },
  "interpreter": {
   "hash": "563216aa715a87f692c73f20a0b3e5e0eafb1d077e201164cbf3cc306015c1e0"
  }
 },
 "nbformat": 4,
 "nbformat_minor": 5
}